{
 "cells": [
  {
   "cell_type": "code",
   "execution_count": 1,
   "id": "5d575cd2",
   "metadata": {
    "execution": {
     "iopub.execute_input": "2025-07-05T07:44:44.894981Z",
     "iopub.status.busy": "2025-07-05T07:44:44.894618Z",
     "iopub.status.idle": "2025-07-05T07:44:54.861713Z",
     "shell.execute_reply": "2025-07-05T07:44:54.860651Z"
    },
    "papermill": {
     "duration": 9.973613,
     "end_time": "2025-07-05T07:44:54.863643",
     "exception": false,
     "start_time": "2025-07-05T07:44:44.890030",
     "status": "completed"
    },
    "tags": []
   },
   "outputs": [],
   "source": [
    "import torch\n",
    "import torch.nn as nn\n",
    "import torch.optim as optim\n",
    "from torchvision import transforms\n",
    "import torchvision.models as models\n",
    "from PIL import Image\n",
    "import os\n",
    "import matplotlib.pyplot as plt\n",
    "import cv2"
   ]
  },
  {
   "cell_type": "code",
   "execution_count": null,
   "id": "13ca1cd0",
   "metadata": {
    "execution": {
     "iopub.execute_input": "2025-07-05T07:44:54.871618Z",
     "iopub.status.busy": "2025-07-05T07:44:54.871101Z",
     "iopub.status.idle": "2025-07-05T07:45:02.869597Z",
     "shell.execute_reply": "2025-07-05T07:45:02.868184Z"
    },
    "papermill": {
     "duration": 8.004559,
     "end_time": "2025-07-05T07:45:02.871740",
     "exception": false,
     "start_time": "2025-07-05T07:44:54.867181",
     "status": "completed"
    },
    "tags": []
   },
   "outputs": [],
   "source": [
    "!pip install -U albumentations"
   ]
  },
  {
   "cell_type": "code",
   "execution_count": 3,
   "id": "1437d029",
   "metadata": {
    "execution": {
     "iopub.execute_input": "2025-07-05T07:45:02.881395Z",
     "iopub.status.busy": "2025-07-05T07:45:02.881030Z",
     "iopub.status.idle": "2025-07-05T07:45:04.911142Z",
     "shell.execute_reply": "2025-07-05T07:45:04.909971Z"
    },
    "papermill": {
     "duration": 2.0372,
     "end_time": "2025-07-05T07:45:04.913232",
     "exception": false,
     "start_time": "2025-07-05T07:45:02.876032",
     "status": "completed"
    },
    "tags": []
   },
   "outputs": [],
   "source": [
    "import albumentations as augment\n",
    "from albumentations.pytorch import ToTensorV2\n",
    "import numpy as np"
   ]
  },
  {
   "cell_type": "code",
   "execution_count": 4,
   "id": "b35541c5",
   "metadata": {
    "execution": {
     "iopub.execute_input": "2025-07-05T07:45:04.922924Z",
     "iopub.status.busy": "2025-07-05T07:45:04.922388Z",
     "iopub.status.idle": "2025-07-05T07:45:04.928177Z",
     "shell.execute_reply": "2025-07-05T07:45:04.926949Z"
    },
    "papermill": {
     "duration": 0.01287,
     "end_time": "2025-07-05T07:45:04.930252",
     "exception": false,
     "start_time": "2025-07-05T07:45:04.917382",
     "status": "completed"
    },
    "tags": []
   },
   "outputs": [],
   "source": [
    "# Load the trained model\n",
    "def load_model(model_path, device=\"cpu\"):\n",
    "    model = models.mobilenet_v3_large(weights=None)  # Initialize MobileNetV3\n",
    "    model.classifier[3] = nn.Linear(model.classifier[3].in_features, 1)  # Adjust output classes\n",
    "    model.load_state_dict(torch.load(model_path, map_location=device)) \n",
    "    print(model.classifier[3].weight)\n",
    "    model.to(device)\n",
    "    model.eval()\n",
    "    return model\n"
   ]
  },
  {
   "cell_type": "code",
   "execution_count": 5,
   "id": "777b9631",
   "metadata": {
    "execution": {
     "iopub.execute_input": "2025-07-05T07:45:04.939644Z",
     "iopub.status.busy": "2025-07-05T07:45:04.939272Z",
     "iopub.status.idle": "2025-07-05T07:45:04.944730Z",
     "shell.execute_reply": "2025-07-05T07:45:04.943620Z"
    },
    "papermill": {
     "duration": 0.012181,
     "end_time": "2025-07-05T07:45:04.946576",
     "exception": false,
     "start_time": "2025-07-05T07:45:04.934395",
     "status": "completed"
    },
    "tags": []
   },
   "outputs": [],
   "source": [
    "# Preprocess images\n",
    "def preprocess_image(image_path):\n",
    "    transform = augment.Compose([\n",
    "        augment.Resize(height=370, width=370),\n",
    "        augment.Normalize(mean=[0.485, 0.456, 0.406], std=[0.229, 0.224, 0.225]),\n",
    "        ToTensorV2(),\n",
    "    ])\n",
    "    image = cv2.imread(image_path)\n",
    "    image = cv2.cvtColor(image, cv2.COLOR_BGR2RGB)\n",
    "    return transform(image = image)[\"image\"].unsqueeze(0).to(torch.float32)\n"
   ]
  },
  {
   "cell_type": "code",
   "execution_count": 6,
   "id": "3fa8f578",
   "metadata": {
    "execution": {
     "iopub.execute_input": "2025-07-05T07:45:04.955882Z",
     "iopub.status.busy": "2025-07-05T07:45:04.955527Z",
     "iopub.status.idle": "2025-07-05T07:45:04.961696Z",
     "shell.execute_reply": "2025-07-05T07:45:04.960538Z"
    },
    "papermill": {
     "duration": 0.012693,
     "end_time": "2025-07-05T07:45:04.963419",
     "exception": false,
     "start_time": "2025-07-05T07:45:04.950726",
     "status": "completed"
    },
    "tags": []
   },
   "outputs": [],
   "source": [
    "# Perform inference\n",
    "def classify_images(model, image_paths, device=\"cpu\"):\n",
    "    results = {}\n",
    "    class_mapping = {1: \"game\", 0: \"real\"}\n",
    "    # sigmoid = nn.Sigmoid()  # Sigmoid activation for binary classification\n",
    "    for image_path in image_paths:\n",
    "        image_tensor = preprocess_image(image_path).to(device)\n",
    "        with torch.no_grad():\n",
    "            output = model(image_tensor)  # output shape: (1,) or (1,1)\n",
    "            probability = torch.sigmoid(output).cpu().numpy()  # ensure it's on CPU\n",
    "            prediction = (probability > 0.5).astype(int)  # Convert probability to binary class\n",
    "        \n",
    "            print(f\"{image_path}: Probability {probability}\")\n",
    "            print(\"Predicted class:\", prediction)\n",
    "        results[image_path] = prediction\n",
    "    return results\n"
   ]
  },
  {
   "cell_type": "code",
   "execution_count": 7,
   "id": "c7fec85e",
   "metadata": {
    "execution": {
     "iopub.execute_input": "2025-07-05T07:45:04.972635Z",
     "iopub.status.busy": "2025-07-05T07:45:04.972311Z",
     "iopub.status.idle": "2025-07-05T07:45:04.977321Z",
     "shell.execute_reply": "2025-07-05T07:45:04.976188Z"
    },
    "papermill": {
     "duration": 0.011603,
     "end_time": "2025-07-05T07:45:04.979059",
     "exception": false,
     "start_time": "2025-07-05T07:45:04.967456",
     "status": "completed"
    },
    "tags": []
   },
   "outputs": [],
   "source": [
    "# Function to display images with predictions\n",
    "def display_images_with_predictions(predictions):\n",
    "    for img_path, pred in predictions.items():\n",
    "        img = Image.open(img_path)\n",
    "        plt.figure()\n",
    "        plt.imshow(img)\n",
    "        plt.title(f\"Predicted Class: {pred}\")\n",
    "        plt.axis(\"off\")\n",
    "        plt.show()"
   ]
  },
  {
   "cell_type": "code",
   "execution_count": null,
   "id": "dcc1657a",
   "metadata": {
    "execution": {
     "iopub.execute_input": "2025-07-05T07:45:04.988178Z",
     "iopub.status.busy": "2025-07-05T07:45:04.987804Z",
     "iopub.status.idle": "2025-07-05T07:58:46.501874Z",
     "shell.execute_reply": "2025-07-05T07:58:46.500115Z"
    },
    "papermill": {
     "duration": 821.520963,
     "end_time": "2025-07-05T07:58:46.503982",
     "exception": false,
     "start_time": "2025-07-05T07:45:04.983019",
     "status": "completed"
    },
    "tags": []
   },
   "outputs": [],
   "source": [
    "model_path = \"/kaggle/input/mobilenetv3large/pytorch/default/1/pretrained_MobileNet_V3_Large.pth\"  # Path of model file\n",
    "device = \"cuda\" if torch.cuda.is_available() else \"cpu\"\n",
    "\n",
    "model = load_model(model_path, device)\n",
    "  \n",
    "# Directory containing images\n",
    "image_dir = [\"/kaggle/input/nilut-combined-nafnet/isp_nilut_output_09_images_nafnet\", \n",
    "             \"/kaggle/input/nilut-combined-nafnet/isp_nilut_output_10_images_nafnet\"]\n",
    "\n",
    "image_files = []\n",
    "for dir_path in image_dir:\n",
    "    image_files.extend(\n",
    "        os.path.join(dir_path, f)\n",
    "        for f in os.listdir(dir_path)\n",
    "        if f.lower().endswith(('.png', '.jpg', '.jpeg'))\n",
    "    )\n",
    "\n",
    "true_label = 0\n",
    "\n",
    "predictions = classify_images(model, image_files, device)\n",
    "\n",
    "correct = 0\n",
    "total = len(predictions)\n",
    "\n",
    "for img, pred in predictions.items():\n",
    "    if pred == true_label:\n",
    "        correct += 1\n",
    "\n",
    "accuracy = correct / total if total > 0 else 0\n",
    "print(f\"\\nAccuracy: {accuracy * 100:.2f}% ({correct}/{total} correct)\")\n",
    "\n",
    "# display_images_with_predictions(predictions)"
   ]
  }
 ],
 "metadata": {
  "kaggle": {
   "accelerator": "none",
   "dataSources": [
    {
     "datasetId": 6931262,
     "sourceId": 11116782,
     "sourceType": "datasetVersion"
    },
    {
     "datasetId": 6957256,
     "sourceId": 11151331,
     "sourceType": "datasetVersion"
    },
    {
     "datasetId": 7720847,
     "sourceId": 12253475,
     "sourceType": "datasetVersion"
    },
    {
     "datasetId": 7788090,
     "sourceId": 12353258,
     "sourceType": "datasetVersion"
    },
    {
     "datasetId": 7796030,
     "sourceId": 12364848,
     "sourceType": "datasetVersion"
    },
    {
     "datasetId": 7795744,
     "isSourceIdPinned": true,
     "sourceId": 12364899,
     "sourceType": "datasetVersion"
    },
    {
     "datasetId": 7803410,
     "sourceId": 12375783,
     "sourceType": "datasetVersion"
    },
    {
     "sourceId": 229550368,
     "sourceType": "kernelVersion"
    },
    {
     "isSourceIdPinned": true,
     "modelId": 384514,
     "modelInstanceId": 363650,
     "sourceId": 447949,
     "sourceType": "modelInstanceVersion"
    },
    {
     "isSourceIdPinned": true,
     "modelId": 384522,
     "modelInstanceId": 363657,
     "sourceId": 447971,
     "sourceType": "modelInstanceVersion"
    },
    {
     "isSourceIdPinned": true,
     "modelId": 384525,
     "modelInstanceId": 363660,
     "sourceId": 447974,
     "sourceType": "modelInstanceVersion"
    },
    {
     "isSourceIdPinned": true,
     "modelId": 384528,
     "modelInstanceId": 363664,
     "sourceId": 447980,
     "sourceType": "modelInstanceVersion"
    }
   ],
   "dockerImageVersionId": 30918,
   "isGpuEnabled": false,
   "isInternetEnabled": true,
   "language": "python",
   "sourceType": "notebook"
  },
  "kernelspec": {
   "display_name": "Python 3",
   "language": "python",
   "name": "python3"
  },
  "language_info": {
   "codemirror_mode": {
    "name": "ipython",
    "version": 3
   },
   "file_extension": ".py",
   "mimetype": "text/x-python",
   "name": "python",
   "nbconvert_exporter": "python",
   "pygments_lexer": "ipython3",
   "version": "3.10.12"
  },
  "papermill": {
   "default_parameters": {},
   "duration": 847.515525,
   "end_time": "2025-07-05T07:58:48.992492",
   "environment_variables": {},
   "exception": null,
   "input_path": "__notebook__.ipynb",
   "output_path": "__notebook__.ipynb",
   "parameters": {},
   "start_time": "2025-07-05T07:44:41.476967",
   "version": "2.6.0"
  }
 },
 "nbformat": 4,
 "nbformat_minor": 5
}
