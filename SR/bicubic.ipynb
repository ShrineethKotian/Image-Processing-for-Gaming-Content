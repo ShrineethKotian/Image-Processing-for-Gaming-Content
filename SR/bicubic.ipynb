{
 "cells": [
  {
   "cell_type": "code",
   "execution_count": 1,
   "metadata": {},
   "outputs": [
    {
     "name": "stdout",
     "output_type": "stream",
     "text": [
      "Requirement already satisfied: opencv-python-headless in /home/mcstudent/miniconda3/lib/python3.12/site-packages (4.11.0.86)\n",
      "Requirement already satisfied: pillow in /home/mcstudent/miniconda3/lib/python3.12/site-packages (11.0.0)\n",
      "Requirement already satisfied: numpy>=1.21.2 in /home/mcstudent/miniconda3/lib/python3.12/site-packages (from opencv-python-headless) (1.26.4)\n"
     ]
    }
   ],
   "source": [
    "! pip install opencv-python-headless pillow"
   ]
  },
  {
   "cell_type": "code",
   "execution_count": 1,
   "metadata": {},
   "outputs": [],
   "source": [
    "import cv2\n",
    "import os\n",
    "from PIL import Image"
   ]
  },
  {
   "cell_type": "code",
   "execution_count": 2,
   "metadata": {},
   "outputs": [],
   "source": [
    "input_folder = 'input'  # Folder containing 1080p images\n",
    "output_folder = 'results'  # Folder to save upscaled 4K images\n",
    "\n",
    "# Create the output folder if it doesn't exist\n",
    "if not os.path.exists(output_folder):\n",
    "    os.makedirs(output_folder)"
   ]
  },
  {
   "cell_type": "code",
   "execution_count": 3,
   "metadata": {},
   "outputs": [],
   "source": [
    "def upscale_image(image_path, output_path):\n",
    "    # Load the image\n",
    "    image = cv2.imread(image_path)\n",
    "    \n",
    "    # Get the original dimensions\n",
    "    height, width = image.shape[:2]\n",
    "    \n",
    "    # Calculate the new dimensions (4K resolution: 3840x2160)\n",
    "    new_width = 3840\n",
    "    new_height = 2160\n",
    "    \n",
    "    # Upscale the image using bicubic interpolation\n",
    "    upscaled_image = cv2.resize(image, (new_width, new_height), interpolation=cv2.INTER_CUBIC)\n",
    "    \n",
    "    # Save the upscaled image\n",
    "    cv2.imwrite(output_path, upscaled_image)"
   ]
  },
  {
   "cell_type": "code",
   "execution_count": 6,
   "metadata": {},
   "outputs": [
    {
     "name": "stdout",
     "output_type": "stream",
     "text": [
      "Upscaled 047_00120.jpg and saved to results/047_00120.jpg\n",
      "Upscaled 043_04640.jpg and saved to results/043_04640.jpg\n",
      "Upscaled 004_00120.jpg and saved to results/004_00120.jpg\n"
     ]
    }
   ],
   "source": [
    "# Loop through all images in the input folder\n",
    "for filename in os.listdir(input_folder):\n",
    "    if filename.endswith(('.png', '.jpg', '.jpeg', '.bmp', '.tiff')):\n",
    "        input_path = os.path.join(input_folder, filename)\n",
    "        output_path = os.path.join(output_folder, filename)\n",
    "        \n",
    "        # Upscale the image\n",
    "        upscale_image(input_path, output_path)\n",
    "        print(f\"Upscaled {filename} and saved to {output_path}\")"
   ]
  },
  {
   "cell_type": "code",
   "execution_count": null,
   "metadata": {},
   "outputs": [],
   "source": []
  }
 ],
 "metadata": {
  "kernelspec": {
   "display_name": "base",
   "language": "python",
   "name": "python3"
  },
  "language_info": {
   "codemirror_mode": {
    "name": "ipython",
    "version": 3
   },
   "file_extension": ".py",
   "mimetype": "text/x-python",
   "name": "python",
   "nbconvert_exporter": "python",
   "pygments_lexer": "ipython3",
   "version": "3.12.8"
  }
 },
 "nbformat": 4,
 "nbformat_minor": 2
}
