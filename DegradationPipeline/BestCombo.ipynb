{
 "cells": [
  {
   "cell_type": "code",
   "execution_count": 6,
   "id": "e63020e9",
   "metadata": {},
   "outputs": [],
   "source": [
    "import os\n",
    "import shutil\n",
    "import random\n",
    "from PIL import Image\n",
    "import numpy as np\n",
    "from cleanfid import fid\n",
    "import cv2\n",
    "from os import listdir\n",
    "from os.path import isfile, join\n",
    "from tqdm import tqdm\n",
    "import torch\n",
    "import torch.nn.functional as F\n",
    "from torchvision import transforms\n",
    "from glob import glob\n",
    "from itertools import combinations\n",
    "import pandas as pd"
   ]
  },
  {
   "cell_type": "code",
   "execution_count": 7,
   "id": "a94c0e56",
   "metadata": {},
   "outputs": [],
   "source": [
    "# Set random seed for reproducibility\n",
    "random.seed(73)\n",
    "np.random.seed(73)\n",
    "torch.manual_seed(73)\n",
    "device = torch.device('cuda' if torch.cuda.is_available() else 'cpu')"
   ]
  },
  {
   "cell_type": "code",
   "execution_count": 8,
   "id": "66c0ed66",
   "metadata": {},
   "outputs": [],
   "source": [
    "# Utility functions\n",
    "def pil_to_tensor(image):\n",
    "    return transforms.ToTensor()(image).unsqueeze(0).to(device)\n",
    "\n",
    "def tensor_to_pil(tensor):\n",
    "    return transforms.ToPILImage()(tensor.squeeze(0).cpu())"
   ]
  },
  {
   "cell_type": "code",
   "execution_count": 9,
   "id": "331a1c49",
   "metadata": {},
   "outputs": [],
   "source": [
    "def downscale_upscale(image, scale_factor=0.3):\n",
    "    \"\"\"\n",
    "    Downscale and then upscale the image to remove fine details using PyTorch.\n",
    "    \n",
    "    Args:\n",
    "        image (torch.Tensor): Input image tensor (1, C, H, W).\n",
    "        scale_factor (float): Scaling factor for downscaling.\n",
    "\n",
    "    Returns:\n",
    "        torch.Tensor: Image with reduced details.\n",
    "    \"\"\"\n",
    "    # Ensure input is 4D tensor (batch, channel, height, width)\n",
    "    if len(image.shape) == 3:\n",
    "        image = image.unsqueeze(0)  # Add batch dimension if missing\n",
    "    \n",
    "    _, c, h, w = image.shape\n",
    "    \n",
    "    # Calculate new dimensions (minimum size of 1 to prevent errors)\n",
    "    new_h = max(1, int(h * scale_factor))\n",
    "    new_w = max(1, int(w * scale_factor))\n",
    "    \n",
    "    # Downscale\n",
    "    downscaled = F.interpolate(image, size=(new_h, new_w), mode='bilinear', align_corners=False)\n",
    "    \n",
    "    # Upscale back to original size\n",
    "    upscaled = F.interpolate(downscaled, size=(h, w), mode='bicubic', align_corners=False)\n",
    "    \n",
    "    return upscaled"
   ]
  },
  {
   "cell_type": "code",
   "execution_count": 10,
   "id": "d40568c4",
   "metadata": {},
   "outputs": [],
   "source": [
    "def apply_gaussian_blur(image, kernel_size=5, sigma=1.0):\n",
    "    \"\"\"\n",
    "    Apply Gaussian blur to the image using PyTorch.\n",
    "    \n",
    "    Args:\n",
    "        image (torch.Tensor): Input image tensor (1, C, H, W).\n",
    "        kernel_size (int): Size of the Gaussian kernel.\n",
    "        sigma (float): Standard deviation of the Gaussian kernel.\n",
    "\n",
    "    Returns:\n",
    "        torch.Tensor: Blurred image.\n",
    "    \"\"\"\n",
    "    # Create 1D Gaussian kernel\n",
    "    x = torch.arange(kernel_size, dtype=torch.float32, device=device) - kernel_size // 2\n",
    "    kernel_1d = torch.exp(-x.pow(2) / (2 * sigma ** 2))\n",
    "    kernel_1d = kernel_1d / kernel_1d.sum()\n",
    "    \n",
    "    # Create 2D kernel\n",
    "    kernel_2d = torch.outer(kernel_1d, kernel_1d).unsqueeze(0).unsqueeze(0)\n",
    "    \n",
    "    # Apply padding\n",
    "    padding = kernel_size // 2\n",
    "    \n",
    "    # Apply convolution to each channel separately\n",
    "    channels = []\n",
    "    for c in range(image.shape[1]):\n",
    "        channel = image[:, c:c+1, :, :]\n",
    "        blurred = F.conv2d(channel, kernel_2d, padding=padding)\n",
    "        channels.append(blurred)\n",
    "    \n",
    "    return torch.cat(channels, dim=1)"
   ]
  },
  {
   "cell_type": "code",
   "execution_count": 11,
   "id": "553c18d2",
   "metadata": {},
   "outputs": [],
   "source": [
    "def apply_gaussian_blur(image, kernel_size=5, sigma=1.0):\n",
    "    \"\"\"\n",
    "    Apply Gaussian blur to the image using PyTorch.\n",
    "    \n",
    "    Args:\n",
    "        image (torch.Tensor): Input image tensor (1, C, H, W).\n",
    "        kernel_size (int): Size of the Gaussian kernel.\n",
    "        sigma (float): Standard deviation of the Gaussian kernel.\n",
    "\n",
    "    Returns:\n",
    "        torch.Tensor: Blurred image.\n",
    "    \"\"\"\n",
    "    # Create 1D Gaussian kernel\n",
    "    x = torch.arange(kernel_size, dtype=torch.float32, device=device) - kernel_size // 2\n",
    "    kernel_1d = torch.exp(-x.pow(2) / (2 * sigma ** 2))\n",
    "    kernel_1d = kernel_1d / kernel_1d.sum()\n",
    "    \n",
    "    # Create 2D kernel\n",
    "    kernel_2d = torch.outer(kernel_1d, kernel_1d).unsqueeze(0).unsqueeze(0)\n",
    "    \n",
    "    # Apply padding\n",
    "    padding = kernel_size // 2\n",
    "    \n",
    "    # Apply convolution to each channel separately\n",
    "    channels = []\n",
    "    for c in range(image.shape[1]):\n",
    "        channel = image[:, c:c+1, :, :]\n",
    "        blurred = F.conv2d(channel, kernel_2d, padding=padding)\n",
    "        channels.append(blurred)\n",
    "    \n",
    "    return torch.cat(channels, dim=1)"
   ]
  },
  {
   "cell_type": "code",
   "execution_count": 12,
   "id": "db1a13e5",
   "metadata": {},
   "outputs": [],
   "source": [
    "def apply_median_filter(image, kernel_size=5):\n",
    "    \"\"\"\n",
    "    Apply a median filter to the image using PyTorch.\n",
    "    \n",
    "    Args:\n",
    "        image (torch.Tensor): Input image tensor (1, C, H, W).\n",
    "        kernel_size (int): Size of the median filter kernel.\n",
    "\n",
    "    Returns:\n",
    "        torch.Tensor: Filtered image.\n",
    "    \"\"\"\n",
    "    padding = kernel_size // 2\n",
    "    padded = F.pad(image, (padding, padding, padding, padding), mode='reflect')\n",
    "\n",
    "    # Extract shape\n",
    "    b, c, h, w = image.shape\n",
    "    unfolded = F.unfold(padded, kernel_size=kernel_size)\n",
    "\n",
    "    # Now reshape using actual dimensions\n",
    "    unfolded = unfolded.view(b, c, kernel_size * kernel_size, h * w)\n",
    "    median = torch.median(unfolded, dim=2)[0]\n",
    "\n",
    "    return median.view(b, c, h, w)"
   ]
  },
  {
   "cell_type": "code",
   "execution_count": 13,
   "id": "80540bec",
   "metadata": {},
   "outputs": [],
   "source": [
    "def apply_bilateral_filter(image, sigma_space=5, sigma_color=0.1, kernel_size=5):\n",
    "    \"\"\"\n",
    "    Fixed bilateral filtering using PyTorch.\n",
    "    Args:\n",
    "        image (torch.Tensor): Input image tensor (1, C, H, W).\n",
    "        sigma_space (float): Spatial standard deviation.\n",
    "        sigma_color (float): Color standard deviation.\n",
    "        kernel_size (int): Size of the filter kernel.\n",
    "    Returns:\n",
    "        torch.Tensor: Filtered image.\n",
    "    \"\"\"\n",
    "    padding = kernel_size // 2\n",
    "    b, c, h, w = image.shape\n",
    "    \n",
    "    # Create spatial kernel\n",
    "    grid = torch.stack(torch.meshgrid(\n",
    "        torch.arange(kernel_size, device=device), \n",
    "        torch.arange(kernel_size, device=device), indexing='ij'))\n",
    "    center = kernel_size // 2\n",
    "    spatial_dist = ((grid - center) ** 2).sum(dim=0).sqrt()\n",
    "    spatial_kernel = torch.exp(-0.5 * (spatial_dist / sigma_space) ** 2)\n",
    "    spatial_kernel = spatial_kernel.view(1, -1, 1)\n",
    "    \n",
    "    # Unfold the image\n",
    "    unfolded = F.unfold(image, kernel_size=kernel_size, padding=padding)\n",
    "    unfolded = unfolded.view(b, c, kernel_size*kernel_size, h*w)\n",
    "    \n",
    "    # Compute center pixels (using mean of neighborhood)\n",
    "    center_pixels = F.avg_pool2d(image, kernel_size=kernel_size, stride=1, padding=padding)\n",
    "    center_pixels = center_pixels.view(b, c, 1, h*w)\n",
    "    \n",
    "    # Compute color distances\n",
    "    color_dist = (unfolded - center_pixels).abs().mean(dim=1)  # Mean across channels\n",
    "    color_kernel = torch.exp(-0.5 * (color_dist / sigma_color) ** 2)\n",
    "    \n",
    "    # Combine kernels\n",
    "    combined_kernel = spatial_kernel * color_kernel\n",
    "    combined_kernel = combined_kernel / (combined_kernel.sum(dim=1, keepdim=True) + 1e-8)\n",
    "    \n",
    "    # Apply filter\n",
    "    filtered = (unfolded * combined_kernel.unsqueeze(1)).sum(dim=2)\n",
    "    return filtered.view(b, c, h, w)"
   ]
  },
  {
   "cell_type": "code",
   "execution_count": 14,
   "id": "ec97d219",
   "metadata": {},
   "outputs": [],
   "source": [
    "# @torch.compile(mode=\"reduce-overhead\")\n",
    "def apply_color_quantization(image, n_colors=64):\n",
    "    \"\"\"\n",
    "    Fixed color quantization implementation.\n",
    "    Args:\n",
    "        image (torch.Tensor): Input image tensor (1, C, H, W).\n",
    "        n_colors (int): Number of colors to quantize to.\n",
    "    Returns:\n",
    "        torch.Tensor: Quantized image.\n",
    "    \"\"\"\n",
    "    # Reshape to pixels x channels\n",
    "    b, c, h, w = image.shape\n",
    "    pixels = image.permute(0, 2, 3, 1).reshape(-1, c)\n",
    "    \n",
    "    # Simple k-means clustering (approximate)\n",
    "    k = min(n_colors, len(pixels))\n",
    "    centroids = pixels[torch.randperm(len(pixels))[:k]]\n",
    "    \n",
    "    for _ in range(5):  # Reduced iterations for speed\n",
    "        distances = torch.cdist(pixels, centroids)\n",
    "        labels = distances.argmin(dim=1)\n",
    "        for i in range(k):\n",
    "            if (labels == i).any():\n",
    "                centroids[i] = pixels[labels == i].mean(dim=0)\n",
    "    \n",
    "    # Replace pixels with nearest centroid\n",
    "    distances = torch.cdist(pixels, centroids)\n",
    "    quantized_pixels = centroids[distances.argmin(dim=1)]\n",
    "    \n",
    "    return quantized_pixels.view(b, h, w, c).permute(0, 3, 1, 2)"
   ]
  },
  {
   "cell_type": "code",
   "execution_count": 15,
   "id": "00c7558a",
   "metadata": {},
   "outputs": [],
   "source": [
    "# @torch.compile()\n",
    "def enhance_edges(image, edge_threshold=0.2, enhancement_factor=2.0):\n",
    "    sobel_x = torch.tensor([[-1, 0, 1], [-2, 0, 2], [-1, 0, 1]], dtype=torch.float32, device=device).view(1, 1, 3, 3)\n",
    "    sobel_y = torch.tensor([[-1, -2, -1], [0, 0, 0], [1, 2, 1]], dtype=torch.float32, device=device).view(1, 1, 3, 3) \n",
    "    grad_x = F.conv2d(image.mean(dim=1, keepdim=True), sobel_x, padding=1)\n",
    "    grad_y = F.conv2d(image.mean(dim=1, keepdim=True), sobel_y, padding=1)\n",
    "    edge_magnitude = torch.sqrt(grad_x**2 + grad_y**2)\n",
    "    edge_mask = (edge_magnitude > edge_threshold).float()\n",
    "    enhanced = image * (1 + (enhancement_factor - 1) * edge_mask)\n",
    "    return torch.clamp(enhanced, 0, 1)"
   ]
  },
  {
   "cell_type": "code",
   "execution_count": 16,
   "id": "96c41137",
   "metadata": {},
   "outputs": [],
   "source": [
    "# @torch.compile()  \n",
    "def apply_motion_blur(img_tensor, intensity):\n",
    "    \"\"\"\n",
    "    Apply motion blur to an image tensor.\n",
    "    \n",
    "    Args:\n",
    "        img_tensor (torch.Tensor): Input image tensor (CxHxW or BxCxHxW)\n",
    "        intensity (float): Blur intensity (controls kernel size)\n",
    "        \n",
    "    Returns:\n",
    "        torch.Tensor: Blurred image tensor\n",
    "    \"\"\"\n",
    "    # Ensure we have batch dimension\n",
    "    has_batch = len(img_tensor.shape) == 4\n",
    "    if not has_batch:\n",
    "        img_tensor = img_tensor.unsqueeze(0)\n",
    "    \n",
    "    # Get device from input tensor\n",
    "    device = img_tensor.device\n",
    "    \n",
    "    # Create motion blur kernel\n",
    "    kernel_size = max(3, int(intensity * 10))\n",
    "    kernel = torch.zeros((kernel_size, kernel_size), device=device)\n",
    "    kernel[kernel_size//2, :] = 1.0 / kernel_size\n",
    "    \n",
    "    # Expand for RGB channels\n",
    "    kernel = kernel.unsqueeze(0).unsqueeze(0)  # (1,1,k,k)\n",
    "    kernel = kernel.expand(3, -1, -1, -1)      # (3,1,k,k)\n",
    "    \n",
    "    # Apply convolution\n",
    "    padding = kernel_size // 2\n",
    "    result = torch.nn.functional.conv2d(img_tensor, kernel, padding=padding, groups=3)\n",
    "    \n",
    "    return result if has_batch else result.squeeze(0)"
   ]
  },
  {
   "cell_type": "code",
   "execution_count": 17,
   "id": "e2d233d8",
   "metadata": {},
   "outputs": [],
   "source": [
    "# @torch.compile()\n",
    "def add_chromatic_aberration(img_tensor, max_shift):\n",
    "    \"\"\"\n",
    "    Add chromatic aberration effect by shifting color channels.\n",
    "    \n",
    "    Args:\n",
    "        img_tensor (torch.Tensor): Input image tensor (CxHxW or BxCxHxW)\n",
    "        max_shift (float): Maximum pixel shift amount\n",
    "        \n",
    "    Returns:\n",
    "        torch.Tensor: Image with chromatic aberration\n",
    "    \"\"\"\n",
    "    # Ensure we have batch dimension\n",
    "    has_batch = len(img_tensor.shape) == 4\n",
    "    if not has_batch:\n",
    "        img_tensor = img_tensor.unsqueeze(0)\n",
    "    \n",
    "    # Get spatial dimensions\n",
    "    _, c, h, w = img_tensor.shape\n",
    "    \n",
    "    # Create shifted versions of each channel\n",
    "    shifted = []\n",
    "    for i in range(c):\n",
    "        # Random shift in x and y directions\n",
    "        shifts = torch.randint(-int(max_shift), int(max_shift)+1, (2,), device=img_tensor.device)\n",
    "        shift_x, shift_y = shifts[0], shifts[1]\n",
    "        \n",
    "        # Apply shift\n",
    "        channel = img_tensor[:, i:i+1]\n",
    "        channel = torch.roll(channel, shifts=(shift_x, shift_y), dims=(-1, -2))\n",
    "        shifted.append(channel)\n",
    "    \n",
    "    result = torch.cat(shifted, dim=1)\n",
    "    return result if has_batch else result.squeeze(0)"
   ]
  },
  {
   "cell_type": "code",
   "execution_count": 18,
   "id": "7c5e56dd",
   "metadata": {},
   "outputs": [],
   "source": [
    "DEGRADATION_FUNCTIONS = [\n",
    "    {\n",
    "        'name': 'downscale_upscale',\n",
    "        'func': downscale_upscale,\n",
    "        'params': {'scale_factor': (0.4, 0.7)}\n",
    "    },\n",
    "    {\n",
    "        'name': 'enhance_edges',\n",
    "        'func': enhance_edges,\n",
    "        'params': {\n",
    "            'edge_threshold': (0.15, 0.25),\n",
    "            'enhancement_factor': (1.0, 1.3)\n",
    "        }\n",
    "    },\n",
    "    {\n",
    "        'name': 'gaussian_blur',\n",
    "        'func': apply_gaussian_blur,\n",
    "        'params': {\n",
    "            'kernel_size': [3, 5, 7, 9],\n",
    "            'sigma': (0.5, 1.5)\n",
    "        }\n",
    "    },\n",
    "    {\n",
    "        'name': 'median_filter',\n",
    "        'func': apply_median_filter,\n",
    "        'params': {\n",
    "            'kernel_size': [3, 5, 7, 9]\n",
    "        }\n",
    "    },\n",
    "    {\n",
    "        'name': 'bilateral_filter',\n",
    "        'func': apply_bilateral_filter,\n",
    "        'params': {\n",
    "            'sigma_space': (3, 5),\n",
    "            'sigma_color': (0.05, 0.3),\n",
    "            'kernel_size': [3, 5, 7, 9]\n",
    "        }\n",
    "    },\n",
    "    {\n",
    "        'name': 'color_quantization',\n",
    "        'func': apply_color_quantization,\n",
    "        'params': {\n",
    "            'n_colors': [32, 64]\n",
    "        }\n",
    "    },\n",
    "    {\n",
    "        'name': 'motion_blur',\n",
    "        'func': apply_motion_blur,\n",
    "        'params': {\n",
    "            'intensity': (0.2, 0.3)\n",
    "        }\n",
    "    },\n",
    "    {\n",
    "        'name': 'chromatic_aberration',\n",
    "        'func': add_chromatic_aberration,\n",
    "        'params': {\n",
    "            'max_shift': (1.0, 2.0)\n",
    "        }\n",
    "    }\n",
    "]"
   ]
  },
  {
   "cell_type": "code",
   "execution_count": 40,
   "id": "9b661dca",
   "metadata": {},
   "outputs": [],
   "source": [
    "def generate_pipeline_combination(combination):\n",
    "    \"\"\"Create a pipeline function that only applies the specified combination of degradations\"\"\"\n",
    "    def combo_pipeline(image):\n",
    "        try:\n",
    "            img_tensor = pil_to_tensor(image)\n",
    "            \n",
    "            if img_tensor.shape[1] == 4:\n",
    "                img_tensor = img_tensor[:, :3, :, :]\n",
    "            \n",
    "            for func_info in combination:\n",
    "                func = func_info['func']\n",
    "                params = {}\n",
    "                \n",
    "                # Generate random parameters within specified ranges\n",
    "                for param_name, param_range in func_info['params'].items():\n",
    "                    if isinstance(param_range, (list, tuple)):\n",
    "                        if isinstance(param_range[0], int):  # Discrete choices\n",
    "                            params[param_name] = random.choice(param_range)\n",
    "                        else:  # Continuous range\n",
    "                            params[param_name] = np.random.uniform(param_range[0], param_range[1])\n",
    "                \n",
    "                try:\n",
    "                    img_tensor = func(img_tensor, **params)\n",
    "                except Exception as e:\n",
    "                    print(f\"{func_info['name']} failed: {e}\")\n",
    "                    continue\n",
    "            \n",
    "            return tensor_to_pil(img_tensor.clamp(0, 1))\n",
    "        \n",
    "        except Exception as e:\n",
    "            print(f\"Error processing image: {e}\")\n",
    "            return image\n",
    "    \n",
    "    return combo_pipeline"
   ]
  },
  {
   "cell_type": "code",
   "execution_count": 19,
   "id": "bafffe09",
   "metadata": {},
   "outputs": [],
   "source": [
    "# Randomly select N images from a folder\n",
    "def select_random_images(folder, n=1000):\n",
    "    all_images = sorted(os.listdir(folder))\n",
    "    return random.sample(all_images, min(n, len(all_images)))"
   ]
  },
  {
   "cell_type": "code",
   "execution_count": 20,
   "id": "13562466",
   "metadata": {},
   "outputs": [],
   "source": [
    "# Define paths\n",
    "PATHS = {\n",
    "        \"game\": \"./inputGTA/\",\n",
    "        \"real\": \"./10k/all/\",\n",
    "        \"degraded\": \"./Degraded/\",\n",
    "        \"Temp_Game\": \"./Temp_Game/\",\n",
    "        \"Temp_Real\": \"./Temp_Real/\"\n",
    "    }"
   ]
  },
  {
   "cell_type": "code",
   "execution_count": 21,
   "id": "594f3cf9",
   "metadata": {},
   "outputs": [],
   "source": [
    "def test_combination(combination, num_images=1000):\n",
    "    \"\"\"Test a specific combination of degradations and return metrics\"\"\"\n",
    "    # Create temporary folder for degraded images\n",
    "    temp_dir = \"./temp_degraded/\"\n",
    "    if os.path.exists(temp_dir):\n",
    "        shutil.rmtree(temp_dir)\n",
    "    os.makedirs(temp_dir, exist_ok=True)\n",
    "    \n",
    "    # Get the pipeline function for this combination\n",
    "    pipeline_func = generate_pipeline_combination(combination)\n",
    "    \n",
    "    # Select random real images to degrade\n",
    "    real_images = select_random_images(PATHS[\"real\"], num_images)\n",
    "    \n",
    "    # Apply degradation pipeline\n",
    "    for filename in tqdm(real_images, desc=f\"Processing {[f['name'] for f in combination]}\"):\n",
    "        try:\n",
    "            img_path = os.path.join(PATHS[\"real\"], filename)\n",
    "            image = Image.open(img_path).convert('RGB')\n",
    "            degraded = pipeline_func(image)\n",
    "            degraded.save(os.path.join(temp_dir, filename))\n",
    "        except Exception as e:\n",
    "            print(f\"Error processing {filename}: {e}\")\n",
    "    \n",
    "    # Calculate metrics\n",
    "    fid_score = fid.compute_fid(PATHS[\"Temp_Game\"], temp_dir, mode=\"clean\", model_name=\"clip_vit_b_32\")\n",
    "    kid_score = fid.compute_kid(PATHS[\"Temp_Game\"], temp_dir, mode=\"clean\")\n",
    "    \n",
    "    # Clean up\n",
    "    shutil.rmtree(temp_dir)\n",
    "    \n",
    "    return {\n",
    "        'combination': [f['name'] for f in combination],\n",
    "        'fid': fid_score,\n",
    "        'kid': kid_score\n",
    "    }"
   ]
  },
  {
   "cell_type": "code",
   "execution_count": 22,
   "id": "65e869d4",
   "metadata": {},
   "outputs": [],
   "source": [
    "def test_all_combinations(max_combo_size=3, num_images=100):\n",
    "    \"\"\"Test all possible combinations up to a certain size\"\"\"\n",
    "    results = []\n",
    "    total_combinations = sum(len(list(combinations(DEGRADATION_FUNCTIONS, i))) for i in range(1, max_combo_size+1))\n",
    "    \n",
    "    with tqdm(total=total_combinations, desc=\"Testing combinations\") as pbar:\n",
    "        # Generate all combinations from size 1 up to max_combo_size\n",
    "        for combo_size in range(1, max_combo_size + 1):\n",
    "            # Generate all possible combinations of this size\n",
    "            for combo in combinations(DEGRADATION_FUNCTIONS, combo_size):\n",
    "                # Test this combination\n",
    "                result = test_combination(combo, num_images)\n",
    "                results.append(result)\n",
    "                pbar.update(1)\n",
    "                \n",
    "                # Print progress\n",
    "                print(f\"\\nTested: {result['combination']}\")\n",
    "                print(f\"FID: {result['fid']:.2f}, KID: {result['kid']:.4f}\")\n",
    "                print(\"-\" * 50)\n",
    "    \n",
    "    # Convert results to DataFrame and save\n",
    "    df = pd.DataFrame(results)\n",
    "    df.to_csv(\"degradation_combination_results.csv\", index=False)\n",
    "    \n",
    "    return df"
   ]
  },
  {
   "cell_type": "code",
   "execution_count": 23,
   "id": "343f2f61",
   "metadata": {},
   "outputs": [],
   "source": [
    "def analyze_results(results_file=\"degradation_combination_results.csv\"):\n",
    "    \"\"\"Analyze the results from combinatorial testing\"\"\"\n",
    "    if not os.path.exists(results_file):\n",
    "        print(\"No results file found. Run test_all_combinations() first.\")\n",
    "        return\n",
    "    \n",
    "    df = pd.read_csv(results_file)\n",
    "    \n",
    "    # Convert string representation of list to actual list\n",
    "    df['combination'] = df['combination'].apply(eval)\n",
    "    \n",
    "    # Find best combinations (lower FID/KID is better)\n",
    "    best_fid = df.loc[df['fid'].idxmin()]\n",
    "    best_kid = df.loc[df['kid'].idxmin()]\n",
    "    \n",
    "    print(\"\\n=== Best FID Combination ===\")\n",
    "    print(f\"Functions: {best_fid['combination']}\")\n",
    "    print(f\"FID: {best_fid['fid']:.2f}, KID: {best_kid['kid']:.4f}\")\n",
    "    \n",
    "    print(\"\\n=== Best KID Combination ===\")\n",
    "    print(f\"Functions: {best_kid['combination']}\")\n",
    "    print(f\"FID: {best_kid['fid']:.2f}, KID: {best_kid['kid']:.4f}\")\n",
    "    \n",
    "    # Also look for good trade-offs between FID and KID\n",
    "    df['combined_score'] = df['fid'] * 0.5 + df['kid'] * 0.5  # Adjust weights as needed\n",
    "    best_combined = df.loc[df['combined_score'].idxmin()]\n",
    "    \n",
    "    print(\"\\n=== Best Combined Score ===\")\n",
    "    print(f\"Functions: {best_combined['combination']}\")\n",
    "    print(f\"FID: {best_combined['fid']:.2f}, KID: {best_combined['kid']:.4f}\")\n",
    "    \n",
    "    return df"
   ]
  },
  {
   "cell_type": "code",
   "execution_count": 46,
   "id": "6e51c3ad",
   "metadata": {},
   "outputs": [
    {
     "name": "stderr",
     "output_type": "stream",
     "text": [
      "Processing ['downscale_upscale']: 100%|██████████| 1000/1000 [00:17<00:00, 57.51it/s]\n"
     ]
    },
    {
     "name": "stdout",
     "output_type": "stream",
     "text": [
      "compute FID between two folders\n",
      "Found 1000 images in the folder ./Temp_Game/\n"
     ]
    },
    {
     "name": "stderr",
     "output_type": "stream",
     "text": [
      "FID  : 100%|██████████| 32/32 [00:14<00:00,  2.16it/s]\n"
     ]
    },
    {
     "name": "stdout",
     "output_type": "stream",
     "text": [
      "Found 1000 images in the folder ./temp_degraded/\n"
     ]
    },
    {
     "name": "stderr",
     "output_type": "stream",
     "text": [
      "FID  : 100%|██████████| 32/32 [00:07<00:00,  4.12it/s]\n"
     ]
    },
    {
     "name": "stdout",
     "output_type": "stream",
     "text": [
      "compute KID between two folders\n",
      "Found 1000 images in the folder ./Temp_Game/\n"
     ]
    },
    {
     "name": "stderr",
     "output_type": "stream",
     "text": [
      "KID  : 100%|██████████| 32/32 [00:20<00:00,  1.54it/s]\n"
     ]
    },
    {
     "name": "stdout",
     "output_type": "stream",
     "text": [
      "Found 1000 images in the folder ./temp_degraded/\n"
     ]
    },
    {
     "name": "stderr",
     "output_type": "stream",
     "text": [
      "KID  : 100%|██████████| 32/32 [00:11<00:00,  2.77it/s]\n",
      "Testing combinations:   1%|          | 1/92 [01:17<1:57:02, 77.17s/it]"
     ]
    },
    {
     "name": "stdout",
     "output_type": "stream",
     "text": [
      "\n",
      "Tested: ['downscale_upscale']\n",
      "FID: 60.19, KID: 0.0437\n",
      "--------------------------------------------------\n"
     ]
    },
    {
     "name": "stderr",
     "output_type": "stream",
     "text": [
      "Processing ['enhance_edges']: 100%|██████████| 1000/1000 [00:18<00:00, 54.70it/s]\n"
     ]
    },
    {
     "name": "stdout",
     "output_type": "stream",
     "text": [
      "compute FID between two folders\n",
      "Found 1000 images in the folder ./Temp_Game/\n"
     ]
    },
    {
     "name": "stderr",
     "output_type": "stream",
     "text": [
      "FID  : 100%|██████████| 32/32 [00:15<00:00,  2.12it/s]\n"
     ]
    },
    {
     "name": "stdout",
     "output_type": "stream",
     "text": [
      "Found 1000 images in the folder ./temp_degraded/\n"
     ]
    },
    {
     "name": "stderr",
     "output_type": "stream",
     "text": [
      "FID  : 100%|██████████| 32/32 [00:07<00:00,  4.21it/s]\n"
     ]
    },
    {
     "name": "stdout",
     "output_type": "stream",
     "text": [
      "compute KID between two folders\n",
      "Found 1000 images in the folder ./Temp_Game/\n"
     ]
    },
    {
     "name": "stderr",
     "output_type": "stream",
     "text": [
      "KID  : 100%|██████████| 32/32 [00:21<00:00,  1.52it/s]\n"
     ]
    },
    {
     "name": "stdout",
     "output_type": "stream",
     "text": [
      "Found 1000 images in the folder ./temp_degraded/\n"
     ]
    },
    {
     "name": "stderr",
     "output_type": "stream",
     "text": [
      "KID  : 100%|██████████| 32/32 [00:11<00:00,  2.69it/s]\n",
      "Testing combinations:   2%|▏         | 2/92 [02:36<1:57:44, 78.50s/it]"
     ]
    },
    {
     "name": "stdout",
     "output_type": "stream",
     "text": [
      "\n",
      "Tested: ['enhance_edges']\n",
      "FID: 59.69, KID: 0.0417\n",
      "--------------------------------------------------\n"
     ]
    },
    {
     "name": "stderr",
     "output_type": "stream",
     "text": [
      "Processing ['gaussian_blur']: 100%|██████████| 1000/1000 [00:17<00:00, 55.69it/s]\n"
     ]
    },
    {
     "name": "stdout",
     "output_type": "stream",
     "text": [
      "compute FID between two folders\n",
      "Found 1000 images in the folder ./Temp_Game/\n"
     ]
    },
    {
     "name": "stderr",
     "output_type": "stream",
     "text": [
      "FID  : 100%|██████████| 32/32 [00:15<00:00,  2.11it/s]\n"
     ]
    },
    {
     "name": "stdout",
     "output_type": "stream",
     "text": [
      "Found 1000 images in the folder ./temp_degraded/\n"
     ]
    },
    {
     "name": "stderr",
     "output_type": "stream",
     "text": [
      "FID  : 100%|██████████| 32/32 [00:07<00:00,  4.11it/s]\n"
     ]
    },
    {
     "name": "stdout",
     "output_type": "stream",
     "text": [
      "compute KID between two folders\n",
      "Found 1000 images in the folder ./Temp_Game/\n"
     ]
    },
    {
     "name": "stderr",
     "output_type": "stream",
     "text": [
      "KID  : 100%|██████████| 32/32 [00:20<00:00,  1.54it/s]\n"
     ]
    },
    {
     "name": "stdout",
     "output_type": "stream",
     "text": [
      "Found 1000 images in the folder ./temp_degraded/\n"
     ]
    },
    {
     "name": "stderr",
     "output_type": "stream",
     "text": [
      "KID  : 100%|██████████| 32/32 [00:11<00:00,  2.71it/s]\n",
      "Testing combinations:   3%|▎         | 3/92 [03:55<1:56:30, 78.54s/it]"
     ]
    },
    {
     "name": "stdout",
     "output_type": "stream",
     "text": [
      "\n",
      "Tested: ['gaussian_blur']\n",
      "FID: 58.99, KID: 0.0461\n",
      "--------------------------------------------------\n"
     ]
    },
    {
     "name": "stderr",
     "output_type": "stream",
     "text": [
      "Processing ['median_filter']: 100%|██████████| 1000/1000 [00:42<00:00, 23.65it/s]\n"
     ]
    },
    {
     "name": "stdout",
     "output_type": "stream",
     "text": [
      "compute FID between two folders\n",
      "Found 1000 images in the folder ./Temp_Game/\n"
     ]
    },
    {
     "name": "stderr",
     "output_type": "stream",
     "text": [
      "FID  : 100%|██████████| 32/32 [00:15<00:00,  2.10it/s]\n"
     ]
    },
    {
     "name": "stdout",
     "output_type": "stream",
     "text": [
      "Found 1000 images in the folder ./temp_degraded/\n"
     ]
    },
    {
     "name": "stderr",
     "output_type": "stream",
     "text": [
      "FID  : 100%|██████████| 32/32 [00:07<00:00,  4.10it/s]\n"
     ]
    },
    {
     "name": "stdout",
     "output_type": "stream",
     "text": [
      "compute KID between two folders\n",
      "Found 1000 images in the folder ./Temp_Game/\n"
     ]
    },
    {
     "name": "stderr",
     "output_type": "stream",
     "text": [
      "KID  : 100%|██████████| 32/32 [00:21<00:00,  1.51it/s]\n"
     ]
    },
    {
     "name": "stdout",
     "output_type": "stream",
     "text": [
      "Found 1000 images in the folder ./temp_degraded/\n"
     ]
    },
    {
     "name": "stderr",
     "output_type": "stream",
     "text": [
      "KID  : 100%|██████████| 32/32 [00:11<00:00,  2.74it/s]\n",
      "Testing combinations:   4%|▍         | 4/92 [05:38<2:09:38, 88.40s/it]"
     ]
    },
    {
     "name": "stdout",
     "output_type": "stream",
     "text": [
      "\n",
      "Tested: ['median_filter']\n",
      "FID: 58.91, KID: 0.0452\n",
      "--------------------------------------------------\n"
     ]
    },
    {
     "name": "stderr",
     "output_type": "stream",
     "text": [
      "Processing ['bilateral_filter']: 100%|██████████| 1000/1000 [00:24<00:00, 40.46it/s]\n"
     ]
    },
    {
     "name": "stdout",
     "output_type": "stream",
     "text": [
      "compute FID between two folders\n",
      "Found 1000 images in the folder ./Temp_Game/\n"
     ]
    },
    {
     "name": "stderr",
     "output_type": "stream",
     "text": [
      "FID  : 100%|██████████| 32/32 [00:15<00:00,  2.11it/s]\n"
     ]
    },
    {
     "name": "stdout",
     "output_type": "stream",
     "text": [
      "Found 1000 images in the folder ./temp_degraded/\n"
     ]
    },
    {
     "name": "stderr",
     "output_type": "stream",
     "text": [
      "FID  : 100%|██████████| 32/32 [00:07<00:00,  4.19it/s]\n"
     ]
    },
    {
     "name": "stdout",
     "output_type": "stream",
     "text": [
      "compute KID between two folders\n",
      "Found 1000 images in the folder ./Temp_Game/\n"
     ]
    },
    {
     "name": "stderr",
     "output_type": "stream",
     "text": [
      "KID  : 100%|██████████| 32/32 [00:21<00:00,  1.51it/s]\n"
     ]
    },
    {
     "name": "stdout",
     "output_type": "stream",
     "text": [
      "Found 1000 images in the folder ./temp_degraded/\n"
     ]
    },
    {
     "name": "stderr",
     "output_type": "stream",
     "text": [
      "KID  : 100%|██████████| 32/32 [00:11<00:00,  2.74it/s]\n",
      "Testing combinations:   5%|▌         | 5/92 [07:03<2:06:29, 87.23s/it]"
     ]
    },
    {
     "name": "stdout",
     "output_type": "stream",
     "text": [
      "\n",
      "Tested: ['bilateral_filter']\n",
      "FID: 59.23, KID: 0.0489\n",
      "--------------------------------------------------\n"
     ]
    },
    {
     "name": "stderr",
     "output_type": "stream",
     "text": [
      "Processing ['color_quantization']: 100%|██████████| 1000/1000 [00:40<00:00, 24.76it/s]\n"
     ]
    },
    {
     "name": "stdout",
     "output_type": "stream",
     "text": [
      "compute FID between two folders\n",
      "Found 1000 images in the folder ./Temp_Game/\n"
     ]
    },
    {
     "name": "stderr",
     "output_type": "stream",
     "text": [
      "FID  : 100%|██████████| 32/32 [00:15<00:00,  2.11it/s]\n"
     ]
    },
    {
     "name": "stdout",
     "output_type": "stream",
     "text": [
      "Found 1000 images in the folder ./temp_degraded/\n"
     ]
    },
    {
     "name": "stderr",
     "output_type": "stream",
     "text": [
      "FID  : 100%|██████████| 32/32 [00:07<00:00,  4.08it/s]\n"
     ]
    },
    {
     "name": "stdout",
     "output_type": "stream",
     "text": [
      "compute KID between two folders\n",
      "Found 1000 images in the folder ./Temp_Game/\n"
     ]
    },
    {
     "name": "stderr",
     "output_type": "stream",
     "text": [
      "KID  : 100%|██████████| 32/32 [00:21<00:00,  1.50it/s]\n"
     ]
    },
    {
     "name": "stdout",
     "output_type": "stream",
     "text": [
      "Found 1000 images in the folder ./temp_degraded/\n"
     ]
    },
    {
     "name": "stderr",
     "output_type": "stream",
     "text": [
      "KID  : 100%|██████████| 32/32 [00:11<00:00,  2.71it/s]\n",
      "Testing combinations:   7%|▋         | 6/92 [08:45<2:12:02, 92.12s/it]"
     ]
    },
    {
     "name": "stdout",
     "output_type": "stream",
     "text": [
      "\n",
      "Tested: ['color_quantization']\n",
      "FID: 55.63, KID: 0.0445\n",
      "--------------------------------------------------\n"
     ]
    },
    {
     "name": "stderr",
     "output_type": "stream",
     "text": [
      "Processing ['motion_blur']: 100%|██████████| 1000/1000 [00:17<00:00, 57.19it/s]\n"
     ]
    },
    {
     "name": "stdout",
     "output_type": "stream",
     "text": [
      "compute FID between two folders\n",
      "Found 1000 images in the folder ./Temp_Game/\n"
     ]
    },
    {
     "name": "stderr",
     "output_type": "stream",
     "text": [
      "FID  : 100%|██████████| 32/32 [00:15<00:00,  2.10it/s]\n"
     ]
    },
    {
     "name": "stdout",
     "output_type": "stream",
     "text": [
      "Found 1000 images in the folder ./temp_degraded/\n"
     ]
    },
    {
     "name": "stderr",
     "output_type": "stream",
     "text": [
      "FID  : 100%|██████████| 32/32 [00:07<00:00,  4.11it/s]\n"
     ]
    },
    {
     "name": "stdout",
     "output_type": "stream",
     "text": [
      "compute KID between two folders\n",
      "Found 1000 images in the folder ./Temp_Game/\n"
     ]
    },
    {
     "name": "stderr",
     "output_type": "stream",
     "text": [
      "KID  : 100%|██████████| 32/32 [00:21<00:00,  1.51it/s]\n"
     ]
    },
    {
     "name": "stdout",
     "output_type": "stream",
     "text": [
      "Found 1000 images in the folder ./temp_degraded/\n"
     ]
    },
    {
     "name": "stderr",
     "output_type": "stream",
     "text": [
      "KID  : 100%|██████████| 32/32 [00:11<00:00,  2.67it/s]\n",
      "Testing combinations:   8%|▊         | 7/92 [10:04<2:04:37, 87.97s/it]"
     ]
    },
    {
     "name": "stdout",
     "output_type": "stream",
     "text": [
      "\n",
      "Tested: ['motion_blur']\n",
      "FID: 59.86, KID: 0.0426\n",
      "--------------------------------------------------\n"
     ]
    },
    {
     "name": "stderr",
     "output_type": "stream",
     "text": [
      "Processing ['chromatic_aberration']: 100%|██████████| 1000/1000 [00:17<00:00, 55.77it/s]\n"
     ]
    },
    {
     "name": "stdout",
     "output_type": "stream",
     "text": [
      "compute FID between two folders\n",
      "Found 1000 images in the folder ./Temp_Game/\n"
     ]
    },
    {
     "name": "stderr",
     "output_type": "stream",
     "text": [
      "FID  : 100%|██████████| 32/32 [00:15<00:00,  2.11it/s]\n"
     ]
    },
    {
     "name": "stdout",
     "output_type": "stream",
     "text": [
      "Found 1000 images in the folder ./temp_degraded/\n"
     ]
    },
    {
     "name": "stderr",
     "output_type": "stream",
     "text": [
      "FID  : 100%|██████████| 32/32 [00:07<00:00,  4.04it/s]\n"
     ]
    },
    {
     "name": "stdout",
     "output_type": "stream",
     "text": [
      "compute KID between two folders\n",
      "Found 1000 images in the folder ./Temp_Game/\n"
     ]
    },
    {
     "name": "stderr",
     "output_type": "stream",
     "text": [
      "KID  : 100%|██████████| 32/32 [00:21<00:00,  1.51it/s]\n"
     ]
    },
    {
     "name": "stdout",
     "output_type": "stream",
     "text": [
      "Found 1000 images in the folder ./temp_degraded/\n"
     ]
    },
    {
     "name": "stderr",
     "output_type": "stream",
     "text": [
      "KID  : 100%|██████████| 32/32 [00:12<00:00,  2.65it/s]\n",
      "Testing combinations:   9%|▊         | 8/92 [11:24<1:59:20, 85.24s/it]"
     ]
    },
    {
     "name": "stdout",
     "output_type": "stream",
     "text": [
      "\n",
      "Tested: ['chromatic_aberration']\n",
      "FID: 54.88, KID: 0.0483\n",
      "--------------------------------------------------\n"
     ]
    },
    {
     "name": "stderr",
     "output_type": "stream",
     "text": [
      "Processing ['downscale_upscale', 'enhance_edges']: 100%|██████████| 1000/1000 [00:17<00:00, 57.64it/s]\n"
     ]
    },
    {
     "name": "stdout",
     "output_type": "stream",
     "text": [
      "compute FID between two folders\n",
      "Found 1000 images in the folder ./Temp_Game/\n"
     ]
    },
    {
     "name": "stderr",
     "output_type": "stream",
     "text": [
      "FID  : 100%|██████████| 32/32 [00:14<00:00,  2.16it/s]\n"
     ]
    },
    {
     "name": "stdout",
     "output_type": "stream",
     "text": [
      "Found 1000 images in the folder ./temp_degraded/\n"
     ]
    },
    {
     "name": "stderr",
     "output_type": "stream",
     "text": [
      "FID  : 100%|██████████| 32/32 [00:07<00:00,  4.16it/s]\n"
     ]
    },
    {
     "name": "stdout",
     "output_type": "stream",
     "text": [
      "compute KID between two folders\n",
      "Found 1000 images in the folder ./Temp_Game/\n"
     ]
    },
    {
     "name": "stderr",
     "output_type": "stream",
     "text": [
      "KID  : 100%|██████████| 32/32 [00:20<00:00,  1.53it/s]\n"
     ]
    },
    {
     "name": "stdout",
     "output_type": "stream",
     "text": [
      "Found 1000 images in the folder ./temp_degraded/\n"
     ]
    },
    {
     "name": "stderr",
     "output_type": "stream",
     "text": [
      "KID  : 100%|██████████| 32/32 [00:11<00:00,  2.70it/s]\n",
      "Testing combinations:  10%|▉         | 9/92 [12:42<1:54:56, 83.09s/it]"
     ]
    },
    {
     "name": "stdout",
     "output_type": "stream",
     "text": [
      "\n",
      "Tested: ['downscale_upscale', 'enhance_edges']\n",
      "FID: 59.76, KID: 0.0432\n",
      "--------------------------------------------------\n"
     ]
    },
    {
     "name": "stderr",
     "output_type": "stream",
     "text": [
      "Processing ['downscale_upscale', 'gaussian_blur']: 100%|██████████| 1000/1000 [00:17<00:00, 55.92it/s]\n"
     ]
    },
    {
     "name": "stdout",
     "output_type": "stream",
     "text": [
      "compute FID between two folders\n",
      "Found 1000 images in the folder ./Temp_Game/\n"
     ]
    },
    {
     "name": "stderr",
     "output_type": "stream",
     "text": [
      "FID  : 100%|██████████| 32/32 [00:15<00:00,  2.10it/s]\n"
     ]
    },
    {
     "name": "stdout",
     "output_type": "stream",
     "text": [
      "Found 1000 images in the folder ./temp_degraded/\n"
     ]
    },
    {
     "name": "stderr",
     "output_type": "stream",
     "text": [
      "FID  : 100%|██████████| 32/32 [00:07<00:00,  4.15it/s]\n"
     ]
    },
    {
     "name": "stdout",
     "output_type": "stream",
     "text": [
      "compute KID between two folders\n",
      "Found 1000 images in the folder ./Temp_Game/\n"
     ]
    },
    {
     "name": "stderr",
     "output_type": "stream",
     "text": [
      "KID  : 100%|██████████| 32/32 [00:21<00:00,  1.50it/s]\n"
     ]
    },
    {
     "name": "stdout",
     "output_type": "stream",
     "text": [
      "Found 1000 images in the folder ./temp_degraded/\n"
     ]
    },
    {
     "name": "stderr",
     "output_type": "stream",
     "text": [
      "KID  : 100%|██████████| 32/32 [00:11<00:00,  2.71it/s]\n",
      "Testing combinations:  11%|█         | 10/92 [14:02<1:52:00, 81.95s/it]"
     ]
    },
    {
     "name": "stdout",
     "output_type": "stream",
     "text": [
      "\n",
      "Tested: ['downscale_upscale', 'gaussian_blur']\n",
      "FID: 59.86, KID: 0.0468\n",
      "--------------------------------------------------\n"
     ]
    },
    {
     "name": "stderr",
     "output_type": "stream",
     "text": [
      "Processing ['downscale_upscale', 'median_filter']: 100%|██████████| 1000/1000 [00:33<00:00, 30.08it/s]\n"
     ]
    },
    {
     "name": "stdout",
     "output_type": "stream",
     "text": [
      "compute FID between two folders\n",
      "Found 1000 images in the folder ./Temp_Game/\n"
     ]
    },
    {
     "name": "stderr",
     "output_type": "stream",
     "text": [
      "FID  : 100%|██████████| 32/32 [00:15<00:00,  2.11it/s]\n"
     ]
    },
    {
     "name": "stdout",
     "output_type": "stream",
     "text": [
      "Found 1000 images in the folder ./temp_degraded/\n"
     ]
    },
    {
     "name": "stderr",
     "output_type": "stream",
     "text": [
      "FID  : 100%|██████████| 32/32 [00:07<00:00,  4.15it/s]\n"
     ]
    },
    {
     "name": "stdout",
     "output_type": "stream",
     "text": [
      "compute KID between two folders\n",
      "Found 1000 images in the folder ./Temp_Game/\n"
     ]
    },
    {
     "name": "stderr",
     "output_type": "stream",
     "text": [
      "KID  : 100%|██████████| 32/32 [00:21<00:00,  1.50it/s]\n"
     ]
    },
    {
     "name": "stdout",
     "output_type": "stream",
     "text": [
      "Found 1000 images in the folder ./temp_degraded/\n"
     ]
    },
    {
     "name": "stderr",
     "output_type": "stream",
     "text": [
      "KID  : 100%|██████████| 32/32 [00:11<00:00,  2.67it/s]\n",
      "Testing combinations:  12%|█▏        | 11/92 [15:36<1:55:55, 85.86s/it]"
     ]
    },
    {
     "name": "stdout",
     "output_type": "stream",
     "text": [
      "\n",
      "Tested: ['downscale_upscale', 'median_filter']\n",
      "FID: 59.09, KID: 0.0431\n",
      "--------------------------------------------------\n"
     ]
    },
    {
     "name": "stderr",
     "output_type": "stream",
     "text": [
      "Processing ['downscale_upscale', 'bilateral_filter']: 100%|██████████| 1000/1000 [00:25<00:00, 39.66it/s]\n"
     ]
    },
    {
     "name": "stdout",
     "output_type": "stream",
     "text": [
      "compute FID between two folders\n",
      "Found 1000 images in the folder ./Temp_Game/\n"
     ]
    },
    {
     "name": "stderr",
     "output_type": "stream",
     "text": [
      "FID  : 100%|██████████| 32/32 [00:15<00:00,  2.10it/s]\n"
     ]
    },
    {
     "name": "stdout",
     "output_type": "stream",
     "text": [
      "Found 1000 images in the folder ./temp_degraded/\n"
     ]
    },
    {
     "name": "stderr",
     "output_type": "stream",
     "text": [
      "FID  : 100%|██████████| 32/32 [00:07<00:00,  4.15it/s]\n"
     ]
    },
    {
     "name": "stdout",
     "output_type": "stream",
     "text": [
      "compute KID between two folders\n",
      "Found 1000 images in the folder ./Temp_Game/\n"
     ]
    },
    {
     "name": "stderr",
     "output_type": "stream",
     "text": [
      "KID  : 100%|██████████| 32/32 [00:21<00:00,  1.50it/s]\n"
     ]
    },
    {
     "name": "stdout",
     "output_type": "stream",
     "text": [
      "Found 1000 images in the folder ./temp_degraded/\n"
     ]
    },
    {
     "name": "stderr",
     "output_type": "stream",
     "text": [
      "KID  : 100%|██████████| 32/32 [00:11<00:00,  2.68it/s]\n",
      "Testing combinations:  13%|█▎        | 12/92 [17:03<1:54:48, 86.11s/it]"
     ]
    },
    {
     "name": "stdout",
     "output_type": "stream",
     "text": [
      "\n",
      "Tested: ['downscale_upscale', 'bilateral_filter']\n",
      "FID: 59.65, KID: 0.0494\n",
      "--------------------------------------------------\n"
     ]
    },
    {
     "name": "stderr",
     "output_type": "stream",
     "text": [
      "Processing ['downscale_upscale', 'color_quantization']: 100%|██████████| 1000/1000 [00:40<00:00, 24.48it/s]\n"
     ]
    },
    {
     "name": "stdout",
     "output_type": "stream",
     "text": [
      "compute FID between two folders\n",
      "Found 1000 images in the folder ./Temp_Game/\n"
     ]
    },
    {
     "name": "stderr",
     "output_type": "stream",
     "text": [
      "FID  : 100%|██████████| 32/32 [00:15<00:00,  2.10it/s]\n"
     ]
    },
    {
     "name": "stdout",
     "output_type": "stream",
     "text": [
      "Found 1000 images in the folder ./temp_degraded/\n"
     ]
    },
    {
     "name": "stderr",
     "output_type": "stream",
     "text": [
      "FID  : 100%|██████████| 32/32 [00:07<00:00,  4.19it/s]\n"
     ]
    },
    {
     "name": "stdout",
     "output_type": "stream",
     "text": [
      "compute KID between two folders\n",
      "Found 1000 images in the folder ./Temp_Game/\n"
     ]
    },
    {
     "name": "stderr",
     "output_type": "stream",
     "text": [
      "KID  : 100%|██████████| 32/32 [00:21<00:00,  1.51it/s]\n"
     ]
    },
    {
     "name": "stdout",
     "output_type": "stream",
     "text": [
      "Found 1000 images in the folder ./temp_degraded/\n"
     ]
    },
    {
     "name": "stderr",
     "output_type": "stream",
     "text": [
      "KID  : 100%|██████████| 32/32 [00:12<00:00,  2.66it/s]\n",
      "Testing combinations:  14%|█▍        | 13/92 [18:45<1:59:43, 90.94s/it]"
     ]
    },
    {
     "name": "stdout",
     "output_type": "stream",
     "text": [
      "\n",
      "Tested: ['downscale_upscale', 'color_quantization']\n",
      "FID: 55.97, KID: 0.0452\n",
      "--------------------------------------------------\n"
     ]
    },
    {
     "name": "stderr",
     "output_type": "stream",
     "text": [
      "Processing ['downscale_upscale', 'motion_blur']: 100%|██████████| 1000/1000 [00:17<00:00, 56.05it/s]\n"
     ]
    },
    {
     "name": "stdout",
     "output_type": "stream",
     "text": [
      "compute FID between two folders\n",
      "Found 1000 images in the folder ./Temp_Game/\n"
     ]
    },
    {
     "name": "stderr",
     "output_type": "stream",
     "text": [
      "FID  : 100%|██████████| 32/32 [00:14<00:00,  2.16it/s]\n"
     ]
    },
    {
     "name": "stdout",
     "output_type": "stream",
     "text": [
      "Found 1000 images in the folder ./temp_degraded/\n"
     ]
    },
    {
     "name": "stderr",
     "output_type": "stream",
     "text": [
      "FID  : 100%|██████████| 32/32 [00:07<00:00,  4.09it/s]\n"
     ]
    },
    {
     "name": "stdout",
     "output_type": "stream",
     "text": [
      "compute KID between two folders\n",
      "Found 1000 images in the folder ./Temp_Game/\n"
     ]
    },
    {
     "name": "stderr",
     "output_type": "stream",
     "text": [
      "KID  : 100%|██████████| 32/32 [00:20<00:00,  1.53it/s]\n"
     ]
    },
    {
     "name": "stdout",
     "output_type": "stream",
     "text": [
      "Found 1000 images in the folder ./temp_degraded/\n"
     ]
    },
    {
     "name": "stderr",
     "output_type": "stream",
     "text": [
      "KID  : 100%|██████████| 32/32 [00:11<00:00,  2.67it/s]\n",
      "Testing combinations:  15%|█▌        | 14/92 [20:04<1:53:22, 87.22s/it]"
     ]
    },
    {
     "name": "stdout",
     "output_type": "stream",
     "text": [
      "\n",
      "Tested: ['downscale_upscale', 'motion_blur']\n",
      "FID: 59.99, KID: 0.0436\n",
      "--------------------------------------------------\n"
     ]
    },
    {
     "name": "stderr",
     "output_type": "stream",
     "text": [
      "Processing ['downscale_upscale', 'chromatic_aberration']: 100%|██████████| 1000/1000 [00:17<00:00, 56.56it/s]\n"
     ]
    },
    {
     "name": "stdout",
     "output_type": "stream",
     "text": [
      "compute FID between two folders\n",
      "Found 1000 images in the folder ./Temp_Game/\n"
     ]
    },
    {
     "name": "stderr",
     "output_type": "stream",
     "text": [
      "FID  : 100%|██████████| 32/32 [00:15<00:00,  2.08it/s]\n"
     ]
    },
    {
     "name": "stdout",
     "output_type": "stream",
     "text": [
      "Found 1000 images in the folder ./temp_degraded/\n"
     ]
    },
    {
     "name": "stderr",
     "output_type": "stream",
     "text": [
      "FID  : 100%|██████████| 32/32 [00:07<00:00,  4.16it/s]\n"
     ]
    },
    {
     "name": "stdout",
     "output_type": "stream",
     "text": [
      "compute KID between two folders\n",
      "Found 1000 images in the folder ./Temp_Game/\n"
     ]
    },
    {
     "name": "stderr",
     "output_type": "stream",
     "text": [
      "KID  : 100%|██████████| 32/32 [00:21<00:00,  1.51it/s]\n"
     ]
    },
    {
     "name": "stdout",
     "output_type": "stream",
     "text": [
      "Found 1000 images in the folder ./temp_degraded/\n"
     ]
    },
    {
     "name": "stderr",
     "output_type": "stream",
     "text": [
      "KID  : 100%|██████████| 32/32 [00:11<00:00,  2.70it/s]\n",
      "Testing combinations:  16%|█▋        | 15/92 [21:23<1:48:49, 84.80s/it]"
     ]
    },
    {
     "name": "stdout",
     "output_type": "stream",
     "text": [
      "\n",
      "Tested: ['downscale_upscale', 'chromatic_aberration']\n",
      "FID: 55.20, KID: 0.0511\n",
      "--------------------------------------------------\n"
     ]
    },
    {
     "name": "stderr",
     "output_type": "stream",
     "text": [
      "Processing ['enhance_edges', 'gaussian_blur']: 100%|██████████| 1000/1000 [00:17<00:00, 55.89it/s]\n"
     ]
    },
    {
     "name": "stdout",
     "output_type": "stream",
     "text": [
      "compute FID between two folders\n",
      "Found 1000 images in the folder ./Temp_Game/\n"
     ]
    },
    {
     "name": "stderr",
     "output_type": "stream",
     "text": [
      "FID  : 100%|██████████| 32/32 [00:14<00:00,  2.16it/s]\n"
     ]
    },
    {
     "name": "stdout",
     "output_type": "stream",
     "text": [
      "Found 1000 images in the folder ./temp_degraded/\n"
     ]
    },
    {
     "name": "stderr",
     "output_type": "stream",
     "text": [
      "FID  : 100%|██████████| 32/32 [00:07<00:00,  4.09it/s]\n"
     ]
    },
    {
     "name": "stdout",
     "output_type": "stream",
     "text": [
      "compute KID between two folders\n",
      "Found 1000 images in the folder ./Temp_Game/\n"
     ]
    },
    {
     "name": "stderr",
     "output_type": "stream",
     "text": [
      "KID  : 100%|██████████| 32/32 [00:20<00:00,  1.54it/s]\n"
     ]
    },
    {
     "name": "stdout",
     "output_type": "stream",
     "text": [
      "Found 1000 images in the folder ./temp_degraded/\n"
     ]
    },
    {
     "name": "stderr",
     "output_type": "stream",
     "text": [
      "KID  : 100%|██████████| 32/32 [00:12<00:00,  2.66it/s]\n",
      "Testing combinations:  17%|█▋        | 16/92 [22:42<1:45:06, 82.98s/it]"
     ]
    },
    {
     "name": "stdout",
     "output_type": "stream",
     "text": [
      "\n",
      "Tested: ['enhance_edges', 'gaussian_blur']\n",
      "FID: 59.33, KID: 0.0432\n",
      "--------------------------------------------------\n"
     ]
    },
    {
     "name": "stderr",
     "output_type": "stream",
     "text": [
      "Processing ['enhance_edges', 'median_filter']: 100%|██████████| 1000/1000 [00:41<00:00, 23.87it/s]\n"
     ]
    },
    {
     "name": "stdout",
     "output_type": "stream",
     "text": [
      "compute FID between two folders\n",
      "Found 1000 images in the folder ./Temp_Game/\n"
     ]
    },
    {
     "name": "stderr",
     "output_type": "stream",
     "text": [
      "FID  : 100%|██████████| 32/32 [00:14<00:00,  2.16it/s]\n"
     ]
    },
    {
     "name": "stdout",
     "output_type": "stream",
     "text": [
      "Found 1000 images in the folder ./temp_degraded/\n"
     ]
    },
    {
     "name": "stderr",
     "output_type": "stream",
     "text": [
      "FID  : 100%|██████████| 32/32 [00:07<00:00,  4.15it/s]\n"
     ]
    },
    {
     "name": "stdout",
     "output_type": "stream",
     "text": [
      "compute KID between two folders\n",
      "Found 1000 images in the folder ./Temp_Game/\n"
     ]
    },
    {
     "name": "stderr",
     "output_type": "stream",
     "text": [
      "KID  : 100%|██████████| 32/32 [00:21<00:00,  1.50it/s]\n"
     ]
    },
    {
     "name": "stdout",
     "output_type": "stream",
     "text": [
      "Found 1000 images in the folder ./temp_degraded/\n"
     ]
    },
    {
     "name": "stderr",
     "output_type": "stream",
     "text": [
      "KID  : 100%|██████████| 32/32 [00:12<00:00,  2.67it/s]\n",
      "Testing combinations:  18%|█▊        | 17/92 [24:24<1:51:08, 88.91s/it]"
     ]
    },
    {
     "name": "stdout",
     "output_type": "stream",
     "text": [
      "\n",
      "Tested: ['enhance_edges', 'median_filter']\n",
      "FID: 58.89, KID: 0.0442\n",
      "--------------------------------------------------\n"
     ]
    },
    {
     "name": "stderr",
     "output_type": "stream",
     "text": [
      "Processing ['enhance_edges', 'bilateral_filter']: 100%|██████████| 1000/1000 [00:25<00:00, 39.57it/s]\n"
     ]
    },
    {
     "name": "stdout",
     "output_type": "stream",
     "text": [
      "compute FID between two folders\n",
      "Found 1000 images in the folder ./Temp_Game/\n"
     ]
    },
    {
     "name": "stderr",
     "output_type": "stream",
     "text": [
      "FID  : 100%|██████████| 32/32 [00:14<00:00,  2.15it/s]\n"
     ]
    },
    {
     "name": "stdout",
     "output_type": "stream",
     "text": [
      "Found 1000 images in the folder ./temp_degraded/\n"
     ]
    },
    {
     "name": "stderr",
     "output_type": "stream",
     "text": [
      "FID  : 100%|██████████| 32/32 [00:07<00:00,  4.15it/s]\n"
     ]
    },
    {
     "name": "stdout",
     "output_type": "stream",
     "text": [
      "compute KID between two folders\n",
      "Found 1000 images in the folder ./Temp_Game/\n"
     ]
    },
    {
     "name": "stderr",
     "output_type": "stream",
     "text": [
      "KID  : 100%|██████████| 32/32 [00:20<00:00,  1.53it/s]\n"
     ]
    },
    {
     "name": "stdout",
     "output_type": "stream",
     "text": [
      "Found 1000 images in the folder ./temp_degraded/\n"
     ]
    },
    {
     "name": "stderr",
     "output_type": "stream",
     "text": [
      "KID  : 100%|██████████| 32/32 [00:11<00:00,  2.68it/s]\n",
      "Testing combinations:  20%|█▉        | 18/92 [25:50<1:48:35, 88.05s/it]"
     ]
    },
    {
     "name": "stdout",
     "output_type": "stream",
     "text": [
      "\n",
      "Tested: ['enhance_edges', 'bilateral_filter']\n",
      "FID: 58.99, KID: 0.0489\n",
      "--------------------------------------------------\n"
     ]
    },
    {
     "name": "stderr",
     "output_type": "stream",
     "text": [
      "Processing ['enhance_edges', 'color_quantization']: 100%|██████████| 1000/1000 [00:40<00:00, 24.41it/s]\n"
     ]
    },
    {
     "name": "stdout",
     "output_type": "stream",
     "text": [
      "compute FID between two folders\n",
      "Found 1000 images in the folder ./Temp_Game/\n"
     ]
    },
    {
     "name": "stderr",
     "output_type": "stream",
     "text": [
      "FID  : 100%|██████████| 32/32 [00:15<00:00,  2.10it/s]\n"
     ]
    },
    {
     "name": "stdout",
     "output_type": "stream",
     "text": [
      "Found 1000 images in the folder ./temp_degraded/\n"
     ]
    },
    {
     "name": "stderr",
     "output_type": "stream",
     "text": [
      "FID  : 100%|██████████| 32/32 [00:07<00:00,  4.16it/s]\n"
     ]
    },
    {
     "name": "stdout",
     "output_type": "stream",
     "text": [
      "compute KID between two folders\n",
      "Found 1000 images in the folder ./Temp_Game/\n"
     ]
    },
    {
     "name": "stderr",
     "output_type": "stream",
     "text": [
      "KID  : 100%|██████████| 32/32 [00:20<00:00,  1.53it/s]\n"
     ]
    },
    {
     "name": "stdout",
     "output_type": "stream",
     "text": [
      "Found 1000 images in the folder ./temp_degraded/\n"
     ]
    },
    {
     "name": "stderr",
     "output_type": "stream",
     "text": [
      "KID  : 100%|██████████| 32/32 [00:11<00:00,  2.68it/s]\n",
      "Testing combinations:  21%|██        | 19/92 [27:32<1:52:06, 92.14s/it]"
     ]
    },
    {
     "name": "stdout",
     "output_type": "stream",
     "text": [
      "\n",
      "Tested: ['enhance_edges', 'color_quantization']\n",
      "FID: 56.18, KID: 0.0455\n",
      "--------------------------------------------------\n"
     ]
    },
    {
     "name": "stderr",
     "output_type": "stream",
     "text": [
      "Processing ['enhance_edges', 'motion_blur']: 100%|██████████| 1000/1000 [00:17<00:00, 58.26it/s]\n"
     ]
    },
    {
     "name": "stdout",
     "output_type": "stream",
     "text": [
      "compute FID between two folders\n",
      "Found 1000 images in the folder ./Temp_Game/\n"
     ]
    },
    {
     "name": "stderr",
     "output_type": "stream",
     "text": [
      "FID  : 100%|██████████| 32/32 [00:15<00:00,  2.11it/s]\n"
     ]
    },
    {
     "name": "stdout",
     "output_type": "stream",
     "text": [
      "Found 1000 images in the folder ./temp_degraded/\n"
     ]
    },
    {
     "name": "stderr",
     "output_type": "stream",
     "text": [
      "FID  : 100%|██████████| 32/32 [00:07<00:00,  4.15it/s]\n"
     ]
    },
    {
     "name": "stdout",
     "output_type": "stream",
     "text": [
      "compute KID between two folders\n",
      "Found 1000 images in the folder ./Temp_Game/\n"
     ]
    },
    {
     "name": "stderr",
     "output_type": "stream",
     "text": [
      "KID  : 100%|██████████| 32/32 [00:21<00:00,  1.51it/s]\n"
     ]
    },
    {
     "name": "stdout",
     "output_type": "stream",
     "text": [
      "Found 1000 images in the folder ./temp_degraded/\n"
     ]
    },
    {
     "name": "stderr",
     "output_type": "stream",
     "text": [
      "KID  : 100%|██████████| 32/32 [00:11<00:00,  2.70it/s]\n",
      "Testing combinations:  22%|██▏       | 20/92 [28:51<1:45:48, 88.17s/it]"
     ]
    },
    {
     "name": "stdout",
     "output_type": "stream",
     "text": [
      "\n",
      "Tested: ['enhance_edges', 'motion_blur']\n",
      "FID: 59.36, KID: 0.0428\n",
      "--------------------------------------------------\n"
     ]
    },
    {
     "name": "stderr",
     "output_type": "stream",
     "text": [
      "Processing ['enhance_edges', 'chromatic_aberration']: 100%|██████████| 1000/1000 [00:17<00:00, 56.87it/s]\n"
     ]
    },
    {
     "name": "stdout",
     "output_type": "stream",
     "text": [
      "compute FID between two folders\n",
      "Found 1000 images in the folder ./Temp_Game/\n"
     ]
    },
    {
     "name": "stderr",
     "output_type": "stream",
     "text": [
      "FID  : 100%|██████████| 32/32 [00:15<00:00,  2.09it/s]\n"
     ]
    },
    {
     "name": "stdout",
     "output_type": "stream",
     "text": [
      "Found 1000 images in the folder ./temp_degraded/\n"
     ]
    },
    {
     "name": "stderr",
     "output_type": "stream",
     "text": [
      "FID  : 100%|██████████| 32/32 [00:07<00:00,  4.10it/s]\n"
     ]
    },
    {
     "name": "stdout",
     "output_type": "stream",
     "text": [
      "compute KID between two folders\n",
      "Found 1000 images in the folder ./Temp_Game/\n"
     ]
    },
    {
     "name": "stderr",
     "output_type": "stream",
     "text": [
      "KID  : 100%|██████████| 32/32 [00:21<00:00,  1.51it/s]\n"
     ]
    },
    {
     "name": "stdout",
     "output_type": "stream",
     "text": [
      "Found 1000 images in the folder ./temp_degraded/\n"
     ]
    },
    {
     "name": "stderr",
     "output_type": "stream",
     "text": [
      "KID  : 100%|██████████| 32/32 [00:11<00:00,  2.68it/s]\n",
      "Testing combinations:  23%|██▎       | 21/92 [30:10<1:41:11, 85.52s/it]"
     ]
    },
    {
     "name": "stdout",
     "output_type": "stream",
     "text": [
      "\n",
      "Tested: ['enhance_edges', 'chromatic_aberration']\n",
      "FID: 55.31, KID: 0.0464\n",
      "--------------------------------------------------\n"
     ]
    },
    {
     "name": "stderr",
     "output_type": "stream",
     "text": [
      "Processing ['gaussian_blur', 'median_filter']: 100%|██████████| 1000/1000 [00:34<00:00, 29.25it/s]\n"
     ]
    },
    {
     "name": "stdout",
     "output_type": "stream",
     "text": [
      "compute FID between two folders\n",
      "Found 1000 images in the folder ./Temp_Game/\n"
     ]
    },
    {
     "name": "stderr",
     "output_type": "stream",
     "text": [
      "FID  : 100%|██████████| 32/32 [00:15<00:00,  2.10it/s]\n"
     ]
    },
    {
     "name": "stdout",
     "output_type": "stream",
     "text": [
      "Found 1000 images in the folder ./temp_degraded/\n"
     ]
    },
    {
     "name": "stderr",
     "output_type": "stream",
     "text": [
      "FID  : 100%|██████████| 32/32 [00:07<00:00,  4.11it/s]\n"
     ]
    },
    {
     "name": "stdout",
     "output_type": "stream",
     "text": [
      "compute KID between two folders\n",
      "Found 1000 images in the folder ./Temp_Game/\n"
     ]
    },
    {
     "name": "stderr",
     "output_type": "stream",
     "text": [
      "KID  : 100%|██████████| 32/32 [00:20<00:00,  1.53it/s]\n"
     ]
    },
    {
     "name": "stdout",
     "output_type": "stream",
     "text": [
      "Found 1000 images in the folder ./temp_degraded/\n"
     ]
    },
    {
     "name": "stderr",
     "output_type": "stream",
     "text": [
      "KID  : 100%|██████████| 32/32 [00:11<00:00,  2.68it/s]\n",
      "Testing combinations:  24%|██▍       | 22/92 [31:45<1:43:08, 88.41s/it]"
     ]
    },
    {
     "name": "stdout",
     "output_type": "stream",
     "text": [
      "\n",
      "Tested: ['gaussian_blur', 'median_filter']\n",
      "FID: 58.85, KID: 0.0480\n",
      "--------------------------------------------------\n"
     ]
    },
    {
     "name": "stderr",
     "output_type": "stream",
     "text": [
      "Processing ['gaussian_blur', 'bilateral_filter']: 100%|██████████| 1000/1000 [00:24<00:00, 40.95it/s]\n"
     ]
    },
    {
     "name": "stdout",
     "output_type": "stream",
     "text": [
      "compute FID between two folders\n",
      "Found 1000 images in the folder ./Temp_Game/\n"
     ]
    },
    {
     "name": "stderr",
     "output_type": "stream",
     "text": [
      "FID  : 100%|██████████| 32/32 [00:14<00:00,  2.15it/s]\n"
     ]
    },
    {
     "name": "stdout",
     "output_type": "stream",
     "text": [
      "Found 1000 images in the folder ./temp_degraded/\n"
     ]
    },
    {
     "name": "stderr",
     "output_type": "stream",
     "text": [
      "FID  : 100%|██████████| 32/32 [00:07<00:00,  4.22it/s]\n"
     ]
    },
    {
     "name": "stdout",
     "output_type": "stream",
     "text": [
      "compute KID between two folders\n",
      "Found 1000 images in the folder ./Temp_Game/\n"
     ]
    },
    {
     "name": "stderr",
     "output_type": "stream",
     "text": [
      "KID  : 100%|██████████| 32/32 [00:20<00:00,  1.53it/s]\n"
     ]
    },
    {
     "name": "stdout",
     "output_type": "stream",
     "text": [
      "Found 1000 images in the folder ./temp_degraded/\n"
     ]
    },
    {
     "name": "stderr",
     "output_type": "stream",
     "text": [
      "KID  : 100%|██████████| 32/32 [00:11<00:00,  2.72it/s]\n",
      "Testing combinations:  25%|██▌       | 23/92 [33:10<1:40:29, 87.39s/it]"
     ]
    },
    {
     "name": "stdout",
     "output_type": "stream",
     "text": [
      "\n",
      "Tested: ['gaussian_blur', 'bilateral_filter']\n",
      "FID: 59.14, KID: 0.0521\n",
      "--------------------------------------------------\n"
     ]
    },
    {
     "name": "stderr",
     "output_type": "stream",
     "text": [
      "Processing ['gaussian_blur', 'color_quantization']: 100%|██████████| 1000/1000 [00:41<00:00, 24.34it/s]\n"
     ]
    },
    {
     "name": "stdout",
     "output_type": "stream",
     "text": [
      "compute FID between two folders\n",
      "Found 1000 images in the folder ./Temp_Game/\n"
     ]
    },
    {
     "name": "stderr",
     "output_type": "stream",
     "text": [
      "FID  : 100%|██████████| 32/32 [00:14<00:00,  2.16it/s]\n"
     ]
    },
    {
     "name": "stdout",
     "output_type": "stream",
     "text": [
      "Found 1000 images in the folder ./temp_degraded/\n"
     ]
    },
    {
     "name": "stderr",
     "output_type": "stream",
     "text": [
      "FID  : 100%|██████████| 32/32 [00:07<00:00,  4.05it/s]\n"
     ]
    },
    {
     "name": "stdout",
     "output_type": "stream",
     "text": [
      "compute KID between two folders\n",
      "Found 1000 images in the folder ./Temp_Game/\n"
     ]
    },
    {
     "name": "stderr",
     "output_type": "stream",
     "text": [
      "KID  : 100%|██████████| 32/32 [00:20<00:00,  1.53it/s]\n"
     ]
    },
    {
     "name": "stdout",
     "output_type": "stream",
     "text": [
      "Found 1000 images in the folder ./temp_degraded/\n"
     ]
    },
    {
     "name": "stderr",
     "output_type": "stream",
     "text": [
      "KID  : 100%|██████████| 32/32 [00:12<00:00,  2.65it/s]\n",
      "Testing combinations:  26%|██▌       | 24/92 [34:53<1:44:03, 91.82s/it]"
     ]
    },
    {
     "name": "stdout",
     "output_type": "stream",
     "text": [
      "\n",
      "Tested: ['gaussian_blur', 'color_quantization']\n",
      "FID: 55.45, KID: 0.0441\n",
      "--------------------------------------------------\n"
     ]
    },
    {
     "name": "stderr",
     "output_type": "stream",
     "text": [
      "Processing ['gaussian_blur', 'motion_blur']: 100%|██████████| 1000/1000 [00:17<00:00, 56.88it/s]\n"
     ]
    },
    {
     "name": "stdout",
     "output_type": "stream",
     "text": [
      "compute FID between two folders\n",
      "Found 1000 images in the folder ./Temp_Game/\n"
     ]
    },
    {
     "name": "stderr",
     "output_type": "stream",
     "text": [
      "FID  : 100%|██████████| 32/32 [00:14<00:00,  2.15it/s]\n"
     ]
    },
    {
     "name": "stdout",
     "output_type": "stream",
     "text": [
      "Found 1000 images in the folder ./temp_degraded/\n"
     ]
    },
    {
     "name": "stderr",
     "output_type": "stream",
     "text": [
      "FID  : 100%|██████████| 32/32 [00:07<00:00,  4.07it/s]\n"
     ]
    },
    {
     "name": "stdout",
     "output_type": "stream",
     "text": [
      "compute KID between two folders\n",
      "Found 1000 images in the folder ./Temp_Game/\n"
     ]
    },
    {
     "name": "stderr",
     "output_type": "stream",
     "text": [
      "KID  : 100%|██████████| 32/32 [00:20<00:00,  1.53it/s]\n"
     ]
    },
    {
     "name": "stdout",
     "output_type": "stream",
     "text": [
      "Found 1000 images in the folder ./temp_degraded/\n"
     ]
    },
    {
     "name": "stderr",
     "output_type": "stream",
     "text": [
      "KID  : 100%|██████████| 32/32 [00:12<00:00,  2.67it/s]\n",
      "Testing combinations:  27%|██▋       | 25/92 [36:11<1:37:57, 87.72s/it]"
     ]
    },
    {
     "name": "stdout",
     "output_type": "stream",
     "text": [
      "\n",
      "Tested: ['gaussian_blur', 'motion_blur']\n",
      "FID: 59.17, KID: 0.0449\n",
      "--------------------------------------------------\n"
     ]
    },
    {
     "name": "stderr",
     "output_type": "stream",
     "text": [
      "Processing ['gaussian_blur', 'chromatic_aberration']: 100%|██████████| 1000/1000 [00:16<00:00, 58.86it/s]\n"
     ]
    },
    {
     "name": "stdout",
     "output_type": "stream",
     "text": [
      "compute FID between two folders\n",
      "Found 1000 images in the folder ./Temp_Game/\n"
     ]
    },
    {
     "name": "stderr",
     "output_type": "stream",
     "text": [
      "FID  : 100%|██████████| 32/32 [00:14<00:00,  2.15it/s]\n"
     ]
    },
    {
     "name": "stdout",
     "output_type": "stream",
     "text": [
      "Found 1000 images in the folder ./temp_degraded/\n"
     ]
    },
    {
     "name": "stderr",
     "output_type": "stream",
     "text": [
      "FID  : 100%|██████████| 32/32 [00:07<00:00,  4.21it/s]\n"
     ]
    },
    {
     "name": "stdout",
     "output_type": "stream",
     "text": [
      "compute KID between two folders\n",
      "Found 1000 images in the folder ./Temp_Game/\n"
     ]
    },
    {
     "name": "stderr",
     "output_type": "stream",
     "text": [
      "KID  : 100%|██████████| 32/32 [00:20<00:00,  1.53it/s]\n"
     ]
    },
    {
     "name": "stdout",
     "output_type": "stream",
     "text": [
      "Found 1000 images in the folder ./temp_degraded/\n"
     ]
    },
    {
     "name": "stderr",
     "output_type": "stream",
     "text": [
      "KID  : 100%|██████████| 32/32 [00:11<00:00,  2.67it/s]\n",
      "Testing combinations:  28%|██▊       | 26/92 [37:28<1:33:12, 84.74s/it]"
     ]
    },
    {
     "name": "stdout",
     "output_type": "stream",
     "text": [
      "\n",
      "Tested: ['gaussian_blur', 'chromatic_aberration']\n",
      "FID: 55.46, KID: 0.0542\n",
      "--------------------------------------------------\n"
     ]
    },
    {
     "name": "stderr",
     "output_type": "stream",
     "text": [
      "Processing ['median_filter', 'bilateral_filter']: 100%|██████████| 1000/1000 [00:50<00:00, 19.94it/s]\n"
     ]
    },
    {
     "name": "stdout",
     "output_type": "stream",
     "text": [
      "compute FID between two folders\n",
      "Found 1000 images in the folder ./Temp_Game/\n"
     ]
    },
    {
     "name": "stderr",
     "output_type": "stream",
     "text": [
      "FID  : 100%|██████████| 32/32 [00:14<00:00,  2.16it/s]\n"
     ]
    },
    {
     "name": "stdout",
     "output_type": "stream",
     "text": [
      "Found 1000 images in the folder ./temp_degraded/\n"
     ]
    },
    {
     "name": "stderr",
     "output_type": "stream",
     "text": [
      "FID  : 100%|██████████| 32/32 [00:07<00:00,  4.16it/s]\n"
     ]
    },
    {
     "name": "stdout",
     "output_type": "stream",
     "text": [
      "compute KID between two folders\n",
      "Found 1000 images in the folder ./Temp_Game/\n"
     ]
    },
    {
     "name": "stderr",
     "output_type": "stream",
     "text": [
      "KID  : 100%|██████████| 32/32 [00:20<00:00,  1.53it/s]\n"
     ]
    },
    {
     "name": "stdout",
     "output_type": "stream",
     "text": [
      "Found 1000 images in the folder ./temp_degraded/\n"
     ]
    },
    {
     "name": "stderr",
     "output_type": "stream",
     "text": [
      "KID  : 100%|██████████| 32/32 [00:11<00:00,  2.73it/s]\n",
      "Testing combinations:  29%|██▉       | 27/92 [39:19<1:40:17, 92.58s/it]"
     ]
    },
    {
     "name": "stdout",
     "output_type": "stream",
     "text": [
      "\n",
      "Tested: ['median_filter', 'bilateral_filter']\n",
      "FID: 58.25, KID: 0.0508\n",
      "--------------------------------------------------\n"
     ]
    },
    {
     "name": "stderr",
     "output_type": "stream",
     "text": [
      "Processing ['median_filter', 'color_quantization']: 100%|██████████| 1000/1000 [00:59<00:00, 16.94it/s]\n"
     ]
    },
    {
     "name": "stdout",
     "output_type": "stream",
     "text": [
      "compute FID between two folders\n",
      "Found 1000 images in the folder ./Temp_Game/\n"
     ]
    },
    {
     "name": "stderr",
     "output_type": "stream",
     "text": [
      "FID  : 100%|██████████| 32/32 [00:14<00:00,  2.16it/s]\n"
     ]
    },
    {
     "name": "stdout",
     "output_type": "stream",
     "text": [
      "Found 1000 images in the folder ./temp_degraded/\n"
     ]
    },
    {
     "name": "stderr",
     "output_type": "stream",
     "text": [
      "FID  : 100%|██████████| 32/32 [00:07<00:00,  4.12it/s]\n"
     ]
    },
    {
     "name": "stdout",
     "output_type": "stream",
     "text": [
      "compute KID between two folders\n",
      "Found 1000 images in the folder ./Temp_Game/\n"
     ]
    },
    {
     "name": "stderr",
     "output_type": "stream",
     "text": [
      "KID  : 100%|██████████| 32/32 [00:20<00:00,  1.53it/s]\n"
     ]
    },
    {
     "name": "stdout",
     "output_type": "stream",
     "text": [
      "Found 1000 images in the folder ./temp_degraded/\n"
     ]
    },
    {
     "name": "stderr",
     "output_type": "stream",
     "text": [
      "KID  : 100%|██████████| 32/32 [00:12<00:00,  2.66it/s]\n",
      "Testing combinations:  30%|███       | 28/92 [41:19<1:47:25, 100.72s/it]"
     ]
    },
    {
     "name": "stdout",
     "output_type": "stream",
     "text": [
      "\n",
      "Tested: ['median_filter', 'color_quantization']\n",
      "FID: 54.04, KID: 0.0469\n",
      "--------------------------------------------------\n"
     ]
    },
    {
     "name": "stderr",
     "output_type": "stream",
     "text": [
      "Processing ['median_filter', 'motion_blur']: 100%|██████████| 1000/1000 [00:43<00:00, 22.94it/s]\n"
     ]
    },
    {
     "name": "stdout",
     "output_type": "stream",
     "text": [
      "compute FID between two folders\n",
      "Found 1000 images in the folder ./Temp_Game/\n"
     ]
    },
    {
     "name": "stderr",
     "output_type": "stream",
     "text": [
      "FID  : 100%|██████████| 32/32 [00:14<00:00,  2.15it/s]\n"
     ]
    },
    {
     "name": "stdout",
     "output_type": "stream",
     "text": [
      "Found 1000 images in the folder ./temp_degraded/\n"
     ]
    },
    {
     "name": "stderr",
     "output_type": "stream",
     "text": [
      "FID  : 100%|██████████| 32/32 [00:07<00:00,  4.22it/s]\n"
     ]
    },
    {
     "name": "stdout",
     "output_type": "stream",
     "text": [
      "compute KID between two folders\n",
      "Found 1000 images in the folder ./Temp_Game/\n"
     ]
    },
    {
     "name": "stderr",
     "output_type": "stream",
     "text": [
      "KID  : 100%|██████████| 32/32 [00:20<00:00,  1.54it/s]\n"
     ]
    },
    {
     "name": "stdout",
     "output_type": "stream",
     "text": [
      "Found 1000 images in the folder ./temp_degraded/\n"
     ]
    },
    {
     "name": "stderr",
     "output_type": "stream",
     "text": [
      "KID  : 100%|██████████| 32/32 [00:11<00:00,  2.72it/s]\n",
      "Testing combinations:  32%|███▏      | 29/92 [43:03<1:46:52, 101.79s/it]"
     ]
    },
    {
     "name": "stdout",
     "output_type": "stream",
     "text": [
      "\n",
      "Tested: ['median_filter', 'motion_blur']\n",
      "FID: 58.66, KID: 0.0436\n",
      "--------------------------------------------------\n"
     ]
    },
    {
     "name": "stderr",
     "output_type": "stream",
     "text": [
      "Processing ['median_filter', 'chromatic_aberration']: 100%|██████████| 1000/1000 [00:43<00:00, 23.11it/s]\n"
     ]
    },
    {
     "name": "stdout",
     "output_type": "stream",
     "text": [
      "compute FID between two folders\n",
      "Found 1000 images in the folder ./Temp_Game/\n"
     ]
    },
    {
     "name": "stderr",
     "output_type": "stream",
     "text": [
      "FID  : 100%|██████████| 32/32 [00:15<00:00,  2.10it/s]\n"
     ]
    },
    {
     "name": "stdout",
     "output_type": "stream",
     "text": [
      "Found 1000 images in the folder ./temp_degraded/\n"
     ]
    },
    {
     "name": "stderr",
     "output_type": "stream",
     "text": [
      "FID  : 100%|██████████| 32/32 [00:07<00:00,  4.23it/s]\n"
     ]
    },
    {
     "name": "stdout",
     "output_type": "stream",
     "text": [
      "compute KID between two folders\n",
      "Found 1000 images in the folder ./Temp_Game/\n"
     ]
    },
    {
     "name": "stderr",
     "output_type": "stream",
     "text": [
      "KID  : 100%|██████████| 32/32 [00:21<00:00,  1.50it/s]\n"
     ]
    },
    {
     "name": "stdout",
     "output_type": "stream",
     "text": [
      "Found 1000 images in the folder ./temp_degraded/\n"
     ]
    },
    {
     "name": "stderr",
     "output_type": "stream",
     "text": [
      "KID  : 100%|██████████| 32/32 [00:12<00:00,  2.66it/s]\n",
      "Testing combinations:  33%|███▎      | 30/92 [44:48<1:45:59, 102.57s/it]"
     ]
    },
    {
     "name": "stdout",
     "output_type": "stream",
     "text": [
      "\n",
      "Tested: ['median_filter', 'chromatic_aberration']\n",
      "FID: 54.34, KID: 0.0504\n",
      "--------------------------------------------------\n"
     ]
    },
    {
     "name": "stderr",
     "output_type": "stream",
     "text": [
      "Processing ['bilateral_filter', 'color_quantization']: 100%|██████████| 1000/1000 [00:42<00:00, 23.75it/s]\n"
     ]
    },
    {
     "name": "stdout",
     "output_type": "stream",
     "text": [
      "compute FID between two folders\n",
      "Found 1000 images in the folder ./Temp_Game/\n"
     ]
    },
    {
     "name": "stderr",
     "output_type": "stream",
     "text": [
      "FID  : 100%|██████████| 32/32 [00:14<00:00,  2.16it/s]\n"
     ]
    },
    {
     "name": "stdout",
     "output_type": "stream",
     "text": [
      "Found 1000 images in the folder ./temp_degraded/\n"
     ]
    },
    {
     "name": "stderr",
     "output_type": "stream",
     "text": [
      "FID  : 100%|██████████| 32/32 [00:07<00:00,  4.19it/s]\n"
     ]
    },
    {
     "name": "stdout",
     "output_type": "stream",
     "text": [
      "compute KID between two folders\n",
      "Found 1000 images in the folder ./Temp_Game/\n"
     ]
    },
    {
     "name": "stderr",
     "output_type": "stream",
     "text": [
      "KID  : 100%|██████████| 32/32 [00:20<00:00,  1.53it/s]\n"
     ]
    },
    {
     "name": "stdout",
     "output_type": "stream",
     "text": [
      "Found 1000 images in the folder ./temp_degraded/\n"
     ]
    },
    {
     "name": "stderr",
     "output_type": "stream",
     "text": [
      "KID  : 100%|██████████| 32/32 [00:11<00:00,  2.71it/s]\n",
      "Testing combinations:  34%|███▎      | 31/92 [46:30<1:44:14, 102.54s/it]"
     ]
    },
    {
     "name": "stdout",
     "output_type": "stream",
     "text": [
      "\n",
      "Tested: ['bilateral_filter', 'color_quantization']\n",
      "FID: 54.46, KID: 0.0483\n",
      "--------------------------------------------------\n"
     ]
    },
    {
     "name": "stderr",
     "output_type": "stream",
     "text": [
      "Processing ['bilateral_filter', 'motion_blur']: 100%|██████████| 1000/1000 [00:24<00:00, 41.13it/s]\n"
     ]
    },
    {
     "name": "stdout",
     "output_type": "stream",
     "text": [
      "compute FID between two folders\n",
      "Found 1000 images in the folder ./Temp_Game/\n"
     ]
    },
    {
     "name": "stderr",
     "output_type": "stream",
     "text": [
      "FID  : 100%|██████████| 32/32 [00:15<00:00,  2.10it/s]\n"
     ]
    },
    {
     "name": "stdout",
     "output_type": "stream",
     "text": [
      "Found 1000 images in the folder ./temp_degraded/\n"
     ]
    },
    {
     "name": "stderr",
     "output_type": "stream",
     "text": [
      "FID  : 100%|██████████| 32/32 [00:07<00:00,  4.29it/s]\n"
     ]
    },
    {
     "name": "stdout",
     "output_type": "stream",
     "text": [
      "compute KID between two folders\n",
      "Found 1000 images in the folder ./Temp_Game/\n"
     ]
    },
    {
     "name": "stderr",
     "output_type": "stream",
     "text": [
      "KID  : 100%|██████████| 32/32 [00:21<00:00,  1.50it/s]\n"
     ]
    },
    {
     "name": "stdout",
     "output_type": "stream",
     "text": [
      "Found 1000 images in the folder ./temp_degraded/\n"
     ]
    },
    {
     "name": "stderr",
     "output_type": "stream",
     "text": [
      "KID  : 100%|██████████| 32/32 [00:11<00:00,  2.73it/s]\n",
      "Testing combinations:  35%|███▍      | 32/92 [47:56<1:37:24, 97.41s/it] "
     ]
    },
    {
     "name": "stdout",
     "output_type": "stream",
     "text": [
      "\n",
      "Tested: ['bilateral_filter', 'motion_blur']\n",
      "FID: 59.00, KID: 0.0498\n",
      "--------------------------------------------------\n"
     ]
    },
    {
     "name": "stderr",
     "output_type": "stream",
     "text": [
      "Processing ['bilateral_filter', 'chromatic_aberration']: 100%|██████████| 1000/1000 [00:24<00:00, 41.12it/s]\n"
     ]
    },
    {
     "name": "stdout",
     "output_type": "stream",
     "text": [
      "compute FID between two folders\n",
      "Found 1000 images in the folder ./Temp_Game/\n"
     ]
    },
    {
     "name": "stderr",
     "output_type": "stream",
     "text": [
      "FID  : 100%|██████████| 32/32 [00:15<00:00,  2.10it/s]\n"
     ]
    },
    {
     "name": "stdout",
     "output_type": "stream",
     "text": [
      "Found 1000 images in the folder ./temp_degraded/\n"
     ]
    },
    {
     "name": "stderr",
     "output_type": "stream",
     "text": [
      "FID  : 100%|██████████| 32/32 [00:07<00:00,  4.19it/s]\n"
     ]
    },
    {
     "name": "stdout",
     "output_type": "stream",
     "text": [
      "compute KID between two folders\n",
      "Found 1000 images in the folder ./Temp_Game/\n"
     ]
    },
    {
     "name": "stderr",
     "output_type": "stream",
     "text": [
      "KID  : 100%|██████████| 32/32 [00:21<00:00,  1.50it/s]\n"
     ]
    },
    {
     "name": "stdout",
     "output_type": "stream",
     "text": [
      "Found 1000 images in the folder ./temp_degraded/\n"
     ]
    },
    {
     "name": "stderr",
     "output_type": "stream",
     "text": [
      "KID  : 100%|██████████| 32/32 [00:11<00:00,  2.72it/s]\n",
      "Testing combinations:  36%|███▌      | 33/92 [49:21<1:32:11, 93.76s/it]"
     ]
    },
    {
     "name": "stdout",
     "output_type": "stream",
     "text": [
      "\n",
      "Tested: ['bilateral_filter', 'chromatic_aberration']\n",
      "FID: 55.42, KID: 0.0601\n",
      "--------------------------------------------------\n"
     ]
    },
    {
     "name": "stderr",
     "output_type": "stream",
     "text": [
      "Processing ['color_quantization', 'motion_blur']: 100%|██████████| 1000/1000 [00:39<00:00, 25.07it/s]\n"
     ]
    },
    {
     "name": "stdout",
     "output_type": "stream",
     "text": [
      "compute FID between two folders\n",
      "Found 1000 images in the folder ./Temp_Game/\n"
     ]
    },
    {
     "name": "stderr",
     "output_type": "stream",
     "text": [
      "FID  : 100%|██████████| 32/32 [00:14<00:00,  2.16it/s]\n"
     ]
    },
    {
     "name": "stdout",
     "output_type": "stream",
     "text": [
      "Found 1000 images in the folder ./temp_degraded/\n"
     ]
    },
    {
     "name": "stderr",
     "output_type": "stream",
     "text": [
      "FID  : 100%|██████████| 32/32 [00:07<00:00,  4.18it/s]\n"
     ]
    },
    {
     "name": "stdout",
     "output_type": "stream",
     "text": [
      "compute KID between two folders\n",
      "Found 1000 images in the folder ./Temp_Game/\n"
     ]
    },
    {
     "name": "stderr",
     "output_type": "stream",
     "text": [
      "KID  : 100%|██████████| 32/32 [00:20<00:00,  1.53it/s]\n"
     ]
    },
    {
     "name": "stdout",
     "output_type": "stream",
     "text": [
      "Found 1000 images in the folder ./temp_degraded/\n"
     ]
    },
    {
     "name": "stderr",
     "output_type": "stream",
     "text": [
      "KID  : 100%|██████████| 32/32 [00:11<00:00,  2.70it/s]\n",
      "Testing combinations:  37%|███▋      | 34/92 [51:01<1:32:31, 95.72s/it]"
     ]
    },
    {
     "name": "stdout",
     "output_type": "stream",
     "text": [
      "\n",
      "Tested: ['color_quantization', 'motion_blur']\n",
      "FID: 55.19, KID: 0.0428\n",
      "--------------------------------------------------\n"
     ]
    },
    {
     "name": "stderr",
     "output_type": "stream",
     "text": [
      "Processing ['color_quantization', 'chromatic_aberration']: 100%|██████████| 1000/1000 [00:47<00:00, 20.98it/s]\n"
     ]
    },
    {
     "name": "stdout",
     "output_type": "stream",
     "text": [
      "compute FID between two folders\n",
      "Found 1000 images in the folder ./Temp_Game/\n"
     ]
    },
    {
     "name": "stderr",
     "output_type": "stream",
     "text": [
      "FID  : 100%|██████████| 32/32 [00:14<00:00,  2.17it/s]\n"
     ]
    },
    {
     "name": "stdout",
     "output_type": "stream",
     "text": [
      "Found 1000 images in the folder ./temp_degraded/\n"
     ]
    },
    {
     "name": "stderr",
     "output_type": "stream",
     "text": [
      "FID  : 100%|██████████| 32/32 [00:07<00:00,  4.05it/s]\n"
     ]
    },
    {
     "name": "stdout",
     "output_type": "stream",
     "text": [
      "compute KID between two folders\n",
      "Found 1000 images in the folder ./Temp_Game/\n"
     ]
    },
    {
     "name": "stderr",
     "output_type": "stream",
     "text": [
      "KID  : 100%|██████████| 32/32 [00:20<00:00,  1.53it/s]\n"
     ]
    },
    {
     "name": "stdout",
     "output_type": "stream",
     "text": [
      "Found 1000 images in the folder ./temp_degraded/\n"
     ]
    },
    {
     "name": "stderr",
     "output_type": "stream",
     "text": [
      "KID  : 100%|██████████| 32/32 [00:12<00:00,  2.64it/s]\n",
      "Testing combinations:  38%|███▊      | 35/92 [52:50<1:34:31, 99.50s/it]"
     ]
    },
    {
     "name": "stdout",
     "output_type": "stream",
     "text": [
      "\n",
      "Tested: ['color_quantization', 'chromatic_aberration']\n",
      "FID: 48.99, KID: 0.0497\n",
      "--------------------------------------------------\n"
     ]
    },
    {
     "name": "stderr",
     "output_type": "stream",
     "text": [
      "Processing ['motion_blur', 'chromatic_aberration']: 100%|██████████| 1000/1000 [00:17<00:00, 57.51it/s]\n"
     ]
    },
    {
     "name": "stdout",
     "output_type": "stream",
     "text": [
      "compute FID between two folders\n",
      "Found 1000 images in the folder ./Temp_Game/\n"
     ]
    },
    {
     "name": "stderr",
     "output_type": "stream",
     "text": [
      "FID  : 100%|██████████| 32/32 [00:15<00:00,  2.11it/s]\n"
     ]
    },
    {
     "name": "stdout",
     "output_type": "stream",
     "text": [
      "Found 1000 images in the folder ./temp_degraded/\n"
     ]
    },
    {
     "name": "stderr",
     "output_type": "stream",
     "text": [
      "FID  : 100%|██████████| 32/32 [00:07<00:00,  4.07it/s]\n"
     ]
    },
    {
     "name": "stdout",
     "output_type": "stream",
     "text": [
      "compute KID between two folders\n",
      "Found 1000 images in the folder ./Temp_Game/\n"
     ]
    },
    {
     "name": "stderr",
     "output_type": "stream",
     "text": [
      "KID  : 100%|██████████| 32/32 [00:21<00:00,  1.50it/s]\n"
     ]
    },
    {
     "name": "stdout",
     "output_type": "stream",
     "text": [
      "Found 1000 images in the folder ./temp_degraded/\n"
     ]
    },
    {
     "name": "stderr",
     "output_type": "stream",
     "text": [
      "KID  : 100%|██████████| 32/32 [00:12<00:00,  2.66it/s]\n",
      "Testing combinations:  39%|███▉      | 36/92 [54:09<1:27:07, 93.35s/it]"
     ]
    },
    {
     "name": "stdout",
     "output_type": "stream",
     "text": [
      "\n",
      "Tested: ['motion_blur', 'chromatic_aberration']\n",
      "FID: 54.84, KID: 0.0484\n",
      "--------------------------------------------------\n"
     ]
    },
    {
     "name": "stderr",
     "output_type": "stream",
     "text": [
      "Processing ['downscale_upscale', 'enhance_edges', 'gaussian_blur']: 100%|██████████| 1000/1000 [00:17<00:00, 55.89it/s]\n"
     ]
    },
    {
     "name": "stdout",
     "output_type": "stream",
     "text": [
      "compute FID between two folders\n",
      "Found 1000 images in the folder ./Temp_Game/\n"
     ]
    },
    {
     "name": "stderr",
     "output_type": "stream",
     "text": [
      "FID  : 100%|██████████| 32/32 [00:14<00:00,  2.16it/s]\n"
     ]
    },
    {
     "name": "stdout",
     "output_type": "stream",
     "text": [
      "Found 1000 images in the folder ./temp_degraded/\n"
     ]
    },
    {
     "name": "stderr",
     "output_type": "stream",
     "text": [
      "FID  : 100%|██████████| 32/32 [00:07<00:00,  4.06it/s]\n"
     ]
    },
    {
     "name": "stdout",
     "output_type": "stream",
     "text": [
      "compute KID between two folders\n",
      "Found 1000 images in the folder ./Temp_Game/\n"
     ]
    },
    {
     "name": "stderr",
     "output_type": "stream",
     "text": [
      "KID  : 100%|██████████| 32/32 [00:20<00:00,  1.53it/s]\n"
     ]
    },
    {
     "name": "stdout",
     "output_type": "stream",
     "text": [
      "Found 1000 images in the folder ./temp_degraded/\n"
     ]
    },
    {
     "name": "stderr",
     "output_type": "stream",
     "text": [
      "KID  : 100%|██████████| 32/32 [00:11<00:00,  2.67it/s]\n",
      "Testing combinations:  40%|████      | 37/92 [55:27<1:21:34, 88.99s/it]"
     ]
    },
    {
     "name": "stdout",
     "output_type": "stream",
     "text": [
      "\n",
      "Tested: ['downscale_upscale', 'enhance_edges', 'gaussian_blur']\n",
      "FID: 59.25, KID: 0.0441\n",
      "--------------------------------------------------\n"
     ]
    },
    {
     "name": "stderr",
     "output_type": "stream",
     "text": [
      "Processing ['downscale_upscale', 'enhance_edges', 'median_filter']: 100%|██████████| 1000/1000 [00:33<00:00, 30.28it/s]\n"
     ]
    },
    {
     "name": "stdout",
     "output_type": "stream",
     "text": [
      "compute FID between two folders\n",
      "Found 1000 images in the folder ./Temp_Game/\n"
     ]
    },
    {
     "name": "stderr",
     "output_type": "stream",
     "text": [
      "FID  : 100%|██████████| 32/32 [00:15<00:00,  2.11it/s]\n"
     ]
    },
    {
     "name": "stdout",
     "output_type": "stream",
     "text": [
      "Found 1000 images in the folder ./temp_degraded/\n"
     ]
    },
    {
     "name": "stderr",
     "output_type": "stream",
     "text": [
      "FID  : 100%|██████████| 32/32 [00:07<00:00,  4.21it/s]\n"
     ]
    },
    {
     "name": "stdout",
     "output_type": "stream",
     "text": [
      "compute KID between two folders\n",
      "Found 1000 images in the folder ./Temp_Game/\n"
     ]
    },
    {
     "name": "stderr",
     "output_type": "stream",
     "text": [
      "KID  : 100%|██████████| 32/32 [00:21<00:00,  1.50it/s]\n"
     ]
    },
    {
     "name": "stdout",
     "output_type": "stream",
     "text": [
      "Found 1000 images in the folder ./temp_degraded/\n"
     ]
    },
    {
     "name": "stderr",
     "output_type": "stream",
     "text": [
      "KID  : 100%|██████████| 32/32 [00:11<00:00,  2.72it/s]\n",
      "Testing combinations:  41%|████▏     | 38/92 [57:01<1:21:26, 90.49s/it]"
     ]
    },
    {
     "name": "stdout",
     "output_type": "stream",
     "text": [
      "\n",
      "Tested: ['downscale_upscale', 'enhance_edges', 'median_filter']\n",
      "FID: 59.26, KID: 0.0449\n",
      "--------------------------------------------------\n"
     ]
    },
    {
     "name": "stderr",
     "output_type": "stream",
     "text": [
      "Processing ['downscale_upscale', 'enhance_edges', 'bilateral_filter']: 100%|██████████| 1000/1000 [00:24<00:00, 40.93it/s]\n"
     ]
    },
    {
     "name": "stdout",
     "output_type": "stream",
     "text": [
      "compute FID between two folders\n",
      "Found 1000 images in the folder ./Temp_Game/\n"
     ]
    },
    {
     "name": "stderr",
     "output_type": "stream",
     "text": [
      "FID  : 100%|██████████| 32/32 [00:15<00:00,  2.10it/s]\n"
     ]
    },
    {
     "name": "stdout",
     "output_type": "stream",
     "text": [
      "Found 1000 images in the folder ./temp_degraded/\n"
     ]
    },
    {
     "name": "stderr",
     "output_type": "stream",
     "text": [
      "FID  : 100%|██████████| 32/32 [00:07<00:00,  4.25it/s]\n"
     ]
    },
    {
     "name": "stdout",
     "output_type": "stream",
     "text": [
      "compute KID between two folders\n",
      "Found 1000 images in the folder ./Temp_Game/\n"
     ]
    },
    {
     "name": "stderr",
     "output_type": "stream",
     "text": [
      "KID  : 100%|██████████| 32/32 [00:21<00:00,  1.50it/s]\n"
     ]
    },
    {
     "name": "stdout",
     "output_type": "stream",
     "text": [
      "Found 1000 images in the folder ./temp_degraded/\n"
     ]
    },
    {
     "name": "stderr",
     "output_type": "stream",
     "text": [
      "KID  : 100%|██████████| 32/32 [00:11<00:00,  2.71it/s]\n",
      "Testing combinations:  42%|████▏     | 39/92 [58:27<1:18:35, 88.97s/it]"
     ]
    },
    {
     "name": "stdout",
     "output_type": "stream",
     "text": [
      "\n",
      "Tested: ['downscale_upscale', 'enhance_edges', 'bilateral_filter']\n",
      "FID: 59.22, KID: 0.0483\n",
      "--------------------------------------------------\n"
     ]
    },
    {
     "name": "stderr",
     "output_type": "stream",
     "text": [
      "Processing ['downscale_upscale', 'enhance_edges', 'color_quantization']: 100%|██████████| 1000/1000 [00:41<00:00, 24.28it/s]\n"
     ]
    },
    {
     "name": "stdout",
     "output_type": "stream",
     "text": [
      "compute FID between two folders\n",
      "Found 1000 images in the folder ./Temp_Game/\n"
     ]
    },
    {
     "name": "stderr",
     "output_type": "stream",
     "text": [
      "FID  : 100%|██████████| 32/32 [00:15<00:00,  2.10it/s]\n"
     ]
    },
    {
     "name": "stdout",
     "output_type": "stream",
     "text": [
      "Found 1000 images in the folder ./temp_degraded/\n"
     ]
    },
    {
     "name": "stderr",
     "output_type": "stream",
     "text": [
      "FID  : 100%|██████████| 32/32 [00:07<00:00,  4.16it/s]\n"
     ]
    },
    {
     "name": "stdout",
     "output_type": "stream",
     "text": [
      "compute KID between two folders\n",
      "Found 1000 images in the folder ./Temp_Game/\n"
     ]
    },
    {
     "name": "stderr",
     "output_type": "stream",
     "text": [
      "KID  : 100%|██████████| 32/32 [00:21<00:00,  1.50it/s]\n"
     ]
    },
    {
     "name": "stdout",
     "output_type": "stream",
     "text": [
      "Found 1000 images in the folder ./temp_degraded/\n"
     ]
    },
    {
     "name": "stderr",
     "output_type": "stream",
     "text": [
      "KID  : 100%|██████████| 32/32 [00:11<00:00,  2.68it/s]\n",
      "Testing combinations:  43%|████▎     | 40/92 [1:00:10<1:20:47, 93.22s/it]"
     ]
    },
    {
     "name": "stdout",
     "output_type": "stream",
     "text": [
      "\n",
      "Tested: ['downscale_upscale', 'enhance_edges', 'color_quantization']\n",
      "FID: 56.40, KID: 0.0437\n",
      "--------------------------------------------------\n"
     ]
    },
    {
     "name": "stderr",
     "output_type": "stream",
     "text": [
      "Processing ['downscale_upscale', 'enhance_edges', 'motion_blur']: 100%|██████████| 1000/1000 [00:17<00:00, 55.93it/s]\n"
     ]
    },
    {
     "name": "stdout",
     "output_type": "stream",
     "text": [
      "compute FID between two folders\n",
      "Found 1000 images in the folder ./Temp_Game/\n"
     ]
    },
    {
     "name": "stderr",
     "output_type": "stream",
     "text": [
      "FID  : 100%|██████████| 32/32 [00:14<00:00,  2.15it/s]\n"
     ]
    },
    {
     "name": "stdout",
     "output_type": "stream",
     "text": [
      "Found 1000 images in the folder ./temp_degraded/\n"
     ]
    },
    {
     "name": "stderr",
     "output_type": "stream",
     "text": [
      "FID  : 100%|██████████| 32/32 [00:07<00:00,  4.22it/s]\n"
     ]
    },
    {
     "name": "stdout",
     "output_type": "stream",
     "text": [
      "compute KID between two folders\n",
      "Found 1000 images in the folder ./Temp_Game/\n"
     ]
    },
    {
     "name": "stderr",
     "output_type": "stream",
     "text": [
      "KID  : 100%|██████████| 32/32 [00:20<00:00,  1.54it/s]\n"
     ]
    },
    {
     "name": "stdout",
     "output_type": "stream",
     "text": [
      "Found 1000 images in the folder ./temp_degraded/\n"
     ]
    },
    {
     "name": "stderr",
     "output_type": "stream",
     "text": [
      "KID  : 100%|██████████| 32/32 [00:11<00:00,  2.70it/s]\n",
      "Testing combinations:  45%|████▍     | 41/92 [1:01:29<1:15:37, 88.97s/it]"
     ]
    },
    {
     "name": "stdout",
     "output_type": "stream",
     "text": [
      "\n",
      "Tested: ['downscale_upscale', 'enhance_edges', 'motion_blur']\n",
      "FID: 59.90, KID: 0.0432\n",
      "--------------------------------------------------\n"
     ]
    },
    {
     "name": "stderr",
     "output_type": "stream",
     "text": [
      "Processing ['downscale_upscale', 'enhance_edges', 'chromatic_aberration']: 100%|██████████| 1000/1000 [00:17<00:00, 56.75it/s]\n"
     ]
    },
    {
     "name": "stdout",
     "output_type": "stream",
     "text": [
      "compute FID between two folders\n",
      "Found 1000 images in the folder ./Temp_Game/\n"
     ]
    },
    {
     "name": "stderr",
     "output_type": "stream",
     "text": [
      "FID  : 100%|██████████| 32/32 [00:14<00:00,  2.16it/s]\n"
     ]
    },
    {
     "name": "stdout",
     "output_type": "stream",
     "text": [
      "Found 1000 images in the folder ./temp_degraded/\n"
     ]
    },
    {
     "name": "stderr",
     "output_type": "stream",
     "text": [
      "FID  : 100%|██████████| 32/32 [00:07<00:00,  4.16it/s]\n"
     ]
    },
    {
     "name": "stdout",
     "output_type": "stream",
     "text": [
      "compute KID between two folders\n",
      "Found 1000 images in the folder ./Temp_Game/\n"
     ]
    },
    {
     "name": "stderr",
     "output_type": "stream",
     "text": [
      "KID  : 100%|██████████| 32/32 [00:20<00:00,  1.53it/s]\n"
     ]
    },
    {
     "name": "stdout",
     "output_type": "stream",
     "text": [
      "Found 1000 images in the folder ./temp_degraded/\n"
     ]
    },
    {
     "name": "stderr",
     "output_type": "stream",
     "text": [
      "KID  : 100%|██████████| 32/32 [00:12<00:00,  2.65it/s]\n",
      "Testing combinations:  46%|████▌     | 42/92 [1:02:47<1:11:31, 85.83s/it]"
     ]
    },
    {
     "name": "stdout",
     "output_type": "stream",
     "text": [
      "\n",
      "Tested: ['downscale_upscale', 'enhance_edges', 'chromatic_aberration']\n",
      "FID: 55.37, KID: 0.0467\n",
      "--------------------------------------------------\n"
     ]
    },
    {
     "name": "stderr",
     "output_type": "stream",
     "text": [
      "Processing ['downscale_upscale', 'gaussian_blur', 'median_filter']: 100%|██████████| 1000/1000 [00:33<00:00, 29.56it/s]\n"
     ]
    },
    {
     "name": "stdout",
     "output_type": "stream",
     "text": [
      "compute FID between two folders\n",
      "Found 1000 images in the folder ./Temp_Game/\n"
     ]
    },
    {
     "name": "stderr",
     "output_type": "stream",
     "text": [
      "FID  : 100%|██████████| 32/32 [00:15<00:00,  2.11it/s]\n"
     ]
    },
    {
     "name": "stdout",
     "output_type": "stream",
     "text": [
      "Found 1000 images in the folder ./temp_degraded/\n"
     ]
    },
    {
     "name": "stderr",
     "output_type": "stream",
     "text": [
      "FID  : 100%|██████████| 32/32 [00:07<00:00,  4.23it/s]\n"
     ]
    },
    {
     "name": "stdout",
     "output_type": "stream",
     "text": [
      "compute KID between two folders\n",
      "Found 1000 images in the folder ./Temp_Game/\n"
     ]
    },
    {
     "name": "stderr",
     "output_type": "stream",
     "text": [
      "KID  : 100%|██████████| 32/32 [00:21<00:00,  1.51it/s]\n"
     ]
    },
    {
     "name": "stdout",
     "output_type": "stream",
     "text": [
      "Found 1000 images in the folder ./temp_degraded/\n"
     ]
    },
    {
     "name": "stderr",
     "output_type": "stream",
     "text": [
      "KID  : 100%|██████████| 32/32 [00:11<00:00,  2.71it/s]\n",
      "Testing combinations:  47%|████▋     | 43/92 [1:04:23<1:12:24, 88.65s/it]"
     ]
    },
    {
     "name": "stdout",
     "output_type": "stream",
     "text": [
      "\n",
      "Tested: ['downscale_upscale', 'gaussian_blur', 'median_filter']\n",
      "FID: 59.10, KID: 0.0461\n",
      "--------------------------------------------------\n"
     ]
    },
    {
     "name": "stderr",
     "output_type": "stream",
     "text": [
      "Processing ['downscale_upscale', 'gaussian_blur', 'bilateral_filter']: 100%|██████████| 1000/1000 [00:25<00:00, 39.75it/s]\n"
     ]
    },
    {
     "name": "stdout",
     "output_type": "stream",
     "text": [
      "compute FID between two folders\n",
      "Found 1000 images in the folder ./Temp_Game/\n"
     ]
    },
    {
     "name": "stderr",
     "output_type": "stream",
     "text": [
      "FID  : 100%|██████████| 32/32 [00:15<00:00,  2.10it/s]\n"
     ]
    },
    {
     "name": "stdout",
     "output_type": "stream",
     "text": [
      "Found 1000 images in the folder ./temp_degraded/\n"
     ]
    },
    {
     "name": "stderr",
     "output_type": "stream",
     "text": [
      "FID  : 100%|██████████| 32/32 [00:07<00:00,  4.16it/s]\n"
     ]
    },
    {
     "name": "stdout",
     "output_type": "stream",
     "text": [
      "compute KID between two folders\n",
      "Found 1000 images in the folder ./Temp_Game/\n"
     ]
    },
    {
     "name": "stderr",
     "output_type": "stream",
     "text": [
      "KID  : 100%|██████████| 32/32 [00:21<00:00,  1.51it/s]\n"
     ]
    },
    {
     "name": "stdout",
     "output_type": "stream",
     "text": [
      "Found 1000 images in the folder ./temp_degraded/\n"
     ]
    },
    {
     "name": "stderr",
     "output_type": "stream",
     "text": [
      "KID  : 100%|██████████| 32/32 [00:11<00:00,  2.67it/s]\n",
      "Testing combinations:  48%|████▊     | 44/92 [1:05:50<1:10:33, 88.20s/it]"
     ]
    },
    {
     "name": "stdout",
     "output_type": "stream",
     "text": [
      "\n",
      "Tested: ['downscale_upscale', 'gaussian_blur', 'bilateral_filter']\n",
      "FID: 59.10, KID: 0.0522\n",
      "--------------------------------------------------\n"
     ]
    },
    {
     "name": "stderr",
     "output_type": "stream",
     "text": [
      "Processing ['downscale_upscale', 'gaussian_blur', 'color_quantization']: 100%|██████████| 1000/1000 [00:41<00:00, 24.28it/s]\n"
     ]
    },
    {
     "name": "stdout",
     "output_type": "stream",
     "text": [
      "compute FID between two folders\n",
      "Found 1000 images in the folder ./Temp_Game/\n"
     ]
    },
    {
     "name": "stderr",
     "output_type": "stream",
     "text": [
      "FID  : 100%|██████████| 32/32 [00:14<00:00,  2.16it/s]\n"
     ]
    },
    {
     "name": "stdout",
     "output_type": "stream",
     "text": [
      "Found 1000 images in the folder ./temp_degraded/\n"
     ]
    },
    {
     "name": "stderr",
     "output_type": "stream",
     "text": [
      "FID  : 100%|██████████| 32/32 [00:07<00:00,  4.06it/s]\n"
     ]
    },
    {
     "name": "stdout",
     "output_type": "stream",
     "text": [
      "compute KID between two folders\n",
      "Found 1000 images in the folder ./Temp_Game/\n"
     ]
    },
    {
     "name": "stderr",
     "output_type": "stream",
     "text": [
      "KID  : 100%|██████████| 32/32 [00:20<00:00,  1.53it/s]\n"
     ]
    },
    {
     "name": "stdout",
     "output_type": "stream",
     "text": [
      "Found 1000 images in the folder ./temp_degraded/\n"
     ]
    },
    {
     "name": "stderr",
     "output_type": "stream",
     "text": [
      "KID  : 100%|██████████| 32/32 [00:12<00:00,  2.65it/s]\n",
      "Testing combinations:  49%|████▉     | 45/92 [1:07:31<1:12:15, 92.24s/it]"
     ]
    },
    {
     "name": "stdout",
     "output_type": "stream",
     "text": [
      "\n",
      "Tested: ['downscale_upscale', 'gaussian_blur', 'color_quantization']\n",
      "FID: 55.99, KID: 0.0465\n",
      "--------------------------------------------------\n"
     ]
    },
    {
     "name": "stderr",
     "output_type": "stream",
     "text": [
      "Processing ['downscale_upscale', 'gaussian_blur', 'motion_blur']: 100%|██████████| 1000/1000 [00:17<00:00, 56.70it/s]\n"
     ]
    },
    {
     "name": "stdout",
     "output_type": "stream",
     "text": [
      "compute FID between two folders\n",
      "Found 1000 images in the folder ./Temp_Game/\n"
     ]
    },
    {
     "name": "stderr",
     "output_type": "stream",
     "text": [
      "FID  : 100%|██████████| 32/32 [00:15<00:00,  2.12it/s]\n"
     ]
    },
    {
     "name": "stdout",
     "output_type": "stream",
     "text": [
      "Found 1000 images in the folder ./temp_degraded/\n"
     ]
    },
    {
     "name": "stderr",
     "output_type": "stream",
     "text": [
      "FID  : 100%|██████████| 32/32 [00:07<00:00,  4.23it/s]\n"
     ]
    },
    {
     "name": "stdout",
     "output_type": "stream",
     "text": [
      "compute KID between two folders\n",
      "Found 1000 images in the folder ./Temp_Game/\n"
     ]
    },
    {
     "name": "stderr",
     "output_type": "stream",
     "text": [
      "KID  : 100%|██████████| 32/32 [00:21<00:00,  1.50it/s]\n"
     ]
    },
    {
     "name": "stdout",
     "output_type": "stream",
     "text": [
      "Found 1000 images in the folder ./temp_degraded/\n"
     ]
    },
    {
     "name": "stderr",
     "output_type": "stream",
     "text": [
      "KID  : 100%|██████████| 32/32 [00:11<00:00,  2.71it/s]\n",
      "Testing combinations:  50%|█████     | 46/92 [1:08:50<1:07:34, 88.13s/it]"
     ]
    },
    {
     "name": "stdout",
     "output_type": "stream",
     "text": [
      "\n",
      "Tested: ['downscale_upscale', 'gaussian_blur', 'motion_blur']\n",
      "FID: 59.73, KID: 0.0463\n",
      "--------------------------------------------------\n"
     ]
    },
    {
     "name": "stderr",
     "output_type": "stream",
     "text": [
      "Processing ['downscale_upscale', 'gaussian_blur', 'chromatic_aberration']: 100%|██████████| 1000/1000 [00:17<00:00, 56.97it/s]\n"
     ]
    },
    {
     "name": "stdout",
     "output_type": "stream",
     "text": [
      "compute FID between two folders\n",
      "Found 1000 images in the folder ./Temp_Game/\n"
     ]
    },
    {
     "name": "stderr",
     "output_type": "stream",
     "text": [
      "FID  : 100%|██████████| 32/32 [00:14<00:00,  2.16it/s]\n"
     ]
    },
    {
     "name": "stdout",
     "output_type": "stream",
     "text": [
      "Found 1000 images in the folder ./temp_degraded/\n"
     ]
    },
    {
     "name": "stderr",
     "output_type": "stream",
     "text": [
      "FID  : 100%|██████████| 32/32 [00:07<00:00,  4.18it/s]\n"
     ]
    },
    {
     "name": "stdout",
     "output_type": "stream",
     "text": [
      "compute KID between two folders\n",
      "Found 1000 images in the folder ./Temp_Game/\n"
     ]
    },
    {
     "name": "stderr",
     "output_type": "stream",
     "text": [
      "KID  : 100%|██████████| 32/32 [00:21<00:00,  1.50it/s]\n"
     ]
    },
    {
     "name": "stdout",
     "output_type": "stream",
     "text": [
      "Found 1000 images in the folder ./temp_degraded/\n"
     ]
    },
    {
     "name": "stderr",
     "output_type": "stream",
     "text": [
      "KID  : 100%|██████████| 32/32 [00:12<00:00,  2.67it/s]\n",
      "Testing combinations:  51%|█████     | 47/92 [1:10:09<1:03:58, 85.31s/it]"
     ]
    },
    {
     "name": "stdout",
     "output_type": "stream",
     "text": [
      "\n",
      "Tested: ['downscale_upscale', 'gaussian_blur', 'chromatic_aberration']\n",
      "FID: 54.90, KID: 0.0548\n",
      "--------------------------------------------------\n"
     ]
    },
    {
     "name": "stderr",
     "output_type": "stream",
     "text": [
      "Processing ['downscale_upscale', 'median_filter', 'bilateral_filter']: 100%|██████████| 1000/1000 [00:40<00:00, 24.48it/s]\n"
     ]
    },
    {
     "name": "stdout",
     "output_type": "stream",
     "text": [
      "compute FID between two folders\n",
      "Found 1000 images in the folder ./Temp_Game/\n"
     ]
    },
    {
     "name": "stderr",
     "output_type": "stream",
     "text": [
      "FID  : 100%|██████████| 32/32 [00:15<00:00,  2.10it/s]\n"
     ]
    },
    {
     "name": "stdout",
     "output_type": "stream",
     "text": [
      "Found 1000 images in the folder ./temp_degraded/\n"
     ]
    },
    {
     "name": "stderr",
     "output_type": "stream",
     "text": [
      "FID  : 100%|██████████| 32/32 [00:07<00:00,  4.14it/s]\n"
     ]
    },
    {
     "name": "stdout",
     "output_type": "stream",
     "text": [
      "compute KID between two folders\n",
      "Found 1000 images in the folder ./Temp_Game/\n"
     ]
    },
    {
     "name": "stderr",
     "output_type": "stream",
     "text": [
      "KID  : 100%|██████████| 32/32 [00:21<00:00,  1.51it/s]\n"
     ]
    },
    {
     "name": "stdout",
     "output_type": "stream",
     "text": [
      "Found 1000 images in the folder ./temp_degraded/\n"
     ]
    },
    {
     "name": "stderr",
     "output_type": "stream",
     "text": [
      "KID  : 100%|██████████| 32/32 [00:11<00:00,  2.68it/s]\n",
      "Testing combinations:  52%|█████▏    | 48/92 [1:11:51<1:06:19, 90.45s/it]"
     ]
    },
    {
     "name": "stdout",
     "output_type": "stream",
     "text": [
      "\n",
      "Tested: ['downscale_upscale', 'median_filter', 'bilateral_filter']\n",
      "FID: 58.84, KID: 0.0519\n",
      "--------------------------------------------------\n"
     ]
    },
    {
     "name": "stderr",
     "output_type": "stream",
     "text": [
      "Processing ['downscale_upscale', 'median_filter', 'color_quantization']: 100%|██████████| 1000/1000 [00:50<00:00, 19.69it/s]\n"
     ]
    },
    {
     "name": "stdout",
     "output_type": "stream",
     "text": [
      "compute FID between two folders\n",
      "Found 1000 images in the folder ./Temp_Game/\n"
     ]
    },
    {
     "name": "stderr",
     "output_type": "stream",
     "text": [
      "FID  : 100%|██████████| 32/32 [00:15<00:00,  2.09it/s]\n"
     ]
    },
    {
     "name": "stdout",
     "output_type": "stream",
     "text": [
      "Found 1000 images in the folder ./temp_degraded/\n"
     ]
    },
    {
     "name": "stderr",
     "output_type": "stream",
     "text": [
      "FID  : 100%|██████████| 32/32 [00:07<00:00,  4.22it/s]\n"
     ]
    },
    {
     "name": "stdout",
     "output_type": "stream",
     "text": [
      "compute KID between two folders\n",
      "Found 1000 images in the folder ./Temp_Game/\n"
     ]
    },
    {
     "name": "stderr",
     "output_type": "stream",
     "text": [
      "KID  : 100%|██████████| 32/32 [00:21<00:00,  1.50it/s]\n"
     ]
    },
    {
     "name": "stdout",
     "output_type": "stream",
     "text": [
      "Found 1000 images in the folder ./temp_degraded/\n"
     ]
    },
    {
     "name": "stderr",
     "output_type": "stream",
     "text": [
      "KID  : 100%|██████████| 32/32 [00:11<00:00,  2.72it/s]\n",
      "Testing combinations:  53%|█████▎    | 49/92 [1:13:43<1:09:30, 96.99s/it]"
     ]
    },
    {
     "name": "stdout",
     "output_type": "stream",
     "text": [
      "\n",
      "Tested: ['downscale_upscale', 'median_filter', 'color_quantization']\n",
      "FID: 55.08, KID: 0.0476\n",
      "--------------------------------------------------\n"
     ]
    },
    {
     "name": "stderr",
     "output_type": "stream",
     "text": [
      "Processing ['downscale_upscale', 'median_filter', 'motion_blur']: 100%|██████████| 1000/1000 [00:33<00:00, 30.04it/s]\n"
     ]
    },
    {
     "name": "stdout",
     "output_type": "stream",
     "text": [
      "compute FID between two folders\n",
      "Found 1000 images in the folder ./Temp_Game/\n"
     ]
    },
    {
     "name": "stderr",
     "output_type": "stream",
     "text": [
      "FID  : 100%|██████████| 32/32 [00:14<00:00,  2.15it/s]\n"
     ]
    },
    {
     "name": "stdout",
     "output_type": "stream",
     "text": [
      "Found 1000 images in the folder ./temp_degraded/\n"
     ]
    },
    {
     "name": "stderr",
     "output_type": "stream",
     "text": [
      "FID  : 100%|██████████| 32/32 [00:07<00:00,  4.14it/s]\n"
     ]
    },
    {
     "name": "stdout",
     "output_type": "stream",
     "text": [
      "compute KID between two folders\n",
      "Found 1000 images in the folder ./Temp_Game/\n"
     ]
    },
    {
     "name": "stderr",
     "output_type": "stream",
     "text": [
      "KID  : 100%|██████████| 32/32 [00:20<00:00,  1.53it/s]\n"
     ]
    },
    {
     "name": "stdout",
     "output_type": "stream",
     "text": [
      "Found 1000 images in the folder ./temp_degraded/\n"
     ]
    },
    {
     "name": "stderr",
     "output_type": "stream",
     "text": [
      "KID  : 100%|██████████| 32/32 [00:11<00:00,  2.71it/s]\n",
      "Testing combinations:  54%|█████▍    | 50/92 [1:15:18<1:07:20, 96.20s/it]"
     ]
    },
    {
     "name": "stdout",
     "output_type": "stream",
     "text": [
      "\n",
      "Tested: ['downscale_upscale', 'median_filter', 'motion_blur']\n",
      "FID: 59.45, KID: 0.0446\n",
      "--------------------------------------------------\n"
     ]
    },
    {
     "name": "stderr",
     "output_type": "stream",
     "text": [
      "Processing ['downscale_upscale', 'median_filter', 'chromatic_aberration']: 100%|██████████| 1000/1000 [00:33<00:00, 30.07it/s]\n"
     ]
    },
    {
     "name": "stdout",
     "output_type": "stream",
     "text": [
      "compute FID between two folders\n",
      "Found 1000 images in the folder ./Temp_Game/\n"
     ]
    },
    {
     "name": "stderr",
     "output_type": "stream",
     "text": [
      "FID  : 100%|██████████| 32/32 [00:14<00:00,  2.15it/s]\n"
     ]
    },
    {
     "name": "stdout",
     "output_type": "stream",
     "text": [
      "Found 1000 images in the folder ./temp_degraded/\n"
     ]
    },
    {
     "name": "stderr",
     "output_type": "stream",
     "text": [
      "FID  : 100%|██████████| 32/32 [00:07<00:00,  4.07it/s]\n"
     ]
    },
    {
     "name": "stdout",
     "output_type": "stream",
     "text": [
      "compute KID between two folders\n",
      "Found 1000 images in the folder ./Temp_Game/\n"
     ]
    },
    {
     "name": "stderr",
     "output_type": "stream",
     "text": [
      "KID  : 100%|██████████| 32/32 [00:20<00:00,  1.53it/s]\n"
     ]
    },
    {
     "name": "stdout",
     "output_type": "stream",
     "text": [
      "Found 1000 images in the folder ./temp_degraded/\n"
     ]
    },
    {
     "name": "stderr",
     "output_type": "stream",
     "text": [
      "KID  : 100%|██████████| 32/32 [00:11<00:00,  2.71it/s]\n",
      "Testing combinations:  55%|█████▌    | 51/92 [1:16:52<1:05:20, 95.63s/it]"
     ]
    },
    {
     "name": "stdout",
     "output_type": "stream",
     "text": [
      "\n",
      "Tested: ['downscale_upscale', 'median_filter', 'chromatic_aberration']\n",
      "FID: 54.41, KID: 0.0526\n",
      "--------------------------------------------------\n"
     ]
    },
    {
     "name": "stderr",
     "output_type": "stream",
     "text": [
      "Processing ['downscale_upscale', 'bilateral_filter', 'color_quantization']: 100%|██████████| 1000/1000 [00:42<00:00, 23.45it/s]\n"
     ]
    },
    {
     "name": "stdout",
     "output_type": "stream",
     "text": [
      "compute FID between two folders\n",
      "Found 1000 images in the folder ./Temp_Game/\n"
     ]
    },
    {
     "name": "stderr",
     "output_type": "stream",
     "text": [
      "FID  : 100%|██████████| 32/32 [00:15<00:00,  2.10it/s]\n"
     ]
    },
    {
     "name": "stdout",
     "output_type": "stream",
     "text": [
      "Found 1000 images in the folder ./temp_degraded/\n"
     ]
    },
    {
     "name": "stderr",
     "output_type": "stream",
     "text": [
      "FID  : 100%|██████████| 32/32 [00:07<00:00,  4.22it/s]\n"
     ]
    },
    {
     "name": "stdout",
     "output_type": "stream",
     "text": [
      "compute KID between two folders\n",
      "Found 1000 images in the folder ./Temp_Game/\n"
     ]
    },
    {
     "name": "stderr",
     "output_type": "stream",
     "text": [
      "KID  : 100%|██████████| 32/32 [00:21<00:00,  1.50it/s]\n"
     ]
    },
    {
     "name": "stdout",
     "output_type": "stream",
     "text": [
      "Found 1000 images in the folder ./temp_degraded/\n"
     ]
    },
    {
     "name": "stderr",
     "output_type": "stream",
     "text": [
      "KID  : 100%|██████████| 32/32 [00:11<00:00,  2.71it/s]\n",
      "Testing combinations:  57%|█████▋    | 52/92 [1:18:36<1:05:19, 97.99s/it]"
     ]
    },
    {
     "name": "stdout",
     "output_type": "stream",
     "text": [
      "\n",
      "Tested: ['downscale_upscale', 'bilateral_filter', 'color_quantization']\n",
      "FID: 54.64, KID: 0.0473\n",
      "--------------------------------------------------\n"
     ]
    },
    {
     "name": "stderr",
     "output_type": "stream",
     "text": [
      "Processing ['downscale_upscale', 'bilateral_filter', 'motion_blur']: 100%|██████████| 1000/1000 [00:24<00:00, 41.08it/s]\n"
     ]
    },
    {
     "name": "stdout",
     "output_type": "stream",
     "text": [
      "compute FID between two folders\n",
      "Found 1000 images in the folder ./Temp_Game/\n"
     ]
    },
    {
     "name": "stderr",
     "output_type": "stream",
     "text": [
      "FID  : 100%|██████████| 32/32 [00:15<00:00,  2.10it/s]\n"
     ]
    },
    {
     "name": "stdout",
     "output_type": "stream",
     "text": [
      "Found 1000 images in the folder ./temp_degraded/\n"
     ]
    },
    {
     "name": "stderr",
     "output_type": "stream",
     "text": [
      "FID  : 100%|██████████| 32/32 [00:07<00:00,  4.23it/s]\n"
     ]
    },
    {
     "name": "stdout",
     "output_type": "stream",
     "text": [
      "compute KID between two folders\n",
      "Found 1000 images in the folder ./Temp_Game/\n"
     ]
    },
    {
     "name": "stderr",
     "output_type": "stream",
     "text": [
      "KID  : 100%|██████████| 32/32 [00:21<00:00,  1.50it/s]\n"
     ]
    },
    {
     "name": "stdout",
     "output_type": "stream",
     "text": [
      "Found 1000 images in the folder ./temp_degraded/\n"
     ]
    },
    {
     "name": "stderr",
     "output_type": "stream",
     "text": [
      "KID  : 100%|██████████| 32/32 [00:11<00:00,  2.68it/s]\n",
      "Testing combinations:  58%|█████▊    | 53/92 [1:20:01<1:01:12, 94.17s/it]"
     ]
    },
    {
     "name": "stdout",
     "output_type": "stream",
     "text": [
      "\n",
      "Tested: ['downscale_upscale', 'bilateral_filter', 'motion_blur']\n",
      "FID: 59.49, KID: 0.0513\n",
      "--------------------------------------------------\n"
     ]
    },
    {
     "name": "stderr",
     "output_type": "stream",
     "text": [
      "Processing ['downscale_upscale', 'bilateral_filter', 'chromatic_aberration']: 100%|██████████| 1000/1000 [00:24<00:00, 40.50it/s]\n"
     ]
    },
    {
     "name": "stdout",
     "output_type": "stream",
     "text": [
      "compute FID between two folders\n",
      "Found 1000 images in the folder ./Temp_Game/\n"
     ]
    },
    {
     "name": "stderr",
     "output_type": "stream",
     "text": [
      "FID  : 100%|██████████| 32/32 [00:15<00:00,  2.10it/s]\n"
     ]
    },
    {
     "name": "stdout",
     "output_type": "stream",
     "text": [
      "Found 1000 images in the folder ./temp_degraded/\n"
     ]
    },
    {
     "name": "stderr",
     "output_type": "stream",
     "text": [
      "FID  : 100%|██████████| 32/32 [00:07<00:00,  4.25it/s]\n"
     ]
    },
    {
     "name": "stdout",
     "output_type": "stream",
     "text": [
      "compute KID between two folders\n",
      "Found 1000 images in the folder ./Temp_Game/\n"
     ]
    },
    {
     "name": "stderr",
     "output_type": "stream",
     "text": [
      "KID  : 100%|██████████| 32/32 [00:20<00:00,  1.54it/s]\n"
     ]
    },
    {
     "name": "stdout",
     "output_type": "stream",
     "text": [
      "Found 1000 images in the folder ./temp_degraded/\n"
     ]
    },
    {
     "name": "stderr",
     "output_type": "stream",
     "text": [
      "KID  : 100%|██████████| 32/32 [00:11<00:00,  2.71it/s]\n",
      "Testing combinations:  59%|█████▊    | 54/92 [1:21:26<57:56, 91.50s/it]  "
     ]
    },
    {
     "name": "stdout",
     "output_type": "stream",
     "text": [
      "\n",
      "Tested: ['downscale_upscale', 'bilateral_filter', 'chromatic_aberration']\n",
      "FID: 55.90, KID: 0.0590\n",
      "--------------------------------------------------\n"
     ]
    },
    {
     "name": "stderr",
     "output_type": "stream",
     "text": [
      "Processing ['downscale_upscale', 'color_quantization', 'motion_blur']: 100%|██████████| 1000/1000 [00:41<00:00, 24.35it/s]\n"
     ]
    },
    {
     "name": "stdout",
     "output_type": "stream",
     "text": [
      "compute FID between two folders\n",
      "Found 1000 images in the folder ./Temp_Game/\n"
     ]
    },
    {
     "name": "stderr",
     "output_type": "stream",
     "text": [
      "FID  : 100%|██████████| 32/32 [00:14<00:00,  2.16it/s]\n"
     ]
    },
    {
     "name": "stdout",
     "output_type": "stream",
     "text": [
      "Found 1000 images in the folder ./temp_degraded/\n"
     ]
    },
    {
     "name": "stderr",
     "output_type": "stream",
     "text": [
      "FID  : 100%|██████████| 32/32 [00:07<00:00,  4.08it/s]\n"
     ]
    },
    {
     "name": "stdout",
     "output_type": "stream",
     "text": [
      "compute KID between two folders\n",
      "Found 1000 images in the folder ./Temp_Game/\n"
     ]
    },
    {
     "name": "stderr",
     "output_type": "stream",
     "text": [
      "KID  : 100%|██████████| 32/32 [00:21<00:00,  1.50it/s]\n"
     ]
    },
    {
     "name": "stdout",
     "output_type": "stream",
     "text": [
      "Found 1000 images in the folder ./temp_degraded/\n"
     ]
    },
    {
     "name": "stderr",
     "output_type": "stream",
     "text": [
      "KID  : 100%|██████████| 32/32 [00:11<00:00,  2.71it/s]\n",
      "Testing combinations:  60%|█████▉    | 55/92 [1:23:08<58:21, 94.65s/it]"
     ]
    },
    {
     "name": "stdout",
     "output_type": "stream",
     "text": [
      "\n",
      "Tested: ['downscale_upscale', 'color_quantization', 'motion_blur']\n",
      "FID: 55.88, KID: 0.0442\n",
      "--------------------------------------------------\n"
     ]
    },
    {
     "name": "stderr",
     "output_type": "stream",
     "text": [
      "Processing ['downscale_upscale', 'color_quantization', 'chromatic_aberration']: 100%|██████████| 1000/1000 [00:47<00:00, 21.01it/s]\n"
     ]
    },
    {
     "name": "stdout",
     "output_type": "stream",
     "text": [
      "compute FID between two folders\n",
      "Found 1000 images in the folder ./Temp_Game/\n"
     ]
    },
    {
     "name": "stderr",
     "output_type": "stream",
     "text": [
      "FID  : 100%|██████████| 32/32 [00:14<00:00,  2.16it/s]\n"
     ]
    },
    {
     "name": "stdout",
     "output_type": "stream",
     "text": [
      "Found 1000 images in the folder ./temp_degraded/\n"
     ]
    },
    {
     "name": "stderr",
     "output_type": "stream",
     "text": [
      "FID  : 100%|██████████| 32/32 [00:07<00:00,  4.12it/s]\n"
     ]
    },
    {
     "name": "stdout",
     "output_type": "stream",
     "text": [
      "compute KID between two folders\n",
      "Found 1000 images in the folder ./Temp_Game/\n"
     ]
    },
    {
     "name": "stderr",
     "output_type": "stream",
     "text": [
      "KID  : 100%|██████████| 32/32 [00:20<00:00,  1.53it/s]\n"
     ]
    },
    {
     "name": "stdout",
     "output_type": "stream",
     "text": [
      "Found 1000 images in the folder ./temp_degraded/\n"
     ]
    },
    {
     "name": "stderr",
     "output_type": "stream",
     "text": [
      "KID  : 100%|██████████| 32/32 [00:11<00:00,  2.68it/s]\n",
      "Testing combinations:  61%|██████    | 56/92 [1:24:56<59:13, 98.71s/it]"
     ]
    },
    {
     "name": "stdout",
     "output_type": "stream",
     "text": [
      "\n",
      "Tested: ['downscale_upscale', 'color_quantization', 'chromatic_aberration']\n",
      "FID: 49.47, KID: 0.0499\n",
      "--------------------------------------------------\n"
     ]
    },
    {
     "name": "stderr",
     "output_type": "stream",
     "text": [
      "Processing ['downscale_upscale', 'motion_blur', 'chromatic_aberration']: 100%|██████████| 1000/1000 [00:17<00:00, 56.57it/s]\n"
     ]
    },
    {
     "name": "stdout",
     "output_type": "stream",
     "text": [
      "compute FID between two folders\n",
      "Found 1000 images in the folder ./Temp_Game/\n"
     ]
    },
    {
     "name": "stderr",
     "output_type": "stream",
     "text": [
      "FID  : 100%|██████████| 32/32 [00:15<00:00,  2.11it/s]\n"
     ]
    },
    {
     "name": "stdout",
     "output_type": "stream",
     "text": [
      "Found 1000 images in the folder ./temp_degraded/\n"
     ]
    },
    {
     "name": "stderr",
     "output_type": "stream",
     "text": [
      "FID  : 100%|██████████| 32/32 [00:07<00:00,  4.08it/s]\n"
     ]
    },
    {
     "name": "stdout",
     "output_type": "stream",
     "text": [
      "compute KID between two folders\n",
      "Found 1000 images in the folder ./Temp_Game/\n"
     ]
    },
    {
     "name": "stderr",
     "output_type": "stream",
     "text": [
      "KID  : 100%|██████████| 32/32 [00:21<00:00,  1.51it/s]\n"
     ]
    },
    {
     "name": "stdout",
     "output_type": "stream",
     "text": [
      "Found 1000 images in the folder ./temp_degraded/\n"
     ]
    },
    {
     "name": "stderr",
     "output_type": "stream",
     "text": [
      "KID  : 100%|██████████| 32/32 [00:12<00:00,  2.66it/s]\n",
      "Testing combinations:  62%|██████▏   | 57/92 [1:26:16<54:13, 92.96s/it]"
     ]
    },
    {
     "name": "stdout",
     "output_type": "stream",
     "text": [
      "\n",
      "Tested: ['downscale_upscale', 'motion_blur', 'chromatic_aberration']\n",
      "FID: 55.13, KID: 0.0482\n",
      "--------------------------------------------------\n"
     ]
    },
    {
     "name": "stderr",
     "output_type": "stream",
     "text": [
      "Processing ['enhance_edges', 'gaussian_blur', 'median_filter']: 100%|██████████| 1000/1000 [00:33<00:00, 29.72it/s]\n"
     ]
    },
    {
     "name": "stdout",
     "output_type": "stream",
     "text": [
      "compute FID between two folders\n",
      "Found 1000 images in the folder ./Temp_Game/\n"
     ]
    },
    {
     "name": "stderr",
     "output_type": "stream",
     "text": [
      "FID  : 100%|██████████| 32/32 [00:15<00:00,  2.10it/s]\n"
     ]
    },
    {
     "name": "stdout",
     "output_type": "stream",
     "text": [
      "Found 1000 images in the folder ./temp_degraded/\n"
     ]
    },
    {
     "name": "stderr",
     "output_type": "stream",
     "text": [
      "FID  : 100%|██████████| 32/32 [00:07<00:00,  4.27it/s]\n"
     ]
    },
    {
     "name": "stdout",
     "output_type": "stream",
     "text": [
      "compute KID between two folders\n",
      "Found 1000 images in the folder ./Temp_Game/\n"
     ]
    },
    {
     "name": "stderr",
     "output_type": "stream",
     "text": [
      "KID  : 100%|██████████| 32/32 [00:21<00:00,  1.50it/s]\n"
     ]
    },
    {
     "name": "stdout",
     "output_type": "stream",
     "text": [
      "Found 1000 images in the folder ./temp_degraded/\n"
     ]
    },
    {
     "name": "stderr",
     "output_type": "stream",
     "text": [
      "KID  : 100%|██████████| 32/32 [00:11<00:00,  2.72it/s]\n",
      "Testing combinations:  63%|██████▎   | 58/92 [1:27:50<52:57, 93.46s/it]"
     ]
    },
    {
     "name": "stdout",
     "output_type": "stream",
     "text": [
      "\n",
      "Tested: ['enhance_edges', 'gaussian_blur', 'median_filter']\n",
      "FID: 58.54, KID: 0.0453\n",
      "--------------------------------------------------\n"
     ]
    },
    {
     "name": "stderr",
     "output_type": "stream",
     "text": [
      "Processing ['enhance_edges', 'gaussian_blur', 'bilateral_filter']: 100%|██████████| 1000/1000 [00:25<00:00, 39.47it/s]\n"
     ]
    },
    {
     "name": "stdout",
     "output_type": "stream",
     "text": [
      "compute FID between two folders\n",
      "Found 1000 images in the folder ./Temp_Game/\n"
     ]
    },
    {
     "name": "stderr",
     "output_type": "stream",
     "text": [
      "FID  : 100%|██████████| 32/32 [00:15<00:00,  2.10it/s]\n"
     ]
    },
    {
     "name": "stdout",
     "output_type": "stream",
     "text": [
      "Found 1000 images in the folder ./temp_degraded/\n"
     ]
    },
    {
     "name": "stderr",
     "output_type": "stream",
     "text": [
      "FID  : 100%|██████████| 32/32 [00:07<00:00,  4.26it/s]\n"
     ]
    },
    {
     "name": "stdout",
     "output_type": "stream",
     "text": [
      "compute KID between two folders\n",
      "Found 1000 images in the folder ./Temp_Game/\n"
     ]
    },
    {
     "name": "stderr",
     "output_type": "stream",
     "text": [
      "KID  : 100%|██████████| 32/32 [00:21<00:00,  1.50it/s]\n"
     ]
    },
    {
     "name": "stdout",
     "output_type": "stream",
     "text": [
      "Found 1000 images in the folder ./temp_degraded/\n"
     ]
    },
    {
     "name": "stderr",
     "output_type": "stream",
     "text": [
      "KID  : 100%|██████████| 32/32 [00:11<00:00,  2.73it/s]\n",
      "Testing combinations:  64%|██████▍   | 59/92 [1:29:17<50:13, 91.32s/it]"
     ]
    },
    {
     "name": "stdout",
     "output_type": "stream",
     "text": [
      "\n",
      "Tested: ['enhance_edges', 'gaussian_blur', 'bilateral_filter']\n",
      "FID: 59.35, KID: 0.0511\n",
      "--------------------------------------------------\n"
     ]
    },
    {
     "name": "stderr",
     "output_type": "stream",
     "text": [
      "Processing ['enhance_edges', 'gaussian_blur', 'color_quantization']: 100%|██████████| 1000/1000 [00:41<00:00, 24.23it/s]\n"
     ]
    },
    {
     "name": "stdout",
     "output_type": "stream",
     "text": [
      "compute FID between two folders\n",
      "Found 1000 images in the folder ./Temp_Game/\n"
     ]
    },
    {
     "name": "stderr",
     "output_type": "stream",
     "text": [
      "FID  : 100%|██████████| 32/32 [00:15<00:00,  2.11it/s]\n"
     ]
    },
    {
     "name": "stdout",
     "output_type": "stream",
     "text": [
      "Found 1000 images in the folder ./temp_degraded/\n"
     ]
    },
    {
     "name": "stderr",
     "output_type": "stream",
     "text": [
      "FID  : 100%|██████████| 32/32 [00:07<00:00,  4.20it/s]\n"
     ]
    },
    {
     "name": "stdout",
     "output_type": "stream",
     "text": [
      "compute KID between two folders\n",
      "Found 1000 images in the folder ./Temp_Game/\n"
     ]
    },
    {
     "name": "stderr",
     "output_type": "stream",
     "text": [
      "KID  : 100%|██████████| 32/32 [00:21<00:00,  1.50it/s]\n"
     ]
    },
    {
     "name": "stdout",
     "output_type": "stream",
     "text": [
      "Found 1000 images in the folder ./temp_degraded/\n"
     ]
    },
    {
     "name": "stderr",
     "output_type": "stream",
     "text": [
      "KID  : 100%|██████████| 32/32 [00:11<00:00,  2.69it/s]\n",
      "Testing combinations:  65%|██████▌   | 60/92 [1:30:59<50:30, 94.69s/it]"
     ]
    },
    {
     "name": "stdout",
     "output_type": "stream",
     "text": [
      "\n",
      "Tested: ['enhance_edges', 'gaussian_blur', 'color_quantization']\n",
      "FID: 55.84, KID: 0.0448\n",
      "--------------------------------------------------\n"
     ]
    },
    {
     "name": "stderr",
     "output_type": "stream",
     "text": [
      "Processing ['enhance_edges', 'gaussian_blur', 'motion_blur']: 100%|██████████| 1000/1000 [00:18<00:00, 54.86it/s]\n"
     ]
    },
    {
     "name": "stdout",
     "output_type": "stream",
     "text": [
      "compute FID between two folders\n",
      "Found 1000 images in the folder ./Temp_Game/\n"
     ]
    },
    {
     "name": "stderr",
     "output_type": "stream",
     "text": [
      "FID  : 100%|██████████| 32/32 [00:14<00:00,  2.16it/s]\n"
     ]
    },
    {
     "name": "stdout",
     "output_type": "stream",
     "text": [
      "Found 1000 images in the folder ./temp_degraded/\n"
     ]
    },
    {
     "name": "stderr",
     "output_type": "stream",
     "text": [
      "FID  : 100%|██████████| 32/32 [00:07<00:00,  4.21it/s]\n"
     ]
    },
    {
     "name": "stdout",
     "output_type": "stream",
     "text": [
      "compute KID between two folders\n",
      "Found 1000 images in the folder ./Temp_Game/\n"
     ]
    },
    {
     "name": "stderr",
     "output_type": "stream",
     "text": [
      "KID  : 100%|██████████| 32/32 [00:20<00:00,  1.54it/s]\n"
     ]
    },
    {
     "name": "stdout",
     "output_type": "stream",
     "text": [
      "Found 1000 images in the folder ./temp_degraded/\n"
     ]
    },
    {
     "name": "stderr",
     "output_type": "stream",
     "text": [
      "KID  : 100%|██████████| 32/32 [00:11<00:00,  2.72it/s]\n",
      "Testing combinations:  66%|██████▋   | 61/92 [1:32:18<46:24, 89.82s/it]"
     ]
    },
    {
     "name": "stdout",
     "output_type": "stream",
     "text": [
      "\n",
      "Tested: ['enhance_edges', 'gaussian_blur', 'motion_blur']\n",
      "FID: 59.34, KID: 0.0449\n",
      "--------------------------------------------------\n"
     ]
    },
    {
     "name": "stderr",
     "output_type": "stream",
     "text": [
      "Processing ['enhance_edges', 'gaussian_blur', 'chromatic_aberration']: 100%|██████████| 1000/1000 [00:18<00:00, 55.14it/s]\n"
     ]
    },
    {
     "name": "stdout",
     "output_type": "stream",
     "text": [
      "compute FID between two folders\n",
      "Found 1000 images in the folder ./Temp_Game/\n"
     ]
    },
    {
     "name": "stderr",
     "output_type": "stream",
     "text": [
      "FID  : 100%|██████████| 32/32 [00:15<00:00,  2.09it/s]\n"
     ]
    },
    {
     "name": "stdout",
     "output_type": "stream",
     "text": [
      "Found 1000 images in the folder ./temp_degraded/\n"
     ]
    },
    {
     "name": "stderr",
     "output_type": "stream",
     "text": [
      "FID  : 100%|██████████| 32/32 [00:07<00:00,  4.19it/s]\n"
     ]
    },
    {
     "name": "stdout",
     "output_type": "stream",
     "text": [
      "compute KID between two folders\n",
      "Found 1000 images in the folder ./Temp_Game/\n"
     ]
    },
    {
     "name": "stderr",
     "output_type": "stream",
     "text": [
      "KID  : 100%|██████████| 32/32 [00:21<00:00,  1.51it/s]\n"
     ]
    },
    {
     "name": "stdout",
     "output_type": "stream",
     "text": [
      "Found 1000 images in the folder ./temp_degraded/\n"
     ]
    },
    {
     "name": "stderr",
     "output_type": "stream",
     "text": [
      "KID  : 100%|██████████| 32/32 [00:11<00:00,  2.69it/s]\n",
      "Testing combinations:  67%|██████▋   | 62/92 [1:33:37<43:18, 86.60s/it]"
     ]
    },
    {
     "name": "stdout",
     "output_type": "stream",
     "text": [
      "\n",
      "Tested: ['enhance_edges', 'gaussian_blur', 'chromatic_aberration']\n",
      "FID: 55.26, KID: 0.0487\n",
      "--------------------------------------------------\n"
     ]
    },
    {
     "name": "stderr",
     "output_type": "stream",
     "text": [
      "Processing ['enhance_edges', 'median_filter', 'bilateral_filter']: 100%|██████████| 1000/1000 [00:49<00:00, 20.07it/s]\n"
     ]
    },
    {
     "name": "stdout",
     "output_type": "stream",
     "text": [
      "compute FID between two folders\n",
      "Found 1000 images in the folder ./Temp_Game/\n"
     ]
    },
    {
     "name": "stderr",
     "output_type": "stream",
     "text": [
      "FID  : 100%|██████████| 32/32 [00:15<00:00,  2.11it/s]\n"
     ]
    },
    {
     "name": "stdout",
     "output_type": "stream",
     "text": [
      "Found 1000 images in the folder ./temp_degraded/\n"
     ]
    },
    {
     "name": "stderr",
     "output_type": "stream",
     "text": [
      "FID  : 100%|██████████| 32/32 [00:07<00:00,  4.24it/s]\n"
     ]
    },
    {
     "name": "stdout",
     "output_type": "stream",
     "text": [
      "compute KID between two folders\n",
      "Found 1000 images in the folder ./Temp_Game/\n"
     ]
    },
    {
     "name": "stderr",
     "output_type": "stream",
     "text": [
      "KID  : 100%|██████████| 32/32 [00:21<00:00,  1.50it/s]\n"
     ]
    },
    {
     "name": "stdout",
     "output_type": "stream",
     "text": [
      "Found 1000 images in the folder ./temp_degraded/\n"
     ]
    },
    {
     "name": "stderr",
     "output_type": "stream",
     "text": [
      "KID  : 100%|██████████| 32/32 [00:11<00:00,  2.73it/s]\n",
      "Testing combinations:  68%|██████▊   | 63/92 [1:35:28<45:22, 93.89s/it]"
     ]
    },
    {
     "name": "stdout",
     "output_type": "stream",
     "text": [
      "\n",
      "Tested: ['enhance_edges', 'median_filter', 'bilateral_filter']\n",
      "FID: 58.31, KID: 0.0516\n",
      "--------------------------------------------------\n"
     ]
    },
    {
     "name": "stderr",
     "output_type": "stream",
     "text": [
      "Processing ['enhance_edges', 'median_filter', 'color_quantization']: 100%|██████████| 1000/1000 [00:58<00:00, 17.22it/s]\n"
     ]
    },
    {
     "name": "stdout",
     "output_type": "stream",
     "text": [
      "compute FID between two folders\n",
      "Found 1000 images in the folder ./Temp_Game/\n"
     ]
    },
    {
     "name": "stderr",
     "output_type": "stream",
     "text": [
      "FID  : 100%|██████████| 32/32 [00:15<00:00,  2.11it/s]\n"
     ]
    },
    {
     "name": "stdout",
     "output_type": "stream",
     "text": [
      "Found 1000 images in the folder ./temp_degraded/\n"
     ]
    },
    {
     "name": "stderr",
     "output_type": "stream",
     "text": [
      "FID  : 100%|██████████| 32/32 [00:07<00:00,  4.18it/s]\n"
     ]
    },
    {
     "name": "stdout",
     "output_type": "stream",
     "text": [
      "compute KID between two folders\n",
      "Found 1000 images in the folder ./Temp_Game/\n"
     ]
    },
    {
     "name": "stderr",
     "output_type": "stream",
     "text": [
      "KID  : 100%|██████████| 32/32 [00:21<00:00,  1.50it/s]\n"
     ]
    },
    {
     "name": "stdout",
     "output_type": "stream",
     "text": [
      "Found 1000 images in the folder ./temp_degraded/\n"
     ]
    },
    {
     "name": "stderr",
     "output_type": "stream",
     "text": [
      "KID  : 100%|██████████| 32/32 [00:11<00:00,  2.72it/s]\n",
      "Testing combinations:  70%|██████▉   | 64/92 [1:37:27<47:24, 101.60s/it]"
     ]
    },
    {
     "name": "stdout",
     "output_type": "stream",
     "text": [
      "\n",
      "Tested: ['enhance_edges', 'median_filter', 'color_quantization']\n",
      "FID: 54.79, KID: 0.0487\n",
      "--------------------------------------------------\n"
     ]
    },
    {
     "name": "stderr",
     "output_type": "stream",
     "text": [
      "Processing ['enhance_edges', 'median_filter', 'motion_blur']: 100%|██████████| 1000/1000 [00:40<00:00, 24.50it/s]\n"
     ]
    },
    {
     "name": "stdout",
     "output_type": "stream",
     "text": [
      "compute FID between two folders\n",
      "Found 1000 images in the folder ./Temp_Game/\n"
     ]
    },
    {
     "name": "stderr",
     "output_type": "stream",
     "text": [
      "FID  : 100%|██████████| 32/32 [00:14<00:00,  2.14it/s]\n"
     ]
    },
    {
     "name": "stdout",
     "output_type": "stream",
     "text": [
      "Found 1000 images in the folder ./temp_degraded/\n"
     ]
    },
    {
     "name": "stderr",
     "output_type": "stream",
     "text": [
      "FID  : 100%|██████████| 32/32 [00:07<00:00,  4.20it/s]\n"
     ]
    },
    {
     "name": "stdout",
     "output_type": "stream",
     "text": [
      "compute KID between two folders\n",
      "Found 1000 images in the folder ./Temp_Game/\n"
     ]
    },
    {
     "name": "stderr",
     "output_type": "stream",
     "text": [
      "KID  : 100%|██████████| 32/32 [00:21<00:00,  1.51it/s]\n"
     ]
    },
    {
     "name": "stdout",
     "output_type": "stream",
     "text": [
      "Found 1000 images in the folder ./temp_degraded/\n"
     ]
    },
    {
     "name": "stderr",
     "output_type": "stream",
     "text": [
      "KID  : 100%|██████████| 32/32 [00:11<00:00,  2.71it/s]\n",
      "Testing combinations:  71%|███████   | 65/92 [1:39:10<45:47, 101.75s/it]"
     ]
    },
    {
     "name": "stdout",
     "output_type": "stream",
     "text": [
      "\n",
      "Tested: ['enhance_edges', 'median_filter', 'motion_blur']\n",
      "FID: 59.32, KID: 0.0453\n",
      "--------------------------------------------------\n"
     ]
    },
    {
     "name": "stderr",
     "output_type": "stream",
     "text": [
      "Processing ['enhance_edges', 'median_filter', 'chromatic_aberration']: 100%|██████████| 1000/1000 [00:42<00:00, 23.53it/s]\n"
     ]
    },
    {
     "name": "stdout",
     "output_type": "stream",
     "text": [
      "compute FID between two folders\n",
      "Found 1000 images in the folder ./Temp_Game/\n"
     ]
    },
    {
     "name": "stderr",
     "output_type": "stream",
     "text": [
      "FID  : 100%|██████████| 32/32 [00:15<00:00,  2.08it/s]\n"
     ]
    },
    {
     "name": "stdout",
     "output_type": "stream",
     "text": [
      "Found 1000 images in the folder ./temp_degraded/\n"
     ]
    },
    {
     "name": "stderr",
     "output_type": "stream",
     "text": [
      "FID  : 100%|██████████| 32/32 [00:07<00:00,  4.14it/s]\n"
     ]
    },
    {
     "name": "stdout",
     "output_type": "stream",
     "text": [
      "compute KID between two folders\n",
      "Found 1000 images in the folder ./Temp_Game/\n"
     ]
    },
    {
     "name": "stderr",
     "output_type": "stream",
     "text": [
      "KID  : 100%|██████████| 32/32 [00:21<00:00,  1.50it/s]\n"
     ]
    },
    {
     "name": "stdout",
     "output_type": "stream",
     "text": [
      "Found 1000 images in the folder ./temp_degraded/\n"
     ]
    },
    {
     "name": "stderr",
     "output_type": "stream",
     "text": [
      "KID  : 100%|██████████| 32/32 [00:11<00:00,  2.70it/s]\n",
      "Testing combinations:  72%|███████▏  | 66/92 [1:40:54<44:23, 102.43s/it]"
     ]
    },
    {
     "name": "stdout",
     "output_type": "stream",
     "text": [
      "\n",
      "Tested: ['enhance_edges', 'median_filter', 'chromatic_aberration']\n",
      "FID: 54.62, KID: 0.0494\n",
      "--------------------------------------------------\n"
     ]
    },
    {
     "name": "stderr",
     "output_type": "stream",
     "text": [
      "Processing ['enhance_edges', 'bilateral_filter', 'color_quantization']: 100%|██████████| 1000/1000 [00:42<00:00, 23.34it/s]\n"
     ]
    },
    {
     "name": "stdout",
     "output_type": "stream",
     "text": [
      "compute FID between two folders\n",
      "Found 1000 images in the folder ./Temp_Game/\n"
     ]
    },
    {
     "name": "stderr",
     "output_type": "stream",
     "text": [
      "FID  : 100%|██████████| 32/32 [00:15<00:00,  2.08it/s]\n"
     ]
    },
    {
     "name": "stdout",
     "output_type": "stream",
     "text": [
      "Found 1000 images in the folder ./temp_degraded/\n"
     ]
    },
    {
     "name": "stderr",
     "output_type": "stream",
     "text": [
      "FID  : 100%|██████████| 32/32 [00:07<00:00,  4.13it/s]\n"
     ]
    },
    {
     "name": "stdout",
     "output_type": "stream",
     "text": [
      "compute KID between two folders\n",
      "Found 1000 images in the folder ./Temp_Game/\n"
     ]
    },
    {
     "name": "stderr",
     "output_type": "stream",
     "text": [
      "KID  : 100%|██████████| 32/32 [00:21<00:00,  1.50it/s]\n"
     ]
    },
    {
     "name": "stdout",
     "output_type": "stream",
     "text": [
      "Found 1000 images in the folder ./temp_degraded/\n"
     ]
    },
    {
     "name": "stderr",
     "output_type": "stream",
     "text": [
      "KID  : 100%|██████████| 32/32 [00:11<00:00,  2.69it/s]\n",
      "Testing combinations:  73%|███████▎  | 67/92 [1:42:38<42:54, 102.96s/it]"
     ]
    },
    {
     "name": "stdout",
     "output_type": "stream",
     "text": [
      "\n",
      "Tested: ['enhance_edges', 'bilateral_filter', 'color_quantization']\n",
      "FID: 55.54, KID: 0.0483\n",
      "--------------------------------------------------\n"
     ]
    },
    {
     "name": "stderr",
     "output_type": "stream",
     "text": [
      "Processing ['enhance_edges', 'bilateral_filter', 'motion_blur']: 100%|██████████| 1000/1000 [00:24<00:00, 40.86it/s]\n"
     ]
    },
    {
     "name": "stdout",
     "output_type": "stream",
     "text": [
      "compute FID between two folders\n",
      "Found 1000 images in the folder ./Temp_Game/\n"
     ]
    },
    {
     "name": "stderr",
     "output_type": "stream",
     "text": [
      "FID  : 100%|██████████| 32/32 [00:15<00:00,  2.11it/s]\n"
     ]
    },
    {
     "name": "stdout",
     "output_type": "stream",
     "text": [
      "Found 1000 images in the folder ./temp_degraded/\n"
     ]
    },
    {
     "name": "stderr",
     "output_type": "stream",
     "text": [
      "FID  : 100%|██████████| 32/32 [00:07<00:00,  4.20it/s]\n"
     ]
    },
    {
     "name": "stdout",
     "output_type": "stream",
     "text": [
      "compute KID between two folders\n",
      "Found 1000 images in the folder ./Temp_Game/\n"
     ]
    },
    {
     "name": "stderr",
     "output_type": "stream",
     "text": [
      "KID  : 100%|██████████| 32/32 [00:21<00:00,  1.49it/s]\n"
     ]
    },
    {
     "name": "stdout",
     "output_type": "stream",
     "text": [
      "Found 1000 images in the folder ./temp_degraded/\n"
     ]
    },
    {
     "name": "stderr",
     "output_type": "stream",
     "text": [
      "KID  : 100%|██████████| 32/32 [00:11<00:00,  2.70it/s]\n",
      "Testing combinations:  74%|███████▍  | 68/92 [1:44:04<39:07, 97.81s/it] "
     ]
    },
    {
     "name": "stdout",
     "output_type": "stream",
     "text": [
      "\n",
      "Tested: ['enhance_edges', 'bilateral_filter', 'motion_blur']\n",
      "FID: 59.13, KID: 0.0477\n",
      "--------------------------------------------------\n"
     ]
    },
    {
     "name": "stderr",
     "output_type": "stream",
     "text": [
      "Processing ['enhance_edges', 'bilateral_filter', 'chromatic_aberration']: 100%|██████████| 1000/1000 [00:24<00:00, 40.00it/s]\n"
     ]
    },
    {
     "name": "stdout",
     "output_type": "stream",
     "text": [
      "compute FID between two folders\n",
      "Found 1000 images in the folder ./Temp_Game/\n"
     ]
    },
    {
     "name": "stderr",
     "output_type": "stream",
     "text": [
      "FID  : 100%|██████████| 32/32 [00:15<00:00,  2.08it/s]\n"
     ]
    },
    {
     "name": "stdout",
     "output_type": "stream",
     "text": [
      "Found 1000 images in the folder ./temp_degraded/\n"
     ]
    },
    {
     "name": "stderr",
     "output_type": "stream",
     "text": [
      "FID  : 100%|██████████| 32/32 [00:07<00:00,  4.18it/s]\n"
     ]
    },
    {
     "name": "stdout",
     "output_type": "stream",
     "text": [
      "compute KID between two folders\n",
      "Found 1000 images in the folder ./Temp_Game/\n"
     ]
    },
    {
     "name": "stderr",
     "output_type": "stream",
     "text": [
      "KID  : 100%|██████████| 32/32 [00:21<00:00,  1.49it/s]\n"
     ]
    },
    {
     "name": "stdout",
     "output_type": "stream",
     "text": [
      "Found 1000 images in the folder ./temp_degraded/\n"
     ]
    },
    {
     "name": "stderr",
     "output_type": "stream",
     "text": [
      "KID  : 100%|██████████| 32/32 [00:11<00:00,  2.69it/s]\n",
      "Testing combinations:  75%|███████▌  | 69/92 [1:45:30<36:11, 94.40s/it]"
     ]
    },
    {
     "name": "stdout",
     "output_type": "stream",
     "text": [
      "\n",
      "Tested: ['enhance_edges', 'bilateral_filter', 'chromatic_aberration']\n",
      "FID: 55.19, KID: 0.0559\n",
      "--------------------------------------------------\n"
     ]
    },
    {
     "name": "stderr",
     "output_type": "stream",
     "text": [
      "Processing ['enhance_edges', 'color_quantization', 'motion_blur']: 100%|██████████| 1000/1000 [00:40<00:00, 24.40it/s]\n"
     ]
    },
    {
     "name": "stdout",
     "output_type": "stream",
     "text": [
      "compute FID between two folders\n",
      "Found 1000 images in the folder ./Temp_Game/\n"
     ]
    },
    {
     "name": "stderr",
     "output_type": "stream",
     "text": [
      "FID  : 100%|██████████| 32/32 [00:15<00:00,  2.09it/s]\n"
     ]
    },
    {
     "name": "stdout",
     "output_type": "stream",
     "text": [
      "Found 1000 images in the folder ./temp_degraded/\n"
     ]
    },
    {
     "name": "stderr",
     "output_type": "stream",
     "text": [
      "FID  : 100%|██████████| 32/32 [00:07<00:00,  4.14it/s]\n"
     ]
    },
    {
     "name": "stdout",
     "output_type": "stream",
     "text": [
      "compute KID between two folders\n",
      "Found 1000 images in the folder ./Temp_Game/\n"
     ]
    },
    {
     "name": "stderr",
     "output_type": "stream",
     "text": [
      "KID  : 100%|██████████| 32/32 [00:21<00:00,  1.50it/s]\n"
     ]
    },
    {
     "name": "stdout",
     "output_type": "stream",
     "text": [
      "Found 1000 images in the folder ./temp_degraded/\n"
     ]
    },
    {
     "name": "stderr",
     "output_type": "stream",
     "text": [
      "KID  : 100%|██████████| 32/32 [00:11<00:00,  2.68it/s]\n",
      "Testing combinations:  76%|███████▌  | 70/92 [1:47:12<35:30, 96.84s/it]"
     ]
    },
    {
     "name": "stdout",
     "output_type": "stream",
     "text": [
      "\n",
      "Tested: ['enhance_edges', 'color_quantization', 'motion_blur']\n",
      "FID: 56.12, KID: 0.0452\n",
      "--------------------------------------------------\n"
     ]
    },
    {
     "name": "stderr",
     "output_type": "stream",
     "text": [
      "Processing ['enhance_edges', 'color_quantization', 'chromatic_aberration']: 100%|██████████| 1000/1000 [00:47<00:00, 20.85it/s]\n"
     ]
    },
    {
     "name": "stdout",
     "output_type": "stream",
     "text": [
      "compute FID between two folders\n",
      "Found 1000 images in the folder ./Temp_Game/\n"
     ]
    },
    {
     "name": "stderr",
     "output_type": "stream",
     "text": [
      "FID  : 100%|██████████| 32/32 [00:15<00:00,  2.08it/s]\n"
     ]
    },
    {
     "name": "stdout",
     "output_type": "stream",
     "text": [
      "Found 1000 images in the folder ./temp_degraded/\n"
     ]
    },
    {
     "name": "stderr",
     "output_type": "stream",
     "text": [
      "FID  : 100%|██████████| 32/32 [00:07<00:00,  4.03it/s]\n"
     ]
    },
    {
     "name": "stdout",
     "output_type": "stream",
     "text": [
      "compute KID between two folders\n",
      "Found 1000 images in the folder ./Temp_Game/\n"
     ]
    },
    {
     "name": "stderr",
     "output_type": "stream",
     "text": [
      "KID  : 100%|██████████| 32/32 [00:21<00:00,  1.49it/s]\n"
     ]
    },
    {
     "name": "stdout",
     "output_type": "stream",
     "text": [
      "Found 1000 images in the folder ./temp_degraded/\n"
     ]
    },
    {
     "name": "stderr",
     "output_type": "stream",
     "text": [
      "KID  : 100%|██████████| 32/32 [00:12<00:00,  2.61it/s]\n",
      "Testing combinations:  77%|███████▋  | 71/92 [1:49:03<35:18, 100.90s/it]"
     ]
    },
    {
     "name": "stdout",
     "output_type": "stream",
     "text": [
      "\n",
      "Tested: ['enhance_edges', 'color_quantization', 'chromatic_aberration']\n",
      "FID: 50.12, KID: 0.0506\n",
      "--------------------------------------------------\n"
     ]
    },
    {
     "name": "stderr",
     "output_type": "stream",
     "text": [
      "Processing ['enhance_edges', 'motion_blur', 'chromatic_aberration']: 100%|██████████| 1000/1000 [00:17<00:00, 56.73it/s]\n"
     ]
    },
    {
     "name": "stdout",
     "output_type": "stream",
     "text": [
      "compute FID between two folders\n",
      "Found 1000 images in the folder ./Temp_Game/\n"
     ]
    },
    {
     "name": "stderr",
     "output_type": "stream",
     "text": [
      "FID  : 100%|██████████| 32/32 [00:15<00:00,  2.10it/s]\n"
     ]
    },
    {
     "name": "stdout",
     "output_type": "stream",
     "text": [
      "Found 1000 images in the folder ./temp_degraded/\n"
     ]
    },
    {
     "name": "stderr",
     "output_type": "stream",
     "text": [
      "FID  : 100%|██████████| 32/32 [00:07<00:00,  4.08it/s]\n"
     ]
    },
    {
     "name": "stdout",
     "output_type": "stream",
     "text": [
      "compute KID between two folders\n",
      "Found 1000 images in the folder ./Temp_Game/\n"
     ]
    },
    {
     "name": "stderr",
     "output_type": "stream",
     "text": [
      "KID  : 100%|██████████| 32/32 [00:21<00:00,  1.50it/s]\n"
     ]
    },
    {
     "name": "stdout",
     "output_type": "stream",
     "text": [
      "Found 1000 images in the folder ./temp_degraded/\n"
     ]
    },
    {
     "name": "stderr",
     "output_type": "stream",
     "text": [
      "KID  : 100%|██████████| 32/32 [00:11<00:00,  2.68it/s]\n",
      "Testing combinations:  78%|███████▊  | 72/92 [1:50:22<31:29, 94.45s/it] "
     ]
    },
    {
     "name": "stdout",
     "output_type": "stream",
     "text": [
      "\n",
      "Tested: ['enhance_edges', 'motion_blur', 'chromatic_aberration']\n",
      "FID: 54.97, KID: 0.0469\n",
      "--------------------------------------------------\n"
     ]
    },
    {
     "name": "stderr",
     "output_type": "stream",
     "text": [
      "Processing ['gaussian_blur', 'median_filter', 'bilateral_filter']: 100%|██████████| 1000/1000 [00:41<00:00, 24.34it/s]\n"
     ]
    },
    {
     "name": "stdout",
     "output_type": "stream",
     "text": [
      "compute FID between two folders\n",
      "Found 1000 images in the folder ./Temp_Game/\n"
     ]
    },
    {
     "name": "stderr",
     "output_type": "stream",
     "text": [
      "FID  : 100%|██████████| 32/32 [00:14<00:00,  2.14it/s]\n"
     ]
    },
    {
     "name": "stdout",
     "output_type": "stream",
     "text": [
      "Found 1000 images in the folder ./temp_degraded/\n"
     ]
    },
    {
     "name": "stderr",
     "output_type": "stream",
     "text": [
      "FID  : 100%|██████████| 32/32 [00:07<00:00,  4.09it/s]\n"
     ]
    },
    {
     "name": "stdout",
     "output_type": "stream",
     "text": [
      "compute KID between two folders\n",
      "Found 1000 images in the folder ./Temp_Game/\n"
     ]
    },
    {
     "name": "stderr",
     "output_type": "stream",
     "text": [
      "KID  : 100%|██████████| 32/32 [00:20<00:00,  1.53it/s]\n"
     ]
    },
    {
     "name": "stdout",
     "output_type": "stream",
     "text": [
      "Found 1000 images in the folder ./temp_degraded/\n"
     ]
    },
    {
     "name": "stderr",
     "output_type": "stream",
     "text": [
      "KID  : 100%|██████████| 32/32 [00:11<00:00,  2.67it/s]\n",
      "Testing combinations:  79%|███████▉  | 73/92 [1:52:04<30:38, 96.77s/it]"
     ]
    },
    {
     "name": "stdout",
     "output_type": "stream",
     "text": [
      "\n",
      "Tested: ['gaussian_blur', 'median_filter', 'bilateral_filter']\n",
      "FID: 58.92, KID: 0.0541\n",
      "--------------------------------------------------\n"
     ]
    },
    {
     "name": "stderr",
     "output_type": "stream",
     "text": [
      "Processing ['gaussian_blur', 'median_filter', 'color_quantization']: 100%|██████████| 1000/1000 [00:51<00:00, 19.43it/s]\n"
     ]
    },
    {
     "name": "stdout",
     "output_type": "stream",
     "text": [
      "compute FID between two folders\n",
      "Found 1000 images in the folder ./Temp_Game/\n"
     ]
    },
    {
     "name": "stderr",
     "output_type": "stream",
     "text": [
      "FID  : 100%|██████████| 32/32 [00:14<00:00,  2.14it/s]\n"
     ]
    },
    {
     "name": "stdout",
     "output_type": "stream",
     "text": [
      "Found 1000 images in the folder ./temp_degraded/\n"
     ]
    },
    {
     "name": "stderr",
     "output_type": "stream",
     "text": [
      "FID  : 100%|██████████| 32/32 [00:07<00:00,  4.06it/s]\n"
     ]
    },
    {
     "name": "stdout",
     "output_type": "stream",
     "text": [
      "compute KID between two folders\n",
      "Found 1000 images in the folder ./Temp_Game/\n"
     ]
    },
    {
     "name": "stderr",
     "output_type": "stream",
     "text": [
      "KID  : 100%|██████████| 32/32 [00:20<00:00,  1.53it/s]\n"
     ]
    },
    {
     "name": "stdout",
     "output_type": "stream",
     "text": [
      "Found 1000 images in the folder ./temp_degraded/\n"
     ]
    },
    {
     "name": "stderr",
     "output_type": "stream",
     "text": [
      "KID  : 100%|██████████| 32/32 [00:12<00:00,  2.66it/s]\n",
      "Testing combinations:  80%|████████  | 74/92 [1:53:57<30:24, 101.38s/it]"
     ]
    },
    {
     "name": "stdout",
     "output_type": "stream",
     "text": [
      "\n",
      "Tested: ['gaussian_blur', 'median_filter', 'color_quantization']\n",
      "FID: 53.88, KID: 0.0465\n",
      "--------------------------------------------------\n"
     ]
    },
    {
     "name": "stderr",
     "output_type": "stream",
     "text": [
      "Processing ['gaussian_blur', 'median_filter', 'motion_blur']: 100%|██████████| 1000/1000 [00:32<00:00, 30.39it/s]\n"
     ]
    },
    {
     "name": "stdout",
     "output_type": "stream",
     "text": [
      "compute FID between two folders\n",
      "Found 1000 images in the folder ./Temp_Game/\n"
     ]
    },
    {
     "name": "stderr",
     "output_type": "stream",
     "text": [
      "FID  : 100%|██████████| 32/32 [00:14<00:00,  2.15it/s]\n"
     ]
    },
    {
     "name": "stdout",
     "output_type": "stream",
     "text": [
      "Found 1000 images in the folder ./temp_degraded/\n"
     ]
    },
    {
     "name": "stderr",
     "output_type": "stream",
     "text": [
      "FID  : 100%|██████████| 32/32 [00:07<00:00,  4.05it/s]\n"
     ]
    },
    {
     "name": "stdout",
     "output_type": "stream",
     "text": [
      "compute KID between two folders\n",
      "Found 1000 images in the folder ./Temp_Game/\n"
     ]
    },
    {
     "name": "stderr",
     "output_type": "stream",
     "text": [
      "KID  : 100%|██████████| 32/32 [00:20<00:00,  1.53it/s]\n"
     ]
    },
    {
     "name": "stdout",
     "output_type": "stream",
     "text": [
      "Found 1000 images in the folder ./temp_degraded/\n"
     ]
    },
    {
     "name": "stderr",
     "output_type": "stream",
     "text": [
      "KID  : 100%|██████████| 32/32 [00:12<00:00,  2.66it/s]\n",
      "Testing combinations:  82%|████████▏ | 75/92 [1:55:31<28:05, 99.16s/it] "
     ]
    },
    {
     "name": "stdout",
     "output_type": "stream",
     "text": [
      "\n",
      "Tested: ['gaussian_blur', 'median_filter', 'motion_blur']\n",
      "FID: 59.20, KID: 0.0473\n",
      "--------------------------------------------------\n"
     ]
    },
    {
     "name": "stderr",
     "output_type": "stream",
     "text": [
      "Processing ['gaussian_blur', 'median_filter', 'chromatic_aberration']: 100%|██████████| 1000/1000 [00:34<00:00, 29.08it/s]\n"
     ]
    },
    {
     "name": "stdout",
     "output_type": "stream",
     "text": [
      "compute FID between two folders\n",
      "Found 1000 images in the folder ./Temp_Game/\n"
     ]
    },
    {
     "name": "stderr",
     "output_type": "stream",
     "text": [
      "FID  : 100%|██████████| 32/32 [00:15<00:00,  2.07it/s]\n"
     ]
    },
    {
     "name": "stdout",
     "output_type": "stream",
     "text": [
      "Found 1000 images in the folder ./temp_degraded/\n"
     ]
    },
    {
     "name": "stderr",
     "output_type": "stream",
     "text": [
      "FID  : 100%|██████████| 32/32 [00:07<00:00,  4.18it/s]\n"
     ]
    },
    {
     "name": "stdout",
     "output_type": "stream",
     "text": [
      "compute KID between two folders\n",
      "Found 1000 images in the folder ./Temp_Game/\n"
     ]
    },
    {
     "name": "stderr",
     "output_type": "stream",
     "text": [
      "KID  : 100%|██████████| 32/32 [00:21<00:00,  1.50it/s]\n"
     ]
    },
    {
     "name": "stdout",
     "output_type": "stream",
     "text": [
      "Found 1000 images in the folder ./temp_degraded/\n"
     ]
    },
    {
     "name": "stderr",
     "output_type": "stream",
     "text": [
      "KID  : 100%|██████████| 32/32 [00:12<00:00,  2.65it/s]\n",
      "Testing combinations:  83%|████████▎ | 76/92 [1:57:08<26:15, 98.49s/it]"
     ]
    },
    {
     "name": "stdout",
     "output_type": "stream",
     "text": [
      "\n",
      "Tested: ['gaussian_blur', 'median_filter', 'chromatic_aberration']\n",
      "FID: 54.90, KID: 0.0553\n",
      "--------------------------------------------------\n"
     ]
    },
    {
     "name": "stderr",
     "output_type": "stream",
     "text": [
      "Processing ['gaussian_blur', 'bilateral_filter', 'color_quantization']: 100%|██████████| 1000/1000 [00:43<00:00, 22.95it/s]\n"
     ]
    },
    {
     "name": "stdout",
     "output_type": "stream",
     "text": [
      "compute FID between two folders\n",
      "Found 1000 images in the folder ./Temp_Game/\n"
     ]
    },
    {
     "name": "stderr",
     "output_type": "stream",
     "text": [
      "FID  : 100%|██████████| 32/32 [00:15<00:00,  2.09it/s]\n"
     ]
    },
    {
     "name": "stdout",
     "output_type": "stream",
     "text": [
      "Found 1000 images in the folder ./temp_degraded/\n"
     ]
    },
    {
     "name": "stderr",
     "output_type": "stream",
     "text": [
      "FID  : 100%|██████████| 32/32 [00:07<00:00,  4.07it/s]\n"
     ]
    },
    {
     "name": "stdout",
     "output_type": "stream",
     "text": [
      "compute KID between two folders\n",
      "Found 1000 images in the folder ./Temp_Game/\n"
     ]
    },
    {
     "name": "stderr",
     "output_type": "stream",
     "text": [
      "KID  : 100%|██████████| 32/32 [00:21<00:00,  1.50it/s]\n"
     ]
    },
    {
     "name": "stdout",
     "output_type": "stream",
     "text": [
      "Found 1000 images in the folder ./temp_degraded/\n"
     ]
    },
    {
     "name": "stderr",
     "output_type": "stream",
     "text": [
      "KID  : 100%|██████████| 32/32 [00:11<00:00,  2.70it/s]\n",
      "Testing combinations:  84%|████████▎ | 77/92 [1:58:53<25:07, 100.51s/it]"
     ]
    },
    {
     "name": "stdout",
     "output_type": "stream",
     "text": [
      "\n",
      "Tested: ['gaussian_blur', 'bilateral_filter', 'color_quantization']\n",
      "FID: 54.64, KID: 0.0485\n",
      "--------------------------------------------------\n"
     ]
    },
    {
     "name": "stderr",
     "output_type": "stream",
     "text": [
      "Processing ['gaussian_blur', 'bilateral_filter', 'motion_blur']: 100%|██████████| 1000/1000 [00:24<00:00, 40.07it/s]\n"
     ]
    },
    {
     "name": "stdout",
     "output_type": "stream",
     "text": [
      "compute FID between two folders\n",
      "Found 1000 images in the folder ./Temp_Game/\n"
     ]
    },
    {
     "name": "stderr",
     "output_type": "stream",
     "text": [
      "FID  : 100%|██████████| 32/32 [00:15<00:00,  2.08it/s]\n"
     ]
    },
    {
     "name": "stdout",
     "output_type": "stream",
     "text": [
      "Found 1000 images in the folder ./temp_degraded/\n"
     ]
    },
    {
     "name": "stderr",
     "output_type": "stream",
     "text": [
      "FID  : 100%|██████████| 32/32 [00:07<00:00,  4.05it/s]\n"
     ]
    },
    {
     "name": "stdout",
     "output_type": "stream",
     "text": [
      "compute KID between two folders\n",
      "Found 1000 images in the folder ./Temp_Game/\n"
     ]
    },
    {
     "name": "stderr",
     "output_type": "stream",
     "text": [
      "KID  : 100%|██████████| 32/32 [00:21<00:00,  1.50it/s]\n"
     ]
    },
    {
     "name": "stdout",
     "output_type": "stream",
     "text": [
      "Found 1000 images in the folder ./temp_degraded/\n"
     ]
    },
    {
     "name": "stderr",
     "output_type": "stream",
     "text": [
      "KID  : 100%|██████████| 32/32 [00:11<00:00,  2.67it/s]\n",
      "Testing combinations:  85%|████████▍ | 78/92 [2:00:20<22:30, 96.44s/it] "
     ]
    },
    {
     "name": "stdout",
     "output_type": "stream",
     "text": [
      "\n",
      "Tested: ['gaussian_blur', 'bilateral_filter', 'motion_blur']\n",
      "FID: 59.46, KID: 0.0543\n",
      "--------------------------------------------------\n"
     ]
    },
    {
     "name": "stderr",
     "output_type": "stream",
     "text": [
      "Processing ['gaussian_blur', 'bilateral_filter', 'chromatic_aberration']: 100%|██████████| 1000/1000 [00:25<00:00, 39.36it/s]\n"
     ]
    },
    {
     "name": "stdout",
     "output_type": "stream",
     "text": [
      "compute FID between two folders\n",
      "Found 1000 images in the folder ./Temp_Game/\n"
     ]
    },
    {
     "name": "stderr",
     "output_type": "stream",
     "text": [
      "FID  : 100%|██████████| 32/32 [00:14<00:00,  2.14it/s]\n"
     ]
    },
    {
     "name": "stdout",
     "output_type": "stream",
     "text": [
      "Found 1000 images in the folder ./temp_degraded/\n"
     ]
    },
    {
     "name": "stderr",
     "output_type": "stream",
     "text": [
      "FID  : 100%|██████████| 32/32 [00:07<00:00,  4.03it/s]\n"
     ]
    },
    {
     "name": "stdout",
     "output_type": "stream",
     "text": [
      "compute KID between two folders\n",
      "Found 1000 images in the folder ./Temp_Game/\n"
     ]
    },
    {
     "name": "stderr",
     "output_type": "stream",
     "text": [
      "KID  : 100%|██████████| 32/32 [00:21<00:00,  1.52it/s]\n"
     ]
    },
    {
     "name": "stdout",
     "output_type": "stream",
     "text": [
      "Found 1000 images in the folder ./temp_degraded/\n"
     ]
    },
    {
     "name": "stderr",
     "output_type": "stream",
     "text": [
      "KID  : 100%|██████████| 32/32 [00:12<00:00,  2.66it/s]\n",
      "Testing combinations:  86%|████████▌ | 79/92 [2:01:46<20:15, 93.49s/it]"
     ]
    },
    {
     "name": "stdout",
     "output_type": "stream",
     "text": [
      "\n",
      "Tested: ['gaussian_blur', 'bilateral_filter', 'chromatic_aberration']\n",
      "FID: 55.65, KID: 0.0641\n",
      "--------------------------------------------------\n"
     ]
    },
    {
     "name": "stderr",
     "output_type": "stream",
     "text": [
      "Processing ['gaussian_blur', 'color_quantization', 'motion_blur']: 100%|██████████| 1000/1000 [00:40<00:00, 24.74it/s]\n"
     ]
    },
    {
     "name": "stdout",
     "output_type": "stream",
     "text": [
      "compute FID between two folders\n",
      "Found 1000 images in the folder ./Temp_Game/\n"
     ]
    },
    {
     "name": "stderr",
     "output_type": "stream",
     "text": [
      "FID  : 100%|██████████| 32/32 [00:14<00:00,  2.16it/s]\n"
     ]
    },
    {
     "name": "stdout",
     "output_type": "stream",
     "text": [
      "Found 1000 images in the folder ./temp_degraded/\n"
     ]
    },
    {
     "name": "stderr",
     "output_type": "stream",
     "text": [
      "FID  : 100%|██████████| 32/32 [00:07<00:00,  4.00it/s]\n"
     ]
    },
    {
     "name": "stdout",
     "output_type": "stream",
     "text": [
      "compute KID between two folders\n",
      "Found 1000 images in the folder ./Temp_Game/\n"
     ]
    },
    {
     "name": "stderr",
     "output_type": "stream",
     "text": [
      "KID  : 100%|██████████| 32/32 [00:21<00:00,  1.52it/s]\n"
     ]
    },
    {
     "name": "stdout",
     "output_type": "stream",
     "text": [
      "Found 1000 images in the folder ./temp_degraded/\n"
     ]
    },
    {
     "name": "stderr",
     "output_type": "stream",
     "text": [
      "KID  : 100%|██████████| 32/32 [00:12<00:00,  2.64it/s]\n",
      "Testing combinations:  87%|████████▋ | 80/92 [2:03:28<19:12, 96.04s/it]"
     ]
    },
    {
     "name": "stdout",
     "output_type": "stream",
     "text": [
      "\n",
      "Tested: ['gaussian_blur', 'color_quantization', 'motion_blur']\n",
      "FID: 54.71, KID: 0.0443\n",
      "--------------------------------------------------\n"
     ]
    },
    {
     "name": "stderr",
     "output_type": "stream",
     "text": [
      "Processing ['gaussian_blur', 'color_quantization', 'chromatic_aberration']: 100%|██████████| 1000/1000 [00:47<00:00, 20.91it/s]\n"
     ]
    },
    {
     "name": "stdout",
     "output_type": "stream",
     "text": [
      "compute FID between two folders\n",
      "Found 1000 images in the folder ./Temp_Game/\n"
     ]
    },
    {
     "name": "stderr",
     "output_type": "stream",
     "text": [
      "FID  : 100%|██████████| 32/32 [00:14<00:00,  2.15it/s]\n"
     ]
    },
    {
     "name": "stdout",
     "output_type": "stream",
     "text": [
      "Found 1000 images in the folder ./temp_degraded/\n"
     ]
    },
    {
     "name": "stderr",
     "output_type": "stream",
     "text": [
      "FID  : 100%|██████████| 32/32 [00:07<00:00,  4.10it/s]\n"
     ]
    },
    {
     "name": "stdout",
     "output_type": "stream",
     "text": [
      "compute KID between two folders\n",
      "Found 1000 images in the folder ./Temp_Game/\n"
     ]
    },
    {
     "name": "stderr",
     "output_type": "stream",
     "text": [
      "KID  : 100%|██████████| 32/32 [00:21<00:00,  1.52it/s]\n"
     ]
    },
    {
     "name": "stdout",
     "output_type": "stream",
     "text": [
      "Found 1000 images in the folder ./temp_degraded/\n"
     ]
    },
    {
     "name": "stderr",
     "output_type": "stream",
     "text": [
      "KID  : 100%|██████████| 32/32 [00:12<00:00,  2.63it/s]\n",
      "Testing combinations:  88%|████████▊ | 81/92 [2:05:17<18:19, 99.94s/it]"
     ]
    },
    {
     "name": "stdout",
     "output_type": "stream",
     "text": [
      "\n",
      "Tested: ['gaussian_blur', 'color_quantization', 'chromatic_aberration']\n",
      "FID: 48.91, KID: 0.0537\n",
      "--------------------------------------------------\n"
     ]
    },
    {
     "name": "stderr",
     "output_type": "stream",
     "text": [
      "Processing ['gaussian_blur', 'motion_blur', 'chromatic_aberration']: 100%|██████████| 1000/1000 [00:18<00:00, 55.33it/s]\n"
     ]
    },
    {
     "name": "stdout",
     "output_type": "stream",
     "text": [
      "compute FID between two folders\n",
      "Found 1000 images in the folder ./Temp_Game/\n"
     ]
    },
    {
     "name": "stderr",
     "output_type": "stream",
     "text": [
      "FID  : 100%|██████████| 32/32 [00:15<00:00,  2.09it/s]\n"
     ]
    },
    {
     "name": "stdout",
     "output_type": "stream",
     "text": [
      "Found 1000 images in the folder ./temp_degraded/\n"
     ]
    },
    {
     "name": "stderr",
     "output_type": "stream",
     "text": [
      "FID  : 100%|██████████| 32/32 [00:07<00:00,  4.05it/s]\n"
     ]
    },
    {
     "name": "stdout",
     "output_type": "stream",
     "text": [
      "compute KID between two folders\n",
      "Found 1000 images in the folder ./Temp_Game/\n"
     ]
    },
    {
     "name": "stderr",
     "output_type": "stream",
     "text": [
      "KID  : 100%|██████████| 32/32 [00:21<00:00,  1.50it/s]\n"
     ]
    },
    {
     "name": "stdout",
     "output_type": "stream",
     "text": [
      "Found 1000 images in the folder ./temp_degraded/\n"
     ]
    },
    {
     "name": "stderr",
     "output_type": "stream",
     "text": [
      "KID  : 100%|██████████| 32/32 [00:12<00:00,  2.64it/s]\n",
      "Testing combinations:  89%|████████▉ | 82/92 [2:06:37<15:39, 93.92s/it]"
     ]
    },
    {
     "name": "stdout",
     "output_type": "stream",
     "text": [
      "\n",
      "Tested: ['gaussian_blur', 'motion_blur', 'chromatic_aberration']\n",
      "FID: 55.48, KID: 0.0549\n",
      "--------------------------------------------------\n"
     ]
    },
    {
     "name": "stderr",
     "output_type": "stream",
     "text": [
      "Processing ['median_filter', 'bilateral_filter', 'color_quantization']: 100%|██████████| 1000/1000 [01:06<00:00, 14.99it/s]\n"
     ]
    },
    {
     "name": "stdout",
     "output_type": "stream",
     "text": [
      "compute FID between two folders\n",
      "Found 1000 images in the folder ./Temp_Game/\n"
     ]
    },
    {
     "name": "stderr",
     "output_type": "stream",
     "text": [
      "FID  : 100%|██████████| 32/32 [00:14<00:00,  2.14it/s]\n"
     ]
    },
    {
     "name": "stdout",
     "output_type": "stream",
     "text": [
      "Found 1000 images in the folder ./temp_degraded/\n"
     ]
    },
    {
     "name": "stderr",
     "output_type": "stream",
     "text": [
      "FID  : 100%|██████████| 32/32 [00:07<00:00,  4.21it/s]\n"
     ]
    },
    {
     "name": "stdout",
     "output_type": "stream",
     "text": [
      "compute KID between two folders\n",
      "Found 1000 images in the folder ./Temp_Game/\n"
     ]
    },
    {
     "name": "stderr",
     "output_type": "stream",
     "text": [
      "KID  : 100%|██████████| 32/32 [00:21<00:00,  1.52it/s]\n"
     ]
    },
    {
     "name": "stdout",
     "output_type": "stream",
     "text": [
      "Found 1000 images in the folder ./temp_degraded/\n"
     ]
    },
    {
     "name": "stderr",
     "output_type": "stream",
     "text": [
      "KID  : 100%|██████████| 32/32 [00:11<00:00,  2.69it/s]\n",
      "Testing combinations:  90%|█████████ | 83/92 [2:08:45<15:35, 103.99s/it]"
     ]
    },
    {
     "name": "stdout",
     "output_type": "stream",
     "text": [
      "\n",
      "Tested: ['median_filter', 'bilateral_filter', 'color_quantization']\n",
      "FID: 53.10, KID: 0.0497\n",
      "--------------------------------------------------\n"
     ]
    },
    {
     "name": "stderr",
     "output_type": "stream",
     "text": [
      "Processing ['median_filter', 'bilateral_filter', 'motion_blur']: 100%|██████████| 1000/1000 [00:50<00:00, 19.79it/s]\n"
     ]
    },
    {
     "name": "stdout",
     "output_type": "stream",
     "text": [
      "compute FID between two folders\n",
      "Found 1000 images in the folder ./Temp_Game/\n"
     ]
    },
    {
     "name": "stderr",
     "output_type": "stream",
     "text": [
      "FID  : 100%|██████████| 32/32 [00:14<00:00,  2.14it/s]\n"
     ]
    },
    {
     "name": "stdout",
     "output_type": "stream",
     "text": [
      "Found 1000 images in the folder ./temp_degraded/\n"
     ]
    },
    {
     "name": "stderr",
     "output_type": "stream",
     "text": [
      "FID  : 100%|██████████| 32/32 [00:07<00:00,  4.19it/s]\n"
     ]
    },
    {
     "name": "stdout",
     "output_type": "stream",
     "text": [
      "compute KID between two folders\n",
      "Found 1000 images in the folder ./Temp_Game/\n"
     ]
    },
    {
     "name": "stderr",
     "output_type": "stream",
     "text": [
      "KID  : 100%|██████████| 32/32 [00:20<00:00,  1.53it/s]\n"
     ]
    },
    {
     "name": "stdout",
     "output_type": "stream",
     "text": [
      "Found 1000 images in the folder ./temp_degraded/\n"
     ]
    },
    {
     "name": "stderr",
     "output_type": "stream",
     "text": [
      "KID  : 100%|██████████| 32/32 [00:12<00:00,  2.65it/s]\n",
      "Testing combinations:  91%|█████████▏| 84/92 [2:10:36<14:09, 106.22s/it]"
     ]
    },
    {
     "name": "stdout",
     "output_type": "stream",
     "text": [
      "\n",
      "Tested: ['median_filter', 'bilateral_filter', 'motion_blur']\n",
      "FID: 58.23, KID: 0.0524\n",
      "--------------------------------------------------\n"
     ]
    },
    {
     "name": "stderr",
     "output_type": "stream",
     "text": [
      "Processing ['median_filter', 'bilateral_filter', 'chromatic_aberration']: 100%|██████████| 1000/1000 [00:49<00:00, 20.03it/s]\n"
     ]
    },
    {
     "name": "stdout",
     "output_type": "stream",
     "text": [
      "compute FID between two folders\n",
      "Found 1000 images in the folder ./Temp_Game/\n"
     ]
    },
    {
     "name": "stderr",
     "output_type": "stream",
     "text": [
      "FID  : 100%|██████████| 32/32 [00:14<00:00,  2.14it/s]\n"
     ]
    },
    {
     "name": "stdout",
     "output_type": "stream",
     "text": [
      "Found 1000 images in the folder ./temp_degraded/\n"
     ]
    },
    {
     "name": "stderr",
     "output_type": "stream",
     "text": [
      "FID  : 100%|██████████| 32/32 [00:07<00:00,  4.18it/s]\n"
     ]
    },
    {
     "name": "stdout",
     "output_type": "stream",
     "text": [
      "compute KID between two folders\n",
      "Found 1000 images in the folder ./Temp_Game/\n"
     ]
    },
    {
     "name": "stderr",
     "output_type": "stream",
     "text": [
      "KID  : 100%|██████████| 32/32 [00:20<00:00,  1.52it/s]\n"
     ]
    },
    {
     "name": "stdout",
     "output_type": "stream",
     "text": [
      "Found 1000 images in the folder ./temp_degraded/\n"
     ]
    },
    {
     "name": "stderr",
     "output_type": "stream",
     "text": [
      "KID  : 100%|██████████| 32/32 [00:12<00:00,  2.64it/s]\n",
      "Testing combinations:  92%|█████████▏| 85/92 [2:12:27<12:32, 107.56s/it]"
     ]
    },
    {
     "name": "stdout",
     "output_type": "stream",
     "text": [
      "\n",
      "Tested: ['median_filter', 'bilateral_filter', 'chromatic_aberration']\n",
      "FID: 55.36, KID: 0.0611\n",
      "--------------------------------------------------\n"
     ]
    },
    {
     "name": "stderr",
     "output_type": "stream",
     "text": [
      "Processing ['median_filter', 'color_quantization', 'motion_blur']: 100%|██████████| 1000/1000 [00:59<00:00, 16.74it/s]\n"
     ]
    },
    {
     "name": "stdout",
     "output_type": "stream",
     "text": [
      "compute FID between two folders\n",
      "Found 1000 images in the folder ./Temp_Game/\n"
     ]
    },
    {
     "name": "stderr",
     "output_type": "stream",
     "text": [
      "FID  : 100%|██████████| 32/32 [00:15<00:00,  2.13it/s]\n"
     ]
    },
    {
     "name": "stdout",
     "output_type": "stream",
     "text": [
      "Found 1000 images in the folder ./temp_degraded/\n"
     ]
    },
    {
     "name": "stderr",
     "output_type": "stream",
     "text": [
      "FID  : 100%|██████████| 32/32 [00:07<00:00,  4.14it/s]\n"
     ]
    },
    {
     "name": "stdout",
     "output_type": "stream",
     "text": [
      "compute KID between two folders\n",
      "Found 1000 images in the folder ./Temp_Game/\n"
     ]
    },
    {
     "name": "stderr",
     "output_type": "stream",
     "text": [
      "KID  : 100%|██████████| 32/32 [00:21<00:00,  1.52it/s]\n"
     ]
    },
    {
     "name": "stdout",
     "output_type": "stream",
     "text": [
      "Found 1000 images in the folder ./temp_degraded/\n"
     ]
    },
    {
     "name": "stderr",
     "output_type": "stream",
     "text": [
      "KID  : 100%|██████████| 32/32 [00:11<00:00,  2.69it/s]\n",
      "Testing combinations:  93%|█████████▎| 86/92 [2:14:28<11:09, 111.52s/it]"
     ]
    },
    {
     "name": "stdout",
     "output_type": "stream",
     "text": [
      "\n",
      "Tested: ['median_filter', 'color_quantization', 'motion_blur']\n",
      "FID: 54.75, KID: 0.0475\n",
      "--------------------------------------------------\n"
     ]
    },
    {
     "name": "stderr",
     "output_type": "stream",
     "text": [
      "Processing ['median_filter', 'color_quantization', 'chromatic_aberration']: 100%|██████████| 1000/1000 [01:07<00:00, 14.86it/s]\n"
     ]
    },
    {
     "name": "stdout",
     "output_type": "stream",
     "text": [
      "compute FID between two folders\n",
      "Found 1000 images in the folder ./Temp_Game/\n"
     ]
    },
    {
     "name": "stderr",
     "output_type": "stream",
     "text": [
      "FID  : 100%|██████████| 32/32 [00:15<00:00,  2.09it/s]\n"
     ]
    },
    {
     "name": "stdout",
     "output_type": "stream",
     "text": [
      "Found 1000 images in the folder ./temp_degraded/\n"
     ]
    },
    {
     "name": "stderr",
     "output_type": "stream",
     "text": [
      "FID  : 100%|██████████| 32/32 [00:07<00:00,  4.15it/s]\n"
     ]
    },
    {
     "name": "stdout",
     "output_type": "stream",
     "text": [
      "compute KID between two folders\n",
      "Found 1000 images in the folder ./Temp_Game/\n"
     ]
    },
    {
     "name": "stderr",
     "output_type": "stream",
     "text": [
      "KID  : 100%|██████████| 32/32 [00:21<00:00,  1.49it/s]\n"
     ]
    },
    {
     "name": "stdout",
     "output_type": "stream",
     "text": [
      "Found 1000 images in the folder ./temp_degraded/\n"
     ]
    },
    {
     "name": "stderr",
     "output_type": "stream",
     "text": [
      "KID  : 100%|██████████| 32/32 [00:11<00:00,  2.68it/s]\n",
      "Testing combinations:  95%|█████████▍| 87/92 [2:16:37<09:43, 116.77s/it]"
     ]
    },
    {
     "name": "stdout",
     "output_type": "stream",
     "text": [
      "\n",
      "Tested: ['median_filter', 'color_quantization', 'chromatic_aberration']\n",
      "FID: 47.88, KID: 0.0512\n",
      "--------------------------------------------------\n"
     ]
    },
    {
     "name": "stderr",
     "output_type": "stream",
     "text": [
      "Processing ['median_filter', 'motion_blur', 'chromatic_aberration']: 100%|██████████| 1000/1000 [00:43<00:00, 23.00it/s]\n"
     ]
    },
    {
     "name": "stdout",
     "output_type": "stream",
     "text": [
      "compute FID between two folders\n",
      "Found 1000 images in the folder ./Temp_Game/\n"
     ]
    },
    {
     "name": "stderr",
     "output_type": "stream",
     "text": [
      "FID  : 100%|██████████| 32/32 [00:15<00:00,  2.09it/s]\n"
     ]
    },
    {
     "name": "stdout",
     "output_type": "stream",
     "text": [
      "Found 1000 images in the folder ./temp_degraded/\n"
     ]
    },
    {
     "name": "stderr",
     "output_type": "stream",
     "text": [
      "FID  : 100%|██████████| 32/32 [00:07<00:00,  4.16it/s]\n"
     ]
    },
    {
     "name": "stdout",
     "output_type": "stream",
     "text": [
      "compute KID between two folders\n",
      "Found 1000 images in the folder ./Temp_Game/\n"
     ]
    },
    {
     "name": "stderr",
     "output_type": "stream",
     "text": [
      "KID  : 100%|██████████| 32/32 [00:21<00:00,  1.49it/s]\n"
     ]
    },
    {
     "name": "stdout",
     "output_type": "stream",
     "text": [
      "Found 1000 images in the folder ./temp_degraded/\n"
     ]
    },
    {
     "name": "stderr",
     "output_type": "stream",
     "text": [
      "KID  : 100%|██████████| 32/32 [00:12<00:00,  2.65it/s]\n",
      "Testing combinations:  96%|█████████▌| 88/92 [2:18:23<07:34, 113.55s/it]"
     ]
    },
    {
     "name": "stdout",
     "output_type": "stream",
     "text": [
      "\n",
      "Tested: ['median_filter', 'motion_blur', 'chromatic_aberration']\n",
      "FID: 54.27, KID: 0.0526\n",
      "--------------------------------------------------\n"
     ]
    },
    {
     "name": "stderr",
     "output_type": "stream",
     "text": [
      "Processing ['bilateral_filter', 'color_quantization', 'motion_blur']: 100%|██████████| 1000/1000 [00:43<00:00, 23.17it/s]\n"
     ]
    },
    {
     "name": "stdout",
     "output_type": "stream",
     "text": [
      "compute FID between two folders\n",
      "Found 1000 images in the folder ./Temp_Game/\n"
     ]
    },
    {
     "name": "stderr",
     "output_type": "stream",
     "text": [
      "FID  : 100%|██████████| 32/32 [00:15<00:00,  2.09it/s]\n"
     ]
    },
    {
     "name": "stdout",
     "output_type": "stream",
     "text": [
      "Found 1000 images in the folder ./temp_degraded/\n"
     ]
    },
    {
     "name": "stderr",
     "output_type": "stream",
     "text": [
      "FID  : 100%|██████████| 32/32 [00:07<00:00,  4.05it/s]\n"
     ]
    },
    {
     "name": "stdout",
     "output_type": "stream",
     "text": [
      "compute KID between two folders\n",
      "Found 1000 images in the folder ./Temp_Game/\n"
     ]
    },
    {
     "name": "stderr",
     "output_type": "stream",
     "text": [
      "KID  : 100%|██████████| 32/32 [00:21<00:00,  1.49it/s]\n"
     ]
    },
    {
     "name": "stdout",
     "output_type": "stream",
     "text": [
      "Found 1000 images in the folder ./temp_degraded/\n"
     ]
    },
    {
     "name": "stderr",
     "output_type": "stream",
     "text": [
      "KID  : 100%|██████████| 32/32 [00:12<00:00,  2.65it/s]\n",
      "Testing combinations:  97%|█████████▋| 89/92 [2:20:07<05:32, 110.94s/it]"
     ]
    },
    {
     "name": "stdout",
     "output_type": "stream",
     "text": [
      "\n",
      "Tested: ['bilateral_filter', 'color_quantization', 'motion_blur']\n",
      "FID: 54.59, KID: 0.0463\n",
      "--------------------------------------------------\n"
     ]
    },
    {
     "name": "stderr",
     "output_type": "stream",
     "text": [
      "Processing ['bilateral_filter', 'color_quantization', 'chromatic_aberration']: 100%|██████████| 1000/1000 [00:50<00:00, 20.00it/s]\n"
     ]
    },
    {
     "name": "stdout",
     "output_type": "stream",
     "text": [
      "compute FID between two folders\n",
      "Found 1000 images in the folder ./Temp_Game/\n"
     ]
    },
    {
     "name": "stderr",
     "output_type": "stream",
     "text": [
      "FID  : 100%|██████████| 32/32 [00:15<00:00,  2.09it/s]\n"
     ]
    },
    {
     "name": "stdout",
     "output_type": "stream",
     "text": [
      "Found 1000 images in the folder ./temp_degraded/\n"
     ]
    },
    {
     "name": "stderr",
     "output_type": "stream",
     "text": [
      "FID  : 100%|██████████| 32/32 [00:07<00:00,  4.11it/s]\n"
     ]
    },
    {
     "name": "stdout",
     "output_type": "stream",
     "text": [
      "compute KID between two folders\n",
      "Found 1000 images in the folder ./Temp_Game/\n"
     ]
    },
    {
     "name": "stderr",
     "output_type": "stream",
     "text": [
      "KID  : 100%|██████████| 32/32 [00:21<00:00,  1.50it/s]\n"
     ]
    },
    {
     "name": "stdout",
     "output_type": "stream",
     "text": [
      "Found 1000 images in the folder ./temp_degraded/\n"
     ]
    },
    {
     "name": "stderr",
     "output_type": "stream",
     "text": [
      "KID  : 100%|██████████| 32/32 [00:12<00:00,  2.64it/s]\n",
      "Testing combinations:  98%|█████████▊| 90/92 [2:21:59<03:42, 111.17s/it]"
     ]
    },
    {
     "name": "stdout",
     "output_type": "stream",
     "text": [
      "\n",
      "Tested: ['bilateral_filter', 'color_quantization', 'chromatic_aberration']\n",
      "FID: 48.47, KID: 0.0578\n",
      "--------------------------------------------------\n"
     ]
    },
    {
     "name": "stderr",
     "output_type": "stream",
     "text": [
      "Processing ['bilateral_filter', 'motion_blur', 'chromatic_aberration']: 100%|██████████| 1000/1000 [00:24<00:00, 40.03it/s]\n"
     ]
    },
    {
     "name": "stdout",
     "output_type": "stream",
     "text": [
      "compute FID between two folders\n",
      "Found 1000 images in the folder ./Temp_Game/\n"
     ]
    },
    {
     "name": "stderr",
     "output_type": "stream",
     "text": [
      "FID  : 100%|██████████| 32/32 [00:15<00:00,  2.13it/s]\n"
     ]
    },
    {
     "name": "stdout",
     "output_type": "stream",
     "text": [
      "Found 1000 images in the folder ./temp_degraded/\n"
     ]
    },
    {
     "name": "stderr",
     "output_type": "stream",
     "text": [
      "FID  : 100%|██████████| 32/32 [00:07<00:00,  4.04it/s]\n"
     ]
    },
    {
     "name": "stdout",
     "output_type": "stream",
     "text": [
      "compute KID between two folders\n",
      "Found 1000 images in the folder ./Temp_Game/\n"
     ]
    },
    {
     "name": "stderr",
     "output_type": "stream",
     "text": [
      "KID  : 100%|██████████| 32/32 [00:20<00:00,  1.52it/s]\n"
     ]
    },
    {
     "name": "stdout",
     "output_type": "stream",
     "text": [
      "Found 1000 images in the folder ./temp_degraded/\n"
     ]
    },
    {
     "name": "stderr",
     "output_type": "stream",
     "text": [
      "KID  : 100%|██████████| 32/32 [00:11<00:00,  2.69it/s]\n",
      "Testing combinations:  99%|█████████▉| 91/92 [2:23:25<01:43, 103.62s/it]"
     ]
    },
    {
     "name": "stdout",
     "output_type": "stream",
     "text": [
      "\n",
      "Tested: ['bilateral_filter', 'motion_blur', 'chromatic_aberration']\n",
      "FID: 55.59, KID: 0.0580\n",
      "--------------------------------------------------\n"
     ]
    },
    {
     "name": "stderr",
     "output_type": "stream",
     "text": [
      "Processing ['color_quantization', 'motion_blur', 'chromatic_aberration']: 100%|██████████| 1000/1000 [00:47<00:00, 20.96it/s]\n"
     ]
    },
    {
     "name": "stdout",
     "output_type": "stream",
     "text": [
      "compute FID between two folders\n",
      "Found 1000 images in the folder ./Temp_Game/\n"
     ]
    },
    {
     "name": "stderr",
     "output_type": "stream",
     "text": [
      "FID  : 100%|██████████| 32/32 [00:15<00:00,  2.08it/s]\n"
     ]
    },
    {
     "name": "stdout",
     "output_type": "stream",
     "text": [
      "Found 1000 images in the folder ./temp_degraded/\n"
     ]
    },
    {
     "name": "stderr",
     "output_type": "stream",
     "text": [
      "FID  : 100%|██████████| 32/32 [00:08<00:00,  3.98it/s]\n"
     ]
    },
    {
     "name": "stdout",
     "output_type": "stream",
     "text": [
      "compute KID between two folders\n",
      "Found 1000 images in the folder ./Temp_Game/\n"
     ]
    },
    {
     "name": "stderr",
     "output_type": "stream",
     "text": [
      "KID  : 100%|██████████| 32/32 [00:21<00:00,  1.50it/s]\n"
     ]
    },
    {
     "name": "stdout",
     "output_type": "stream",
     "text": [
      "Found 1000 images in the folder ./temp_degraded/\n"
     ]
    },
    {
     "name": "stderr",
     "output_type": "stream",
     "text": [
      "KID  : 100%|██████████| 32/32 [00:12<00:00,  2.62it/s]\n",
      "Testing combinations: 100%|██████████| 92/92 [2:25:15<00:00, 94.73s/it] "
     ]
    },
    {
     "name": "stdout",
     "output_type": "stream",
     "text": [
      "\n",
      "Tested: ['color_quantization', 'motion_blur', 'chromatic_aberration']\n",
      "FID: 48.31, KID: 0.0484\n",
      "--------------------------------------------------\n",
      "\n",
      "=== Best FID Combination ===\n",
      "Functions: ['median_filter', 'color_quantization', 'chromatic_aberration']\n",
      "FID: 47.88, KID: 0.0417\n",
      "\n",
      "=== Best KID Combination ===\n",
      "Functions: ['enhance_edges']\n",
      "FID: 59.69, KID: 0.0417\n",
      "\n",
      "=== Best Combined Score ===\n",
      "Functions: ['median_filter', 'color_quantization', 'chromatic_aberration']\n",
      "FID: 47.88, KID: 0.0512\n"
     ]
    },
    {
     "name": "stderr",
     "output_type": "stream",
     "text": [
      "\n"
     ]
    },
    {
     "data": {
      "text/html": [
       "<div>\n",
       "<style scoped>\n",
       "    .dataframe tbody tr th:only-of-type {\n",
       "        vertical-align: middle;\n",
       "    }\n",
       "\n",
       "    .dataframe tbody tr th {\n",
       "        vertical-align: top;\n",
       "    }\n",
       "\n",
       "    .dataframe thead th {\n",
       "        text-align: right;\n",
       "    }\n",
       "</style>\n",
       "<table border=\"1\" class=\"dataframe\">\n",
       "  <thead>\n",
       "    <tr style=\"text-align: right;\">\n",
       "      <th></th>\n",
       "      <th>combination</th>\n",
       "      <th>fid</th>\n",
       "      <th>kid</th>\n",
       "      <th>combined_score</th>\n",
       "    </tr>\n",
       "  </thead>\n",
       "  <tbody>\n",
       "    <tr>\n",
       "      <th>0</th>\n",
       "      <td>[downscale_upscale]</td>\n",
       "      <td>60.192449</td>\n",
       "      <td>0.043750</td>\n",
       "      <td>30.118099</td>\n",
       "    </tr>\n",
       "    <tr>\n",
       "      <th>1</th>\n",
       "      <td>[enhance_edges]</td>\n",
       "      <td>59.693549</td>\n",
       "      <td>0.041729</td>\n",
       "      <td>29.867639</td>\n",
       "    </tr>\n",
       "    <tr>\n",
       "      <th>2</th>\n",
       "      <td>[gaussian_blur]</td>\n",
       "      <td>58.987312</td>\n",
       "      <td>0.046121</td>\n",
       "      <td>29.516716</td>\n",
       "    </tr>\n",
       "    <tr>\n",
       "      <th>3</th>\n",
       "      <td>[median_filter]</td>\n",
       "      <td>58.911805</td>\n",
       "      <td>0.045174</td>\n",
       "      <td>29.478490</td>\n",
       "    </tr>\n",
       "    <tr>\n",
       "      <th>4</th>\n",
       "      <td>[bilateral_filter]</td>\n",
       "      <td>59.234567</td>\n",
       "      <td>0.048912</td>\n",
       "      <td>29.641740</td>\n",
       "    </tr>\n",
       "    <tr>\n",
       "      <th>...</th>\n",
       "      <td>...</td>\n",
       "      <td>...</td>\n",
       "      <td>...</td>\n",
       "      <td>...</td>\n",
       "    </tr>\n",
       "    <tr>\n",
       "      <th>87</th>\n",
       "      <td>[median_filter, motion_blur, chromatic_aberrat...</td>\n",
       "      <td>54.269609</td>\n",
       "      <td>0.052645</td>\n",
       "      <td>27.161127</td>\n",
       "    </tr>\n",
       "    <tr>\n",
       "      <th>88</th>\n",
       "      <td>[bilateral_filter, color_quantization, motion_...</td>\n",
       "      <td>54.587949</td>\n",
       "      <td>0.046311</td>\n",
       "      <td>27.317130</td>\n",
       "    </tr>\n",
       "    <tr>\n",
       "      <th>89</th>\n",
       "      <td>[bilateral_filter, color_quantization, chromat...</td>\n",
       "      <td>48.470759</td>\n",
       "      <td>0.057833</td>\n",
       "      <td>24.264296</td>\n",
       "    </tr>\n",
       "    <tr>\n",
       "      <th>90</th>\n",
       "      <td>[bilateral_filter, motion_blur, chromatic_aber...</td>\n",
       "      <td>55.592787</td>\n",
       "      <td>0.057954</td>\n",
       "      <td>27.825370</td>\n",
       "    </tr>\n",
       "    <tr>\n",
       "      <th>91</th>\n",
       "      <td>[color_quantization, motion_blur, chromatic_ab...</td>\n",
       "      <td>48.305651</td>\n",
       "      <td>0.048385</td>\n",
       "      <td>24.177018</td>\n",
       "    </tr>\n",
       "  </tbody>\n",
       "</table>\n",
       "<p>92 rows × 4 columns</p>\n",
       "</div>"
      ],
      "text/plain": [
       "                                          combination        fid       kid  \\\n",
       "0                                 [downscale_upscale]  60.192449  0.043750   \n",
       "1                                     [enhance_edges]  59.693549  0.041729   \n",
       "2                                     [gaussian_blur]  58.987312  0.046121   \n",
       "3                                     [median_filter]  58.911805  0.045174   \n",
       "4                                  [bilateral_filter]  59.234567  0.048912   \n",
       "..                                                ...        ...       ...   \n",
       "87  [median_filter, motion_blur, chromatic_aberrat...  54.269609  0.052645   \n",
       "88  [bilateral_filter, color_quantization, motion_...  54.587949  0.046311   \n",
       "89  [bilateral_filter, color_quantization, chromat...  48.470759  0.057833   \n",
       "90  [bilateral_filter, motion_blur, chromatic_aber...  55.592787  0.057954   \n",
       "91  [color_quantization, motion_blur, chromatic_ab...  48.305651  0.048385   \n",
       "\n",
       "    combined_score  \n",
       "0        30.118099  \n",
       "1        29.867639  \n",
       "2        29.516716  \n",
       "3        29.478490  \n",
       "4        29.641740  \n",
       "..             ...  \n",
       "87       27.161127  \n",
       "88       27.317130  \n",
       "89       24.264296  \n",
       "90       27.825370  \n",
       "91       24.177018  \n",
       "\n",
       "[92 rows x 4 columns]"
      ]
     },
     "execution_count": 46,
     "metadata": {},
     "output_type": "execute_result"
    }
   ],
   "source": [
    "results_df = test_all_combinations(max_combo_size=3, num_images=1000)\n",
    "analyze_results()"
   ]
  },
  {
   "cell_type": "code",
   "execution_count": 24,
   "id": "165c7b36",
   "metadata": {},
   "outputs": [],
   "source": [
    "def test_promising_quadruplets(num_images=100):\n",
    "    \"\"\"Test targeted quadruplets based on best-performing triplet\"\"\"\n",
    "    # Base triplet (your best performer)\n",
    "    base = ['median_filter', 'color_quantization', 'chromatic_aberration']\n",
    "    \n",
    "    # Get additional functions not in base\n",
    "    additional_funcs = [\n",
    "        f for f in DEGRADATION_FUNCTIONS \n",
    "        if f['name'] not in base and f['name'] != 'pipeline'  # Exclude pipeline if present\n",
    "    ]\n",
    "    \n",
    "    results = []\n",
    "    \n",
    "    # Test each quadruplet variation\n",
    "    for func in additional_funcs:\n",
    "        combo = base + [func['name']]\n",
    "        print(f\"\\nTesting combination: {combo}\")\n",
    "        \n",
    "        # Convert names to function dictionaries\n",
    "        combo_funcs = [f for f in DEGRADATION_FUNCTIONS if f['name'] in combo]\n",
    "        \n",
    "        # Test this specific combination\n",
    "        result = test_combination(combo_funcs, num_images)\n",
    "        result['combination'] = combo  # Store the exact combination\n",
    "        results.append(result)\n",
    "    \n",
    "    # Save and analyze results\n",
    "    df = pd.DataFrame(results)\n",
    "    df.to_csv(\"quadruplet_results.csv\", index=False)\n",
    "    \n",
    "    # Print summary\n",
    "    print(\"\\n=== Quadruplet Testing Complete ===\")\n",
    "    print(f\"Best FID: {df['fid'].min():.2f}\")\n",
    "    print(f\"Best KID: {df['kid'].min():.4f}\")\n",
    "    \n",
    "    return df"
   ]
  },
  {
   "cell_type": "code",
   "execution_count": 49,
   "id": "b14093d5",
   "metadata": {},
   "outputs": [
    {
     "name": "stdout",
     "output_type": "stream",
     "text": [
      "\n",
      "Testing combination: ['median_filter', 'color_quantization', 'chromatic_aberration', 'downscale_upscale']\n"
     ]
    },
    {
     "name": "stderr",
     "output_type": "stream",
     "text": [
      "Processing ['downscale_upscale', 'median_filter', 'color_quantization', 'chromatic_aberration']: 100%|██████████| 1000/1000 [00:57<00:00, 17.54it/s]\n"
     ]
    },
    {
     "name": "stdout",
     "output_type": "stream",
     "text": [
      "compute FID between two folders\n",
      "Found 1000 images in the folder ./Temp_Game/\n"
     ]
    },
    {
     "name": "stderr",
     "output_type": "stream",
     "text": [
      "FID  : 100%|██████████| 32/32 [00:15<00:00,  2.09it/s]\n"
     ]
    },
    {
     "name": "stdout",
     "output_type": "stream",
     "text": [
      "Found 1000 images in the folder ./temp_degraded/\n"
     ]
    },
    {
     "name": "stderr",
     "output_type": "stream",
     "text": [
      "FID  : 100%|██████████| 32/32 [00:07<00:00,  4.13it/s]\n"
     ]
    },
    {
     "name": "stdout",
     "output_type": "stream",
     "text": [
      "compute KID between two folders\n",
      "Found 1000 images in the folder ./Temp_Game/\n"
     ]
    },
    {
     "name": "stderr",
     "output_type": "stream",
     "text": [
      "KID  : 100%|██████████| 32/32 [00:21<00:00,  1.50it/s]\n"
     ]
    },
    {
     "name": "stdout",
     "output_type": "stream",
     "text": [
      "Found 1000 images in the folder ./temp_degraded/\n"
     ]
    },
    {
     "name": "stderr",
     "output_type": "stream",
     "text": [
      "KID  : 100%|██████████| 32/32 [00:12<00:00,  2.67it/s]\n"
     ]
    },
    {
     "name": "stdout",
     "output_type": "stream",
     "text": [
      "\n",
      "Testing combination: ['median_filter', 'color_quantization', 'chromatic_aberration', 'enhance_edges']\n"
     ]
    },
    {
     "name": "stderr",
     "output_type": "stream",
     "text": [
      "Processing ['enhance_edges', 'median_filter', 'color_quantization', 'chromatic_aberration']: 100%|██████████| 1000/1000 [01:05<00:00, 15.33it/s]\n"
     ]
    },
    {
     "name": "stdout",
     "output_type": "stream",
     "text": [
      "compute FID between two folders\n",
      "Found 1000 images in the folder ./Temp_Game/\n"
     ]
    },
    {
     "name": "stderr",
     "output_type": "stream",
     "text": [
      "FID  : 100%|██████████| 32/32 [00:15<00:00,  2.13it/s]\n"
     ]
    },
    {
     "name": "stdout",
     "output_type": "stream",
     "text": [
      "Found 1000 images in the folder ./temp_degraded/\n"
     ]
    },
    {
     "name": "stderr",
     "output_type": "stream",
     "text": [
      "FID  : 100%|██████████| 32/32 [00:07<00:00,  4.08it/s]\n"
     ]
    },
    {
     "name": "stdout",
     "output_type": "stream",
     "text": [
      "compute KID between two folders\n",
      "Found 1000 images in the folder ./Temp_Game/\n"
     ]
    },
    {
     "name": "stderr",
     "output_type": "stream",
     "text": [
      "KID  : 100%|██████████| 32/32 [00:21<00:00,  1.51it/s]\n"
     ]
    },
    {
     "name": "stdout",
     "output_type": "stream",
     "text": [
      "Found 1000 images in the folder ./temp_degraded/\n"
     ]
    },
    {
     "name": "stderr",
     "output_type": "stream",
     "text": [
      "KID  : 100%|██████████| 32/32 [00:11<00:00,  2.69it/s]\n"
     ]
    },
    {
     "name": "stdout",
     "output_type": "stream",
     "text": [
      "\n",
      "Testing combination: ['median_filter', 'color_quantization', 'chromatic_aberration', 'gaussian_blur']\n"
     ]
    },
    {
     "name": "stderr",
     "output_type": "stream",
     "text": [
      "Processing ['gaussian_blur', 'median_filter', 'color_quantization', 'chromatic_aberration']: 100%|██████████| 1000/1000 [00:56<00:00, 17.55it/s]\n"
     ]
    },
    {
     "name": "stdout",
     "output_type": "stream",
     "text": [
      "compute FID between two folders\n",
      "Found 1000 images in the folder ./Temp_Game/\n"
     ]
    },
    {
     "name": "stderr",
     "output_type": "stream",
     "text": [
      "FID  : 100%|██████████| 32/32 [00:14<00:00,  2.16it/s]\n"
     ]
    },
    {
     "name": "stdout",
     "output_type": "stream",
     "text": [
      "Found 1000 images in the folder ./temp_degraded/\n"
     ]
    },
    {
     "name": "stderr",
     "output_type": "stream",
     "text": [
      "FID  : 100%|██████████| 32/32 [00:07<00:00,  4.15it/s]\n"
     ]
    },
    {
     "name": "stdout",
     "output_type": "stream",
     "text": [
      "compute KID between two folders\n",
      "Found 1000 images in the folder ./Temp_Game/\n"
     ]
    },
    {
     "name": "stderr",
     "output_type": "stream",
     "text": [
      "KID  : 100%|██████████| 32/32 [00:21<00:00,  1.52it/s]\n"
     ]
    },
    {
     "name": "stdout",
     "output_type": "stream",
     "text": [
      "Found 1000 images in the folder ./temp_degraded/\n"
     ]
    },
    {
     "name": "stderr",
     "output_type": "stream",
     "text": [
      "KID  : 100%|██████████| 32/32 [00:11<00:00,  2.69it/s]\n"
     ]
    },
    {
     "name": "stdout",
     "output_type": "stream",
     "text": [
      "\n",
      "Testing combination: ['median_filter', 'color_quantization', 'chromatic_aberration', 'bilateral_filter']\n"
     ]
    },
    {
     "name": "stderr",
     "output_type": "stream",
     "text": [
      "Processing ['median_filter', 'bilateral_filter', 'color_quantization', 'chromatic_aberration']: 100%|██████████| 1000/1000 [01:12<00:00, 13.70it/s]\n"
     ]
    },
    {
     "name": "stdout",
     "output_type": "stream",
     "text": [
      "compute FID between two folders\n",
      "Found 1000 images in the folder ./Temp_Game/\n"
     ]
    },
    {
     "name": "stderr",
     "output_type": "stream",
     "text": [
      "FID  : 100%|██████████| 32/32 [00:15<00:00,  2.10it/s]\n"
     ]
    },
    {
     "name": "stdout",
     "output_type": "stream",
     "text": [
      "Found 1000 images in the folder ./temp_degraded/\n"
     ]
    },
    {
     "name": "stderr",
     "output_type": "stream",
     "text": [
      "FID  : 100%|██████████| 32/32 [00:07<00:00,  4.17it/s]\n"
     ]
    },
    {
     "name": "stdout",
     "output_type": "stream",
     "text": [
      "compute KID between two folders\n",
      "Found 1000 images in the folder ./Temp_Game/\n"
     ]
    },
    {
     "name": "stderr",
     "output_type": "stream",
     "text": [
      "KID  : 100%|██████████| 32/32 [00:21<00:00,  1.49it/s]\n"
     ]
    },
    {
     "name": "stdout",
     "output_type": "stream",
     "text": [
      "Found 1000 images in the folder ./temp_degraded/\n"
     ]
    },
    {
     "name": "stderr",
     "output_type": "stream",
     "text": [
      "KID  : 100%|██████████| 32/32 [00:11<00:00,  2.70it/s]\n"
     ]
    },
    {
     "name": "stdout",
     "output_type": "stream",
     "text": [
      "\n",
      "Testing combination: ['median_filter', 'color_quantization', 'chromatic_aberration', 'motion_blur']\n"
     ]
    },
    {
     "name": "stderr",
     "output_type": "stream",
     "text": [
      "Processing ['median_filter', 'color_quantization', 'motion_blur', 'chromatic_aberration']: 100%|██████████| 1000/1000 [01:07<00:00, 14.73it/s]\n"
     ]
    },
    {
     "name": "stdout",
     "output_type": "stream",
     "text": [
      "compute FID between two folders\n",
      "Found 1000 images in the folder ./Temp_Game/\n"
     ]
    },
    {
     "name": "stderr",
     "output_type": "stream",
     "text": [
      "FID  : 100%|██████████| 32/32 [00:15<00:00,  2.10it/s]\n"
     ]
    },
    {
     "name": "stdout",
     "output_type": "stream",
     "text": [
      "Found 1000 images in the folder ./temp_degraded/\n"
     ]
    },
    {
     "name": "stderr",
     "output_type": "stream",
     "text": [
      "FID  : 100%|██████████| 32/32 [00:07<00:00,  4.08it/s]\n"
     ]
    },
    {
     "name": "stdout",
     "output_type": "stream",
     "text": [
      "compute KID between two folders\n",
      "Found 1000 images in the folder ./Temp_Game/\n"
     ]
    },
    {
     "name": "stderr",
     "output_type": "stream",
     "text": [
      "KID  : 100%|██████████| 32/32 [00:21<00:00,  1.50it/s]\n"
     ]
    },
    {
     "name": "stdout",
     "output_type": "stream",
     "text": [
      "Found 1000 images in the folder ./temp_degraded/\n"
     ]
    },
    {
     "name": "stderr",
     "output_type": "stream",
     "text": [
      "KID  : 100%|██████████| 32/32 [00:11<00:00,  2.68it/s]\n"
     ]
    },
    {
     "name": "stdout",
     "output_type": "stream",
     "text": [
      "\n",
      "=== Quadruplet Testing Complete ===\n",
      "Best FID: 47.97\n",
      "Best KID: 0.0528\n",
      "\n",
      "=== Best FID Combination ===\n",
      "Functions: ['median_filter', 'color_quantization', 'chromatic_aberration', 'bilateral_filter']\n",
      "FID: 47.97, KID: 0.0528\n",
      "\n",
      "=== Best KID Combination ===\n",
      "Functions: ['median_filter', 'color_quantization', 'chromatic_aberration', 'motion_blur']\n",
      "FID: 48.08, KID: 0.0528\n",
      "\n",
      "=== Best Combined Score ===\n",
      "Functions: ['median_filter', 'color_quantization', 'chromatic_aberration', 'bilateral_filter']\n",
      "FID: 47.97, KID: 0.0571\n"
     ]
    },
    {
     "data": {
      "text/html": [
       "<div>\n",
       "<style scoped>\n",
       "    .dataframe tbody tr th:only-of-type {\n",
       "        vertical-align: middle;\n",
       "    }\n",
       "\n",
       "    .dataframe tbody tr th {\n",
       "        vertical-align: top;\n",
       "    }\n",
       "\n",
       "    .dataframe thead th {\n",
       "        text-align: right;\n",
       "    }\n",
       "</style>\n",
       "<table border=\"1\" class=\"dataframe\">\n",
       "  <thead>\n",
       "    <tr style=\"text-align: right;\">\n",
       "      <th></th>\n",
       "      <th>combination</th>\n",
       "      <th>fid</th>\n",
       "      <th>kid</th>\n",
       "      <th>combined_score</th>\n",
       "    </tr>\n",
       "  </thead>\n",
       "  <tbody>\n",
       "    <tr>\n",
       "      <th>0</th>\n",
       "      <td>[median_filter, color_quantization, chromatic_...</td>\n",
       "      <td>48.394634</td>\n",
       "      <td>0.053334</td>\n",
       "      <td>24.223984</td>\n",
       "    </tr>\n",
       "    <tr>\n",
       "      <th>1</th>\n",
       "      <td>[median_filter, color_quantization, chromatic_...</td>\n",
       "      <td>48.915248</td>\n",
       "      <td>0.053877</td>\n",
       "      <td>24.484562</td>\n",
       "    </tr>\n",
       "    <tr>\n",
       "      <th>2</th>\n",
       "      <td>[median_filter, color_quantization, chromatic_...</td>\n",
       "      <td>48.099972</td>\n",
       "      <td>0.053790</td>\n",
       "      <td>24.076881</td>\n",
       "    </tr>\n",
       "    <tr>\n",
       "      <th>3</th>\n",
       "      <td>[median_filter, color_quantization, chromatic_...</td>\n",
       "      <td>47.973532</td>\n",
       "      <td>0.057067</td>\n",
       "      <td>24.015299</td>\n",
       "    </tr>\n",
       "    <tr>\n",
       "      <th>4</th>\n",
       "      <td>[median_filter, color_quantization, chromatic_...</td>\n",
       "      <td>48.082187</td>\n",
       "      <td>0.052840</td>\n",
       "      <td>24.067514</td>\n",
       "    </tr>\n",
       "  </tbody>\n",
       "</table>\n",
       "</div>"
      ],
      "text/plain": [
       "                                         combination        fid       kid  \\\n",
       "0  [median_filter, color_quantization, chromatic_...  48.394634  0.053334   \n",
       "1  [median_filter, color_quantization, chromatic_...  48.915248  0.053877   \n",
       "2  [median_filter, color_quantization, chromatic_...  48.099972  0.053790   \n",
       "3  [median_filter, color_quantization, chromatic_...  47.973532  0.057067   \n",
       "4  [median_filter, color_quantization, chromatic_...  48.082187  0.052840   \n",
       "\n",
       "   combined_score  \n",
       "0       24.223984  \n",
       "1       24.484562  \n",
       "2       24.076881  \n",
       "3       24.015299  \n",
       "4       24.067514  "
      ]
     },
     "execution_count": 49,
     "metadata": {},
     "output_type": "execute_result"
    }
   ],
   "source": [
    "quadruplet_results = test_promising_quadruplets(num_images=1000)\n",
    "analyze_results(\"quadruplet_results.csv\")"
   ]
  },
  {
   "cell_type": "code",
   "execution_count": 25,
   "id": "2ac483cd",
   "metadata": {},
   "outputs": [],
   "source": [
    "def test_five_stage_combinations(num_images=50):\n",
    "    \"\"\"Test 5-stage combinations building on best 4-stage result\"\"\"\n",
    "    # Base quadruplet (your best performer)\n",
    "    base = [\n",
    "        'median_filter',\n",
    "        'color_quantization', \n",
    "        'chromatic_aberration',\n",
    "        'bilateral_filter'\n",
    "    ]\n",
    "    \n",
    "    # Additional functions to test as 5th stage\n",
    "    candidates = [\n",
    "        'downscale_upscale',\n",
    "        'enhance_edges',\n",
    "        'gaussian_blur',\n",
    "        'motion_blur'\n",
    "    ]\n",
    "    \n",
    "    results = []\n",
    "    \n",
    "    for fifth_stage in candidates:\n",
    "        combo = base + [fifth_stage]\n",
    "        print(f\"\\nTesting 5-stage: {combo}\")\n",
    "        \n",
    "        # Convert names to function dicts\n",
    "        combo_funcs = [f for f in DEGRADATION_FUNCTIONS if f['name'] in combo]\n",
    "        \n",
    "        # Test with reduced image count for speed\n",
    "        result = test_combination(combo_funcs, num_images)\n",
    "        result['combination'] = combo\n",
    "        results.append(result)\n",
    "    \n",
    "    # Save and analyze\n",
    "    df = pd.DataFrame(results)\n",
    "    df.to_csv(\"five_stage_results.csv\", index=False)\n",
    "    \n",
    "    best = df.loc[df['fid'].idxmin()]\n",
    "    print(f\"\\nBest 5-stage: {best['combination']}\")\n",
    "    print(f\"FID: {best['fid']:.2f}, KID: {best['kid']:.4f}\")\n",
    "    \n",
    "    return df"
   ]
  },
  {
   "cell_type": "code",
   "execution_count": 51,
   "id": "d61f4cee",
   "metadata": {},
   "outputs": [
    {
     "name": "stdout",
     "output_type": "stream",
     "text": [
      "\n",
      "Testing 5-stage: ['median_filter', 'color_quantization', 'chromatic_aberration', 'bilateral_filter', 'downscale_upscale']\n"
     ]
    },
    {
     "name": "stderr",
     "output_type": "stream",
     "text": [
      "Processing ['downscale_upscale', 'median_filter', 'bilateral_filter', 'color_quantization', 'chromatic_aberration']: 100%|██████████| 1000/1000 [01:02<00:00, 15.90it/s]\n"
     ]
    },
    {
     "name": "stdout",
     "output_type": "stream",
     "text": [
      "compute FID between two folders\n",
      "Found 1000 images in the folder ./Temp_Game/\n"
     ]
    },
    {
     "name": "stderr",
     "output_type": "stream",
     "text": [
      "FID  : 100%|██████████| 32/32 [00:15<00:00,  2.11it/s]\n"
     ]
    },
    {
     "name": "stdout",
     "output_type": "stream",
     "text": [
      "Found 1000 images in the folder ./temp_degraded/\n"
     ]
    },
    {
     "name": "stderr",
     "output_type": "stream",
     "text": [
      "FID  : 100%|██████████| 32/32 [00:07<00:00,  4.14it/s]\n"
     ]
    },
    {
     "name": "stdout",
     "output_type": "stream",
     "text": [
      "compute KID between two folders\n",
      "Found 1000 images in the folder ./Temp_Game/\n"
     ]
    },
    {
     "name": "stderr",
     "output_type": "stream",
     "text": [
      "KID  : 100%|██████████| 32/32 [00:21<00:00,  1.50it/s]\n"
     ]
    },
    {
     "name": "stdout",
     "output_type": "stream",
     "text": [
      "Found 1000 images in the folder ./temp_degraded/\n"
     ]
    },
    {
     "name": "stderr",
     "output_type": "stream",
     "text": [
      "KID  : 100%|██████████| 32/32 [00:11<00:00,  2.69it/s]\n"
     ]
    },
    {
     "name": "stdout",
     "output_type": "stream",
     "text": [
      "\n",
      "Testing 5-stage: ['median_filter', 'color_quantization', 'chromatic_aberration', 'bilateral_filter', 'enhance_edges']\n"
     ]
    },
    {
     "name": "stderr",
     "output_type": "stream",
     "text": [
      "Processing ['enhance_edges', 'median_filter', 'bilateral_filter', 'color_quantization', 'chromatic_aberration']: 100%|██████████| 1000/1000 [01:10<00:00, 14.09it/s]\n"
     ]
    },
    {
     "name": "stdout",
     "output_type": "stream",
     "text": [
      "compute FID between two folders\n",
      "Found 1000 images in the folder ./Temp_Game/\n"
     ]
    },
    {
     "name": "stderr",
     "output_type": "stream",
     "text": [
      "FID  : 100%|██████████| 32/32 [00:15<00:00,  2.11it/s]\n"
     ]
    },
    {
     "name": "stdout",
     "output_type": "stream",
     "text": [
      "Found 1000 images in the folder ./temp_degraded/\n"
     ]
    },
    {
     "name": "stderr",
     "output_type": "stream",
     "text": [
      "FID  : 100%|██████████| 32/32 [00:07<00:00,  4.16it/s]\n"
     ]
    },
    {
     "name": "stdout",
     "output_type": "stream",
     "text": [
      "compute KID between two folders\n",
      "Found 1000 images in the folder ./Temp_Game/\n"
     ]
    },
    {
     "name": "stderr",
     "output_type": "stream",
     "text": [
      "KID  : 100%|██████████| 32/32 [00:21<00:00,  1.49it/s]\n"
     ]
    },
    {
     "name": "stdout",
     "output_type": "stream",
     "text": [
      "Found 1000 images in the folder ./temp_degraded/\n"
     ]
    },
    {
     "name": "stderr",
     "output_type": "stream",
     "text": [
      "KID  : 100%|██████████| 32/32 [00:11<00:00,  2.69it/s]\n"
     ]
    },
    {
     "name": "stdout",
     "output_type": "stream",
     "text": [
      "\n",
      "Testing 5-stage: ['median_filter', 'color_quantization', 'chromatic_aberration', 'bilateral_filter', 'gaussian_blur']\n"
     ]
    },
    {
     "name": "stderr",
     "output_type": "stream",
     "text": [
      "Processing ['gaussian_blur', 'median_filter', 'bilateral_filter', 'color_quantization', 'chromatic_aberration']: 100%|██████████| 1000/1000 [01:04<00:00, 15.57it/s]\n"
     ]
    },
    {
     "name": "stdout",
     "output_type": "stream",
     "text": [
      "compute FID between two folders\n",
      "Found 1000 images in the folder ./Temp_Game/\n"
     ]
    },
    {
     "name": "stderr",
     "output_type": "stream",
     "text": [
      "FID  : 100%|██████████| 32/32 [00:14<00:00,  2.16it/s]\n"
     ]
    },
    {
     "name": "stdout",
     "output_type": "stream",
     "text": [
      "Found 1000 images in the folder ./temp_degraded/\n"
     ]
    },
    {
     "name": "stderr",
     "output_type": "stream",
     "text": [
      "FID  : 100%|██████████| 32/32 [00:07<00:00,  4.15it/s]\n"
     ]
    },
    {
     "name": "stdout",
     "output_type": "stream",
     "text": [
      "compute KID between two folders\n",
      "Found 1000 images in the folder ./Temp_Game/\n"
     ]
    },
    {
     "name": "stderr",
     "output_type": "stream",
     "text": [
      "KID  : 100%|██████████| 32/32 [00:20<00:00,  1.53it/s]\n"
     ]
    },
    {
     "name": "stdout",
     "output_type": "stream",
     "text": [
      "Found 1000 images in the folder ./temp_degraded/\n"
     ]
    },
    {
     "name": "stderr",
     "output_type": "stream",
     "text": [
      "KID  : 100%|██████████| 32/32 [00:11<00:00,  2.70it/s]\n"
     ]
    },
    {
     "name": "stdout",
     "output_type": "stream",
     "text": [
      "\n",
      "Testing 5-stage: ['median_filter', 'color_quantization', 'chromatic_aberration', 'bilateral_filter', 'motion_blur']\n"
     ]
    },
    {
     "name": "stderr",
     "output_type": "stream",
     "text": [
      "Processing ['median_filter', 'bilateral_filter', 'color_quantization', 'motion_blur', 'chromatic_aberration']: 100%|██████████| 1000/1000 [01:13<00:00, 13.65it/s]\n"
     ]
    },
    {
     "name": "stdout",
     "output_type": "stream",
     "text": [
      "compute FID between two folders\n",
      "Found 1000 images in the folder ./Temp_Game/\n"
     ]
    },
    {
     "name": "stderr",
     "output_type": "stream",
     "text": [
      "FID  : 100%|██████████| 32/32 [00:15<00:00,  2.10it/s]\n"
     ]
    },
    {
     "name": "stdout",
     "output_type": "stream",
     "text": [
      "Found 1000 images in the folder ./temp_degraded/\n"
     ]
    },
    {
     "name": "stderr",
     "output_type": "stream",
     "text": [
      "FID  : 100%|██████████| 32/32 [00:07<00:00,  4.18it/s]\n"
     ]
    },
    {
     "name": "stdout",
     "output_type": "stream",
     "text": [
      "compute KID between two folders\n",
      "Found 1000 images in the folder ./Temp_Game/\n"
     ]
    },
    {
     "name": "stderr",
     "output_type": "stream",
     "text": [
      "KID  : 100%|██████████| 32/32 [00:21<00:00,  1.50it/s]\n"
     ]
    },
    {
     "name": "stdout",
     "output_type": "stream",
     "text": [
      "Found 1000 images in the folder ./temp_degraded/\n"
     ]
    },
    {
     "name": "stderr",
     "output_type": "stream",
     "text": [
      "KID  : 100%|██████████| 32/32 [00:11<00:00,  2.70it/s]\n"
     ]
    },
    {
     "name": "stdout",
     "output_type": "stream",
     "text": [
      "\n",
      "Best 5-stage: ['median_filter', 'color_quantization', 'chromatic_aberration', 'bilateral_filter', 'motion_blur']\n",
      "FID: 47.51, KID: 0.0597\n"
     ]
    }
   ],
   "source": [
    "five_stage_results = test_five_stage_combinations(num_images=1000)"
   ]
  },
  {
   "cell_type": "code",
   "execution_count": 26,
   "id": "43d8bcce",
   "metadata": {},
   "outputs": [],
   "source": [
    "def test_six_stage_combinations(num_images=50):\n",
    "    \"\"\"Test 6-stage combos building on best 5-stage result\"\"\"\n",
    "    # Base 5-stage (your best performer)\n",
    "    base = [\n",
    "        'median_filter',\n",
    "        'color_quantization',\n",
    "        'chromatic_aberration',\n",
    "        'bilateral_filter',\n",
    "        'motion_blur'\n",
    "    ]\n",
    "    \n",
    "    # Sixth operation candidates\n",
    "    candidates = [f for f in DEGRADATION_FUNCTIONS \n",
    "                 if f['name'] not in base and f['name'] in ['downscale_upscale', 'enhance_edges', 'gaussian_blur']]\n",
    "    \n",
    "    results = []\n",
    "    \n",
    "    for sixth_func in candidates:\n",
    "        combo = base + [sixth_func['name']]\n",
    "        print(f\"\\nTesting 6-stage: {combo}\")\n",
    "        \n",
    "        # Convert names to function dicts\n",
    "        combo_funcs = [f for f in DEGRADATION_FUNCTIONS if f['name'] in combo]\n",
    "        \n",
    "        # Test with reduced images for speed\n",
    "        result = test_combination(combo_funcs, num_images)\n",
    "        result['combination'] = combo\n",
    "        results.append(result)\n",
    "    \n",
    "    # Save and analyze\n",
    "    df = pd.DataFrame(results)\n",
    "    df.to_csv(\"six_stage_results.csv\", index=False)\n",
    "    \n",
    "    best = df.loc[df['fid'].idxmin()]\n",
    "    print(f\"\\nBest 6-stage: {best['combination']}\")\n",
    "    print(f\"FID: {best['fid']:.2f}, KID: {best['kid']:.4f}\")\n",
    "    \n",
    "    return df\n",
    "\n",
    "# Uncomment to run:\n",
    "# six_stage_results = test_six_stage_combinations(num_images=50)"
   ]
  },
  {
   "cell_type": "code",
   "execution_count": 53,
   "id": "4c155cb6",
   "metadata": {},
   "outputs": [
    {
     "name": "stdout",
     "output_type": "stream",
     "text": [
      "\n",
      "Testing 6-stage: ['median_filter', 'color_quantization', 'chromatic_aberration', 'bilateral_filter', 'motion_blur', 'downscale_upscale']\n"
     ]
    },
    {
     "name": "stderr",
     "output_type": "stream",
     "text": [
      "Processing ['downscale_upscale', 'median_filter', 'bilateral_filter', 'color_quantization', 'motion_blur', 'chromatic_aberration']: 100%|██████████| 1000/1000 [01:03<00:00, 15.69it/s]\n"
     ]
    },
    {
     "name": "stdout",
     "output_type": "stream",
     "text": [
      "compute FID between two folders\n",
      "Found 1000 images in the folder ./Temp_Game/\n"
     ]
    },
    {
     "name": "stderr",
     "output_type": "stream",
     "text": [
      "FID  : 100%|██████████| 32/32 [00:15<00:00,  2.09it/s]\n"
     ]
    },
    {
     "name": "stdout",
     "output_type": "stream",
     "text": [
      "Found 1000 images in the folder ./temp_degraded/\n"
     ]
    },
    {
     "name": "stderr",
     "output_type": "stream",
     "text": [
      "FID  : 100%|██████████| 32/32 [00:07<00:00,  4.13it/s]\n"
     ]
    },
    {
     "name": "stdout",
     "output_type": "stream",
     "text": [
      "compute KID between two folders\n",
      "Found 1000 images in the folder ./Temp_Game/\n"
     ]
    },
    {
     "name": "stderr",
     "output_type": "stream",
     "text": [
      "KID  : 100%|██████████| 32/32 [00:21<00:00,  1.50it/s]\n"
     ]
    },
    {
     "name": "stdout",
     "output_type": "stream",
     "text": [
      "Found 1000 images in the folder ./temp_degraded/\n"
     ]
    },
    {
     "name": "stderr",
     "output_type": "stream",
     "text": [
      "KID  : 100%|██████████| 32/32 [00:11<00:00,  2.71it/s]\n"
     ]
    },
    {
     "name": "stdout",
     "output_type": "stream",
     "text": [
      "\n",
      "Testing 6-stage: ['median_filter', 'color_quantization', 'chromatic_aberration', 'bilateral_filter', 'motion_blur', 'enhance_edges']\n"
     ]
    },
    {
     "name": "stderr",
     "output_type": "stream",
     "text": [
      "Processing ['enhance_edges', 'median_filter', 'bilateral_filter', 'color_quantization', 'motion_blur', 'chromatic_aberration']: 100%|██████████| 1000/1000 [01:12<00:00, 13.87it/s]\n"
     ]
    },
    {
     "name": "stdout",
     "output_type": "stream",
     "text": [
      "compute FID between two folders\n",
      "Found 1000 images in the folder ./Temp_Game/\n"
     ]
    },
    {
     "name": "stderr",
     "output_type": "stream",
     "text": [
      "FID  : 100%|██████████| 32/32 [00:14<00:00,  2.15it/s]\n"
     ]
    },
    {
     "name": "stdout",
     "output_type": "stream",
     "text": [
      "Found 1000 images in the folder ./temp_degraded/\n"
     ]
    },
    {
     "name": "stderr",
     "output_type": "stream",
     "text": [
      "FID  : 100%|██████████| 32/32 [00:07<00:00,  4.11it/s]\n"
     ]
    },
    {
     "name": "stdout",
     "output_type": "stream",
     "text": [
      "compute KID between two folders\n",
      "Found 1000 images in the folder ./Temp_Game/\n"
     ]
    },
    {
     "name": "stderr",
     "output_type": "stream",
     "text": [
      "KID  : 100%|██████████| 32/32 [00:21<00:00,  1.49it/s]\n"
     ]
    },
    {
     "name": "stdout",
     "output_type": "stream",
     "text": [
      "Found 1000 images in the folder ./temp_degraded/\n"
     ]
    },
    {
     "name": "stderr",
     "output_type": "stream",
     "text": [
      "KID  : 100%|██████████| 32/32 [00:12<00:00,  2.65it/s]\n"
     ]
    },
    {
     "name": "stdout",
     "output_type": "stream",
     "text": [
      "\n",
      "Testing 6-stage: ['median_filter', 'color_quantization', 'chromatic_aberration', 'bilateral_filter', 'motion_blur', 'gaussian_blur']\n"
     ]
    },
    {
     "name": "stderr",
     "output_type": "stream",
     "text": [
      "Processing ['gaussian_blur', 'median_filter', 'bilateral_filter', 'color_quantization', 'motion_blur', 'chromatic_aberration']: 100%|██████████| 1000/1000 [01:04<00:00, 15.57it/s]\n"
     ]
    },
    {
     "name": "stdout",
     "output_type": "stream",
     "text": [
      "compute FID between two folders\n",
      "Found 1000 images in the folder ./Temp_Game/\n"
     ]
    },
    {
     "name": "stderr",
     "output_type": "stream",
     "text": [
      "FID  : 100%|██████████| 32/32 [00:15<00:00,  2.09it/s]\n"
     ]
    },
    {
     "name": "stdout",
     "output_type": "stream",
     "text": [
      "Found 1000 images in the folder ./temp_degraded/\n"
     ]
    },
    {
     "name": "stderr",
     "output_type": "stream",
     "text": [
      "FID  : 100%|██████████| 32/32 [00:07<00:00,  4.07it/s]\n"
     ]
    },
    {
     "name": "stdout",
     "output_type": "stream",
     "text": [
      "compute KID between two folders\n",
      "Found 1000 images in the folder ./Temp_Game/\n"
     ]
    },
    {
     "name": "stderr",
     "output_type": "stream",
     "text": [
      "KID  : 100%|██████████| 32/32 [00:21<00:00,  1.50it/s]\n"
     ]
    },
    {
     "name": "stdout",
     "output_type": "stream",
     "text": [
      "Found 1000 images in the folder ./temp_degraded/\n"
     ]
    },
    {
     "name": "stderr",
     "output_type": "stream",
     "text": [
      "KID  : 100%|██████████| 32/32 [00:12<00:00,  2.66it/s]\n"
     ]
    },
    {
     "name": "stdout",
     "output_type": "stream",
     "text": [
      "\n",
      "Best 6-stage: ['median_filter', 'color_quantization', 'chromatic_aberration', 'bilateral_filter', 'motion_blur', 'gaussian_blur']\n",
      "FID: 47.60, KID: 0.0578\n"
     ]
    }
   ],
   "source": [
    "six_stage_results = test_six_stage_combinations(num_images=1000)"
   ]
  },
  {
   "cell_type": "code",
   "execution_count": 27,
   "id": "0cfe1228",
   "metadata": {},
   "outputs": [],
   "source": [
    "def test_seven_stage_combinations(num_images=50):\n",
    "    \"\"\"Test 7-stage combos building on best 6-stage result\"\"\"\n",
    "    # Base 6-stage (best performer)\n",
    "    base = [\n",
    "        'median_filter',\n",
    "        'color_quantization',\n",
    "        'chromatic_aberration',\n",
    "        'bilateral_filter',\n",
    "        'motion_blur',\n",
    "        'gaussian_blur'\n",
    "    ]\n",
    "    \n",
    "    # Seventh operation candidates (exclude redundancies)\n",
    "    candidates = [\n",
    "        f for f in DEGRADATION_FUNCTIONS \n",
    "        if f['name'] not in base \n",
    "        and f['name'] in ['downscale_upscale', 'enhance_edges']\n",
    "    ]\n",
    "    \n",
    "    results = []\n",
    "    for seventh_func in candidates:\n",
    "        combo = base + [seventh_func['name']]\n",
    "        print(f\"\\nTesting 7-stage: {combo}\")\n",
    "        \n",
    "        # Convert names to function dicts\n",
    "        combo_funcs = [f for f in DEGRADATION_FUNCTIONS if f['name'] in combo]\n",
    "        \n",
    "        # Test with reduced images for speed\n",
    "        result = test_combination(combo_funcs, num_images)\n",
    "        result['combination'] = combo\n",
    "        results.append(result)\n",
    "    \n",
    "    # Save and analyze\n",
    "    df = pd.DataFrame(results)\n",
    "    df.to_csv(\"seven_stage_results.csv\", index=False)\n",
    "    \n",
    "    best = df.loc[df['fid'].idxmin()]\n",
    "    print(f\"\\nBest 7-stage: {best['combination']}\")\n",
    "    print(f\"FID: {best['fid']:.2f}, KID: {best['kid']:.4f}\")\n",
    "    return df\n",
    "\n",
    "# Uncomment to run:\n",
    "# seven_stage_results = test_seven_stage_combinations(num_images=50)"
   ]
  },
  {
   "cell_type": "code",
   "execution_count": 55,
   "id": "498b1271",
   "metadata": {},
   "outputs": [
    {
     "name": "stdout",
     "output_type": "stream",
     "text": [
      "\n",
      "Testing 7-stage: ['median_filter', 'color_quantization', 'chromatic_aberration', 'bilateral_filter', 'motion_blur', 'gaussian_blur', 'downscale_upscale']\n"
     ]
    },
    {
     "name": "stderr",
     "output_type": "stream",
     "text": [
      "Processing ['downscale_upscale', 'gaussian_blur', 'median_filter', 'bilateral_filter', 'color_quantization', 'motion_blur', 'chromatic_aberration']: 100%|██████████| 1000/1000 [01:03<00:00, 15.74it/s]\n"
     ]
    },
    {
     "name": "stdout",
     "output_type": "stream",
     "text": [
      "compute FID between two folders\n",
      "Found 1000 images in the folder ./Temp_Game/\n"
     ]
    },
    {
     "name": "stderr",
     "output_type": "stream",
     "text": [
      "FID  : 100%|██████████| 32/32 [00:15<00:00,  2.11it/s]\n"
     ]
    },
    {
     "name": "stdout",
     "output_type": "stream",
     "text": [
      "Found 1000 images in the folder ./temp_degraded/\n"
     ]
    },
    {
     "name": "stderr",
     "output_type": "stream",
     "text": [
      "FID  : 100%|██████████| 32/32 [00:07<00:00,  4.14it/s]\n"
     ]
    },
    {
     "name": "stdout",
     "output_type": "stream",
     "text": [
      "compute KID between two folders\n",
      "Found 1000 images in the folder ./Temp_Game/\n"
     ]
    },
    {
     "name": "stderr",
     "output_type": "stream",
     "text": [
      "KID  : 100%|██████████| 32/32 [00:21<00:00,  1.50it/s]\n"
     ]
    },
    {
     "name": "stdout",
     "output_type": "stream",
     "text": [
      "Found 1000 images in the folder ./temp_degraded/\n"
     ]
    },
    {
     "name": "stderr",
     "output_type": "stream",
     "text": [
      "KID  : 100%|██████████| 32/32 [00:11<00:00,  2.70it/s]\n"
     ]
    },
    {
     "name": "stdout",
     "output_type": "stream",
     "text": [
      "\n",
      "Testing 7-stage: ['median_filter', 'color_quantization', 'chromatic_aberration', 'bilateral_filter', 'motion_blur', 'gaussian_blur', 'enhance_edges']\n"
     ]
    },
    {
     "name": "stderr",
     "output_type": "stream",
     "text": [
      "Processing ['enhance_edges', 'gaussian_blur', 'median_filter', 'bilateral_filter', 'color_quantization', 'motion_blur', 'chromatic_aberration']: 100%|██████████| 1000/1000 [01:04<00:00, 15.60it/s]\n"
     ]
    },
    {
     "name": "stdout",
     "output_type": "stream",
     "text": [
      "compute FID between two folders\n",
      "Found 1000 images in the folder ./Temp_Game/\n"
     ]
    },
    {
     "name": "stderr",
     "output_type": "stream",
     "text": [
      "FID  : 100%|██████████| 32/32 [00:15<00:00,  2.08it/s]\n"
     ]
    },
    {
     "name": "stdout",
     "output_type": "stream",
     "text": [
      "Found 1000 images in the folder ./temp_degraded/\n"
     ]
    },
    {
     "name": "stderr",
     "output_type": "stream",
     "text": [
      "FID  : 100%|██████████| 32/32 [00:07<00:00,  4.14it/s]\n"
     ]
    },
    {
     "name": "stdout",
     "output_type": "stream",
     "text": [
      "compute KID between two folders\n",
      "Found 1000 images in the folder ./Temp_Game/\n"
     ]
    },
    {
     "name": "stderr",
     "output_type": "stream",
     "text": [
      "KID  : 100%|██████████| 32/32 [00:21<00:00,  1.50it/s]\n"
     ]
    },
    {
     "name": "stdout",
     "output_type": "stream",
     "text": [
      "Found 1000 images in the folder ./temp_degraded/\n"
     ]
    },
    {
     "name": "stderr",
     "output_type": "stream",
     "text": [
      "KID  : 100%|██████████| 32/32 [00:11<00:00,  2.69it/s]\n"
     ]
    },
    {
     "name": "stdout",
     "output_type": "stream",
     "text": [
      "\n",
      "Best 7-stage: ['median_filter', 'color_quantization', 'chromatic_aberration', 'bilateral_filter', 'motion_blur', 'gaussian_blur', 'downscale_upscale']\n",
      "FID: 47.54, KID: 0.0583\n"
     ]
    }
   ],
   "source": [
    "seven_stage_results = test_seven_stage_combinations(num_images=1000)"
   ]
  },
  {
   "cell_type": "code",
   "execution_count": 42,
   "id": "dbd0f8fa",
   "metadata": {},
   "outputs": [],
   "source": [
    "import os\n",
    "import shutil\n",
    "import numpy as np\n",
    "import pandas as pd\n",
    "from tqdm import tqdm\n",
    "from PIL import Image\n",
    "import itertools\n",
    "import torch"
   ]
  },
  {
   "cell_type": "code",
   "execution_count": 43,
   "id": "990b80fc",
   "metadata": {},
   "outputs": [],
   "source": [
    "# Disable multiprocessing for KID to prevent errors\n",
    "os.environ['CUDA_LAUNCH_BLOCKING'] = '1'\n",
    "torch.backends.cudnn.deterministic = True\n",
    "\n",
    "# Define the specific operations to permute\n",
    "best_ops = ['median_filter', 'color_quantization', 'chromatic_aberration']"
   ]
  },
  {
   "cell_type": "code",
   "execution_count": 45,
   "id": "123dac74",
   "metadata": {},
   "outputs": [],
   "source": [
    "# Configuration\n",
    "PARAM_RANGES = {\n",
    "    'median_filter': {'kernel_size': [3, 5, 7]},\n",
    "    'color_quantization': {'n_colors': [32, 64]},\n",
    "    'chromatic_aberration': {'max_shift': (1.0, 2.0)}\n",
    "}\n",
    "NUM_IMAGES = 1000\n",
    "BATCH_SIZE = 100  # Adjust based on GPU memory"
   ]
  },
  {
   "cell_type": "code",
   "execution_count": 46,
   "id": "04c2d76e",
   "metadata": {},
   "outputs": [],
   "source": [
    "def safe_metric_calc(ref_dir, eval_dir):\n",
    "    \"\"\"Handle metric calculation with multiprocessing workaround\"\"\"\n",
    "    try:\n",
    "        # Calculate FID\n",
    "        fid_score = fid.compute_fid(ref_dir, eval_dir, num_workers=0)  # Disable multiprocessing\n",
    "        \n",
    "        # Calculate KID with single worker\n",
    "        kid_score = fid.compute_kid(ref_dir, eval_dir, num_workers=0)\n",
    "        \n",
    "        return fid_score, kid_score\n",
    "    except Exception as e:\n",
    "        print(f\"Metric calculation failed: {str(e)}\")\n",
    "        return float('nan'), float('nan')\n"
   ]
  },
  {
   "cell_type": "code",
   "execution_count": 47,
   "id": "debae63e",
   "metadata": {},
   "outputs": [],
   "source": [
    "def process_permutation(order, num_images):\n",
    "    \"\"\"Process one permutation with batch support\"\"\"\n",
    "    temp_dir = f\"./temp_permtest/{'_'.join(order)}/\"\n",
    "    os.makedirs(temp_dir, exist_ok=True)\n",
    "    \n",
    "    # Generate random parameters\n",
    "    params = {\n",
    "        op: {k: np.random.choice(v) if isinstance(v, list) \n",
    "             else np.random.uniform(v[0], v[1])\n",
    "             for k, v in PARAM_RANGES[op].items()}\n",
    "        for op in order\n",
    "    }\n",
    "    \n",
    "    # Process in batches\n",
    "    processed = 0\n",
    "    while processed < num_images:\n",
    "        current_batch = min(BATCH_SIZE, num_images - processed)\n",
    "        batch_images = select_random_images(PATHS[\"real\"], current_batch)\n",
    "        \n",
    "        for filename in batch_images:\n",
    "            img = Image.open(os.path.join(PATHS[\"real\"], filename)).convert('RGB')\n",
    "            img_tensor = pil_to_tensor(img)\n",
    "            \n",
    "            for op in order:\n",
    "                if op == 'median_filter':\n",
    "                    img_tensor = apply_median_filter(img_tensor, **params[op])\n",
    "                elif op == 'color_quantization':\n",
    "                    img_tensor = apply_color_quantization(img_tensor, **params[op])\n",
    "                elif op == 'chromatic_aberration':\n",
    "                    img_tensor = add_chromatic_aberration(img_tensor, **params[op])\n",
    "            \n",
    "            tensor_to_pil(img_tensor).save(os.path.join(temp_dir, f\"{processed}_{filename}\"))\n",
    "            processed += 1\n",
    "    \n",
    "    # Calculate metrics\n",
    "    fid_score, kid_score = safe_metric_calc(PATHS[\"Temp_Game\"], temp_dir)\n",
    "    shutil.rmtree(temp_dir)\n",
    "    \n",
    "    return {\n",
    "        'order': order,\n",
    "        'fid': fid_score,\n",
    "        'kid': kid_score,\n",
    "        **{f'{op}_params': params[op] for op in order}\n",
    "    }"
   ]
  },
  {
   "cell_type": "code",
   "execution_count": 48,
   "id": "68772d37",
   "metadata": {},
   "outputs": [],
   "source": [
    "def test_all_permutations():\n",
    "    \"\"\"Main test function with error handling\"\"\"\n",
    "    permutations = list(itertools.permutations(best_ops))\n",
    "    results = []\n",
    "    \n",
    "    print(f\"Testing {len(permutations)} permutations with {NUM_IMAGES} images each\")\n",
    "    \n",
    "    for order in tqdm(permutations, desc=\"Permutations\"):\n",
    "        try:\n",
    "            results.append(process_permutation(order, NUM_IMAGES))\n",
    "        except Exception as e:\n",
    "            print(f\"Failed {order}: {str(e)}\")\n",
    "            continue\n",
    "    \n",
    "    # Save and display results\n",
    "    df = pd.DataFrame(results)\n",
    "    df.to_csv(\"permutation_results_1000img.csv\", index=False)\n",
    "    \n",
    "    print(\"\\n=== Top Performers ===\")\n",
    "    print(df.sort_values('fid').head().to_string(index=False))\n",
    "    \n",
    "    return df\n"
   ]
  },
  {
   "cell_type": "code",
   "execution_count": 49,
   "id": "4eb433b7",
   "metadata": {},
   "outputs": [
    {
     "name": "stdout",
     "output_type": "stream",
     "text": [
      "Testing 6 permutations with 1000 images each\n"
     ]
    },
    {
     "name": "stderr",
     "output_type": "stream",
     "text": [
      "Permutations:   0%|          | 0/6 [00:00<?, ?it/s]"
     ]
    },
    {
     "name": "stdout",
     "output_type": "stream",
     "text": [
      "compute FID between two folders\n",
      "Found 1000 images in the folder ./Temp_Game/\n"
     ]
    },
    {
     "name": "stderr",
     "output_type": "stream",
     "text": [
      "FID  : 100%|██████████| 32/32 [00:24<00:00,  1.31it/s]\n"
     ]
    },
    {
     "name": "stdout",
     "output_type": "stream",
     "text": [
      "Found 1100 images in the folder ./temp_permtest/median_filter_color_quantization_chromatic_aberration/\n"
     ]
    },
    {
     "name": "stderr",
     "output_type": "stream",
     "text": [
      "FID  : 100%|██████████| 35/35 [00:13<00:00,  2.53it/s]\n"
     ]
    },
    {
     "name": "stdout",
     "output_type": "stream",
     "text": [
      "compute KID between two folders\n",
      "Found 1000 images in the folder ./Temp_Game/\n"
     ]
    },
    {
     "name": "stderr",
     "output_type": "stream",
     "text": [
      "KID  : 100%|██████████| 32/32 [00:24<00:00,  1.33it/s]\n"
     ]
    },
    {
     "name": "stdout",
     "output_type": "stream",
     "text": [
      "Found 1100 images in the folder ./temp_permtest/median_filter_color_quantization_chromatic_aberration/\n"
     ]
    },
    {
     "name": "stderr",
     "output_type": "stream",
     "text": [
      "KID  : 100%|██████████| 35/35 [00:14<00:00,  2.49it/s]\n",
      "Permutations:  17%|█▋        | 1/6 [02:04<10:22, 124.59s/it]"
     ]
    },
    {
     "name": "stdout",
     "output_type": "stream",
     "text": [
      "compute FID between two folders\n",
      "Found 1000 images in the folder ./Temp_Game/\n"
     ]
    },
    {
     "name": "stderr",
     "output_type": "stream",
     "text": [
      "FID  : 100%|██████████| 32/32 [00:24<00:00,  1.29it/s]\n"
     ]
    },
    {
     "name": "stdout",
     "output_type": "stream",
     "text": [
      "Found 1000 images in the folder ./temp_permtest/median_filter_chromatic_aberration_color_quantization/\n"
     ]
    },
    {
     "name": "stderr",
     "output_type": "stream",
     "text": [
      "FID  : 100%|██████████| 32/32 [00:13<00:00,  2.45it/s]\n"
     ]
    },
    {
     "name": "stdout",
     "output_type": "stream",
     "text": [
      "compute KID between two folders\n",
      "Found 1000 images in the folder ./Temp_Game/\n"
     ]
    },
    {
     "name": "stderr",
     "output_type": "stream",
     "text": [
      "KID  : 100%|██████████| 32/32 [00:24<00:00,  1.33it/s]\n"
     ]
    },
    {
     "name": "stdout",
     "output_type": "stream",
     "text": [
      "Found 1000 images in the folder ./temp_permtest/median_filter_chromatic_aberration_color_quantization/\n"
     ]
    },
    {
     "name": "stderr",
     "output_type": "stream",
     "text": [
      "KID  : 100%|██████████| 32/32 [00:13<00:00,  2.44it/s]\n",
      "Permutations:  33%|███▎      | 2/6 [04:21<08:48, 132.01s/it]"
     ]
    },
    {
     "name": "stdout",
     "output_type": "stream",
     "text": [
      "compute FID between two folders\n",
      "Found 1000 images in the folder ./Temp_Game/\n"
     ]
    },
    {
     "name": "stderr",
     "output_type": "stream",
     "text": [
      "FID  : 100%|██████████| 32/32 [00:24<00:00,  1.31it/s]\n"
     ]
    },
    {
     "name": "stdout",
     "output_type": "stream",
     "text": [
      "Found 1000 images in the folder ./temp_permtest/color_quantization_median_filter_chromatic_aberration/\n"
     ]
    },
    {
     "name": "stderr",
     "output_type": "stream",
     "text": [
      "FID  : 100%|██████████| 32/32 [00:13<00:00,  2.44it/s]\n"
     ]
    },
    {
     "name": "stdout",
     "output_type": "stream",
     "text": [
      "compute KID between two folders\n",
      "Found 1000 images in the folder ./Temp_Game/\n"
     ]
    },
    {
     "name": "stderr",
     "output_type": "stream",
     "text": [
      "KID  : 100%|██████████| 32/32 [00:23<00:00,  1.34it/s]\n"
     ]
    },
    {
     "name": "stdout",
     "output_type": "stream",
     "text": [
      "Found 1000 images in the folder ./temp_permtest/color_quantization_median_filter_chromatic_aberration/\n"
     ]
    },
    {
     "name": "stderr",
     "output_type": "stream",
     "text": [
      "KID  : 100%|██████████| 32/32 [00:12<00:00,  2.52it/s]\n",
      "Permutations:  50%|█████     | 3/6 [06:47<06:54, 138.26s/it]"
     ]
    },
    {
     "name": "stdout",
     "output_type": "stream",
     "text": [
      "compute FID between two folders\n",
      "Found 1000 images in the folder ./Temp_Game/\n"
     ]
    },
    {
     "name": "stderr",
     "output_type": "stream",
     "text": [
      "FID  : 100%|██████████| 32/32 [00:24<00:00,  1.32it/s]\n"
     ]
    },
    {
     "name": "stdout",
     "output_type": "stream",
     "text": [
      "Found 1000 images in the folder ./temp_permtest/color_quantization_chromatic_aberration_median_filter/\n"
     ]
    },
    {
     "name": "stderr",
     "output_type": "stream",
     "text": [
      "FID  : 100%|██████████| 32/32 [00:13<00:00,  2.46it/s]\n"
     ]
    },
    {
     "name": "stdout",
     "output_type": "stream",
     "text": [
      "compute KID between two folders\n",
      "Found 1000 images in the folder ./Temp_Game/\n"
     ]
    },
    {
     "name": "stderr",
     "output_type": "stream",
     "text": [
      "KID  : 100%|██████████| 32/32 [00:24<00:00,  1.30it/s]\n"
     ]
    },
    {
     "name": "stdout",
     "output_type": "stream",
     "text": [
      "Found 1000 images in the folder ./temp_permtest/color_quantization_chromatic_aberration_median_filter/\n"
     ]
    },
    {
     "name": "stderr",
     "output_type": "stream",
     "text": [
      "KID  : 100%|██████████| 32/32 [00:13<00:00,  2.43it/s]\n",
      "Permutations:  67%|██████▋   | 4/6 [09:14<04:43, 141.56s/it]"
     ]
    },
    {
     "name": "stdout",
     "output_type": "stream",
     "text": [
      "compute FID between two folders\n",
      "Found 1000 images in the folder ./Temp_Game/\n"
     ]
    },
    {
     "name": "stderr",
     "output_type": "stream",
     "text": [
      "FID  : 100%|██████████| 32/32 [00:24<00:00,  1.30it/s]\n"
     ]
    },
    {
     "name": "stdout",
     "output_type": "stream",
     "text": [
      "Found 1000 images in the folder ./temp_permtest/chromatic_aberration_median_filter_color_quantization/\n"
     ]
    },
    {
     "name": "stderr",
     "output_type": "stream",
     "text": [
      "FID  : 100%|██████████| 32/32 [00:12<00:00,  2.55it/s]\n"
     ]
    },
    {
     "name": "stdout",
     "output_type": "stream",
     "text": [
      "compute KID between two folders\n",
      "Found 1000 images in the folder ./Temp_Game/\n"
     ]
    },
    {
     "name": "stderr",
     "output_type": "stream",
     "text": [
      "KID  : 100%|██████████| 32/32 [00:24<00:00,  1.33it/s]\n"
     ]
    },
    {
     "name": "stdout",
     "output_type": "stream",
     "text": [
      "Found 1000 images in the folder ./temp_permtest/chromatic_aberration_median_filter_color_quantization/\n"
     ]
    },
    {
     "name": "stderr",
     "output_type": "stream",
     "text": [
      "KID  : 100%|██████████| 32/32 [00:13<00:00,  2.46it/s]\n",
      "Permutations:  83%|████████▎ | 5/6 [11:10<02:12, 132.39s/it]"
     ]
    },
    {
     "name": "stdout",
     "output_type": "stream",
     "text": [
      "compute FID between two folders\n",
      "Found 1000 images in the folder ./Temp_Game/\n"
     ]
    },
    {
     "name": "stderr",
     "output_type": "stream",
     "text": [
      "FID  : 100%|██████████| 32/32 [00:25<00:00,  1.27it/s]\n"
     ]
    },
    {
     "name": "stdout",
     "output_type": "stream",
     "text": [
      "Found 1000 images in the folder ./temp_permtest/chromatic_aberration_color_quantization_median_filter/\n"
     ]
    },
    {
     "name": "stderr",
     "output_type": "stream",
     "text": [
      "FID  : 100%|██████████| 32/32 [00:13<00:00,  2.40it/s]\n"
     ]
    },
    {
     "name": "stdout",
     "output_type": "stream",
     "text": [
      "compute KID between two folders\n",
      "Found 1000 images in the folder ./Temp_Game/\n"
     ]
    },
    {
     "name": "stderr",
     "output_type": "stream",
     "text": [
      "KID  : 100%|██████████| 32/32 [00:24<00:00,  1.31it/s]\n"
     ]
    },
    {
     "name": "stdout",
     "output_type": "stream",
     "text": [
      "Found 1000 images in the folder ./temp_permtest/chromatic_aberration_color_quantization_median_filter/\n"
     ]
    },
    {
     "name": "stderr",
     "output_type": "stream",
     "text": [
      "KID  : 100%|██████████| 32/32 [00:13<00:00,  2.36it/s]\n",
      "Permutations: 100%|██████████| 6/6 [13:39<00:00, 136.52s/it]"
     ]
    },
    {
     "name": "stdout",
     "output_type": "stream",
     "text": [
      "\n",
      "=== Top Performers ===\n",
      "                                                    order       fid      kid median_filter_params color_quantization_params       chromatic_aberration_params\n",
      "(chromatic_aberration, color_quantization, median_filter) 83.926870 0.045520   {'kernel_size': 5}          {'n_colors': 64} {'max_shift': 1.5486217544720735}\n",
      "(median_filter, chromatic_aberration, color_quantization) 83.995777 0.045390   {'kernel_size': 3}          {'n_colors': 64} {'max_shift': 1.1296465641492346}\n",
      "(chromatic_aberration, median_filter, color_quantization) 87.307080 0.047760   {'kernel_size': 5}          {'n_colors': 32}  {'max_shift': 1.478661617997006}\n",
      "(color_quantization, chromatic_aberration, median_filter) 90.277830 0.054565   {'kernel_size': 5}          {'n_colors': 64} {'max_shift': 1.8619243153669514}\n",
      "(median_filter, color_quantization, chromatic_aberration) 91.354394 0.054427   {'kernel_size': 5}          {'n_colors': 32}   {'max_shift': 1.41712858447901}\n"
     ]
    },
    {
     "name": "stderr",
     "output_type": "stream",
     "text": [
      "\n"
     ]
    }
   ],
   "source": [
    "results = test_all_permutations()"
   ]
  },
  {
   "cell_type": "markdown",
   "id": "fec20bbc",
   "metadata": {},
   "source": []
  },
  {
   "cell_type": "code",
   "execution_count": null,
   "id": "574a1029",
   "metadata": {},
   "outputs": [],
   "source": []
  }
 ],
 "metadata": {
  "kernelspec": {
   "display_name": "base",
   "language": "python",
   "name": "python3"
  },
  "language_info": {
   "codemirror_mode": {
    "name": "ipython",
    "version": 3
   },
   "file_extension": ".py",
   "mimetype": "text/x-python",
   "name": "python",
   "nbconvert_exporter": "python",
   "pygments_lexer": "ipython3",
   "version": "3.12.8"
  }
 },
 "nbformat": 4,
 "nbformat_minor": 5
}
